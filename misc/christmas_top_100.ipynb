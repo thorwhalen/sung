{
 "cells": [
  {
   "cell_type": "code",
   "execution_count": null,
   "metadata": {},
   "outputs": [],
   "source": [
    "import sung"
   ]
  },
  {
   "cell_type": "markdown",
   "metadata": {},
   "source": [
    "# Visualize"
   ]
  },
  {
   "cell_type": "markdown",
   "metadata": {},
   "source": [
    "Let's delve directly into the visualizations of the prepared data. \n",
    "\n",
    "In a subsequent section, we can have a look at how the data was prepared. \n",
    "\n",
    "I'll say this though:\n",
    "* You can find some definitions of the audio features in this [Spotify's API documentation page](https://developer.spotify.com/documentation/web-api/reference/get-audio-features)\n",
    "* the tsne_* and umap_* are planar projections of the numerical features (audio features, duration_ms etc.) so that we can squish the multi dimensional numerical features into a 2d screen."
   ]
  },
  {
   "cell_type": "code",
   "execution_count": null,
   "metadata": {},
   "outputs": [],
   "source": [
    "import pandas as pd\n",
    "from cosmograph import cosmo"
   ]
  },
  {
   "cell_type": "code",
   "execution_count": 216,
   "metadata": {},
   "outputs": [
    {
     "name": "stdout",
     "output_type": "stream",
     "text": [
      "df.shape=(167, 27)\n"
     ]
    },
    {
     "data": {
      "text/plain": [
       "column_a                                                            1\n",
       "track_uri                                      00IqwkT0PZhJ86PJajRCqk\n",
       "danceability                                                    0.195\n",
       "energy                                                          0.348\n",
       "key                                                                A#\n",
       "loudness                                                      -10.106\n",
       "mode                                                            major\n",
       "speechiness                                                    0.0332\n",
       "acousticness                                                     0.82\n",
       "instrumentalness                                                  0.0\n",
       "liveness                                                        0.126\n",
       "valence                                                         0.262\n",
       "tempo                                                         166.824\n",
       "duration_ms                                                    213107\n",
       "time_signature                                                      3\n",
       "key_mode                                                     A# major\n",
       "playlist_name                                       new_holiday_songs\n",
       "playlist_img        https://mosaic.scdn.co/640/5f79f928a45b878579e...\n",
       "track_name                                               Silver Bells\n",
       "artist_name                                             Johnny Mathis\n",
       "album_name                                            Merry Christmas\n",
       "album_img           https://i.scdn.co/image/b878b9e27201163be07e74...\n",
       "key_frequency                                                  466.16\n",
       "tsne_x                                                      -3.450695\n",
       "tsne_y                                                       0.430347\n",
       "umap_x                                                      11.800123\n",
       "umap_y                                                       8.495023\n",
       "Name: 0, dtype: object"
      ]
     },
     "execution_count": 216,
     "metadata": {},
     "output_type": "execute_result"
    }
   ],
   "source": [
    "# get prepared data\n",
    "url = 'https://www.dropbox.com/scl/fi/blchigtklrn49cp9v7aga/holiday_songs_spotify_with_embeddings.parquet?rlkey=wvr58wnj1rrx2zblsp73ufpdy&dl=1'\n",
    "df = pd.read_parquet(url)\n",
    "print(f\"{df.shape=}\")\n",
    "df.iloc[0]"
   ]
  },
  {
   "cell_type": "code",
   "execution_count": null,
   "metadata": {},
   "outputs": [
    {
     "data": {
      "application/vnd.jupyter.widget-view+json": {
       "model_id": "6f74245ce8c449139d48984e01ef7165",
       "version_major": 2,
       "version_minor": 0
      },
      "text/plain": [
       "Cosmograph(background_color='black', focused_point_ring_color=None, hovered_point_ring_color=None, link_color=…"
      ]
     },
     "metadata": {},
     "output_type": "display_data"
    }
   ],
   "source": [
    "from cosmograph import cosmo\n",
    "\n",
    "# Danceability vs. Energy: The Holiday Party Sweet Spot\n",
    "cosmo(\n",
    "    df,\n",
    "    point_x_by='danceability',\n",
    "    point_y_by='energy',\n",
    "    point_size_by='key_frequency',  # If unavailable, consider 'tempo'\n",
    "    point_color_by='mode',\n",
    "    point_label_by='track_name',\n",
    "    point_size_scale=0.005,\n",
    "    background_color='black',\n",
    ")\n"
   ]
  },
  {
   "cell_type": "code",
   "execution_count": null,
   "metadata": {},
   "outputs": [
    {
     "data": {
      "application/vnd.jupyter.widget-view+json": {
       "model_id": "d5c68ee5ac4547a18d68f2c563400628",
       "version_major": 2,
       "version_minor": 0
      },
      "text/plain": [
       "Cosmograph(background_color='black', focused_point_ring_color=None, hovered_point_ring_color=None, link_color=…"
      ]
     },
     "metadata": {},
     "output_type": "display_data"
    }
   ],
   "source": [
    "from cosmograph import cosmo\n",
    "\n",
    "# Danceability vs. Energy: The Holiday Party Sweet Spot\n",
    "cosmo(\n",
    "    df,\n",
    "    point_x_by='danceability',\n",
    "    point_y_by='valence',\n",
    "    point_size_by='loudness', \n",
    "    point_color_by='key',\n",
    "    point_label_by='track_name',\n",
    "    point_size_scale=0.01,\n",
    "    background_color='black',\n",
    ")\n"
   ]
  },
  {
   "cell_type": "markdown",
   "metadata": {},
   "source": [
    "## Add planar embeddings"
   ]
  },
  {
   "cell_type": "code",
   "execution_count": null,
   "metadata": {},
   "outputs": [
    {
     "data": {
      "application/vnd.jupyter.widget-view+json": {
       "model_id": "45b4eacfb7cd4f77a11437da25b488d3",
       "version_major": 2,
       "version_minor": 0
      },
      "text/plain": [
       "Cosmograph(background_color='black', focused_point_ring_color=None, hovered_point_ring_color=None, link_color=…"
      ]
     },
     "metadata": {},
     "output_type": "display_data"
    }
   ],
   "source": [
    "cosmo(\n",
    "    df,\n",
    "    point_x_by='tsne_x',\n",
    "    point_y_by='tsne_y',\n",
    "    point_size_by='energy',\n",
    "    point_color_by='key_frequency',\n",
    "    point_label_by='track_name',\n",
    "    point_size_scale=0.1,\n",
    "    background_color='black',\n",
    ")"
   ]
  },
  {
   "cell_type": "code",
   "execution_count": null,
   "metadata": {},
   "outputs": [
    {
     "data": {
      "application/vnd.jupyter.widget-view+json": {
       "model_id": "41f6e33fca6e4780b4360ca63acc6cfc",
       "version_major": 2,
       "version_minor": 0
      },
      "text/plain": [
       "Cosmograph(background_color='black', focused_point_ring_color=None, hovered_point_ring_color=None, link_color=…"
      ]
     },
     "metadata": {},
     "output_type": "display_data"
    }
   ],
   "source": [
    "cosmo(\n",
    "    df,\n",
    "    point_x_by='umap_x',\n",
    "    point_y_by='umap_y',\n",
    "    point_size_by='energy',\n",
    "    point_color_by='key_frequency',\n",
    "    point_label_by='track_name',\n",
    "    point_size_scale=0.03,\n",
    "    background_color='black',\n",
    ")"
   ]
  },
  {
   "cell_type": "code",
   "execution_count": null,
   "metadata": {},
   "outputs": [],
   "source": []
  },
  {
   "cell_type": "markdown",
   "metadata": {},
   "source": [
    "# Get and prepare data"
   ]
  },
  {
   "cell_type": "code",
   "execution_count": 104,
   "metadata": {},
   "outputs": [
    {
     "name": "stdout",
     "output_type": "stream",
     "text": [
      "df.shape=(167, 22)\n"
     ]
    },
    {
     "data": {
      "text/plain": [
       "column_a                                                            1\n",
       "track_uri                                      00IqwkT0PZhJ86PJajRCqk\n",
       "danceability                                                    0.195\n",
       "energy                                                          0.348\n",
       "key                                                                A#\n",
       "loudness                                                      -10.106\n",
       "mode                                                            major\n",
       "speechiness                                                    0.0332\n",
       "acousticness                                                     0.82\n",
       "instrumentalness                                                  0.0\n",
       "liveness                                                        0.126\n",
       "valence                                                         0.262\n",
       "tempo                                                         166.824\n",
       "duration_ms                                                    213107\n",
       "time_signature                                                      3\n",
       "key_mode                                                     A# major\n",
       "playlist_name                                       new_holiday_songs\n",
       "playlist_img        https://mosaic.scdn.co/640/5f79f928a45b878579e...\n",
       "track_name                                               Silver Bells\n",
       "artist_name                                             Johnny Mathis\n",
       "album_name                                            Merry Christmas\n",
       "album_img           https://i.scdn.co/image/b878b9e27201163be07e74...\n",
       "Name: 0, dtype: object"
      ]
     },
     "execution_count": 104,
     "metadata": {},
     "output_type": "execute_result"
    }
   ],
   "source": [
    "import pandas as pd \n",
    "\n",
    "some_holidays_playlist = 'https://www.data-action-lab.com/wp-content/uploads/2019/12/holiday_songs_spotify.csv'\n",
    "\n",
    "df = pd.read_csv(some_holidays_playlist)\n",
    "print(f\"{df.shape=}\")\n",
    "df.iloc[0]"
   ]
  },
  {
   "cell_type": "markdown",
   "metadata": {},
   "source": [
    "## Map keys to frequencies (to get numericals)"
   ]
  },
  {
   "cell_type": "code",
   "execution_count": 206,
   "metadata": {},
   "outputs": [],
   "source": [
    "\n",
    "frequencies = {\n",
    "    \"A\": 440,\n",
    "    \"A#\": 466.16,\n",
    "    \"B\": 493.88,\n",
    "    \"C\": 523.25,\n",
    "    \"C#\": 554.37,\n",
    "    \"D\": 587.33,\n",
    "    \"D#\": 622.25,\n",
    "    \"E\": 659.25,\n",
    "    \"F\": 698.46,\n",
    "    \"F#\": 739.99,\n",
    "    \"G\": 783.99,\n",
    "    \"G#\": 830.61,\n",
    "}\n",
    "\n",
    "df['key_frequency'] = df['key'].map(frequencies)"
   ]
  },
  {
   "cell_type": "markdown",
   "metadata": {},
   "source": [
    "## Make planar projections of the multidimensional numerical data "
   ]
  },
  {
   "cell_type": "code",
   "execution_count": 207,
   "metadata": {},
   "outputs": [],
   "source": [
    "numerical_columns = [\n",
    "    'column_a',\n",
    "    'danceability',\n",
    "    'energy',\n",
    "    'loudness',\n",
    "    'speechiness',\n",
    "    'acousticness',\n",
    "    'instrumentalness',\n",
    "    'liveness',\n",
    "    'valence',\n",
    "    'tempo',\n",
    "    'duration_ms',\n",
    "    'key_frequency',\n",
    "]"
   ]
  },
  {
   "cell_type": "code",
   "execution_count": 208,
   "metadata": {},
   "outputs": [
    {
     "data": {
      "text/plain": [
       "column_a                                                            1\n",
       "track_uri                                      00IqwkT0PZhJ86PJajRCqk\n",
       "danceability                                                    0.195\n",
       "energy                                                          0.348\n",
       "key                                                                A#\n",
       "loudness                                                      -10.106\n",
       "mode                                                            major\n",
       "speechiness                                                    0.0332\n",
       "acousticness                                                     0.82\n",
       "instrumentalness                                                  0.0\n",
       "liveness                                                        0.126\n",
       "valence                                                         0.262\n",
       "tempo                                                         166.824\n",
       "duration_ms                                                    213107\n",
       "time_signature                                                      3\n",
       "key_mode                                                     A# major\n",
       "playlist_name                                       new_holiday_songs\n",
       "playlist_img        https://mosaic.scdn.co/640/5f79f928a45b878579e...\n",
       "track_name                                               Silver Bells\n",
       "artist_name                                             Johnny Mathis\n",
       "album_name                                            Merry Christmas\n",
       "album_img           https://i.scdn.co/image/b878b9e27201163be07e74...\n",
       "key_frequency                                                  466.16\n",
       "tsne_x                                                      -3.450695\n",
       "tsne_y                                                       0.430347\n",
       "umap_x                                                      11.800123\n",
       "umap_y                                                       8.495023\n",
       "Name: 0, dtype: object"
      ]
     },
     "execution_count": 208,
     "metadata": {},
     "output_type": "execute_result"
    }
   ],
   "source": [
    "from imbed import planar_embeddings, planar_embeddings_dict_to_df\n",
    "\n",
    "tsne_xy = planar_embeddings(df[numerical_columns].values, embeddings_func='tsne')\n",
    "tsne_xy = planar_embeddings_dict_to_df(tsne_xy, x_col='tsne_x', y_col='tsne_y')\n",
    "umap_xy = planar_embeddings(df[numerical_columns].values, embeddings_func='umap')\n",
    "umap_xy = planar_embeddings_dict_to_df(umap_xy, x_col='umap_x', y_col='umap_y')\n",
    "\n",
    "df = pd.concat([df, tsne_xy, umap_xy], axis=1)\n",
    "df.iloc[0]\n"
   ]
  },
  {
   "cell_type": "code",
   "execution_count": 209,
   "metadata": {},
   "outputs": [],
   "source": [
    "# save the prepared data\n",
    "df.to_csv('holiday_songs_spotify_with_embeddings.csv', index=False)\n",
    "df.to_parquet('holiday_songs_spotify_with_embeddings.parquet', index=False)"
   ]
  },
  {
   "cell_type": "code",
   "execution_count": 215,
   "metadata": {},
   "outputs": [
    {
     "data": {
      "text/plain": [
       "'/Users/thorwhalen/Dropbox/py/proj/t/sung/misc'"
      ]
     },
     "execution_count": 215,
     "metadata": {},
     "output_type": "execute_result"
    }
   ],
   "source": [
    "pwd"
   ]
  },
  {
   "cell_type": "markdown",
   "metadata": {},
   "source": [
    "# Appendix: Anathor dataset: christmas_billboard_data"
   ]
  },
  {
   "cell_type": "markdown",
   "metadata": {},
   "source": [
    "## Get raw source dataset"
   ]
  },
  {
   "cell_type": "code",
   "execution_count": null,
   "metadata": {},
   "outputs": [
    {
     "data": {
      "text/plain": [
       "['christmas_billboard_data.csv']"
      ]
     },
     "execution_count": 4,
     "metadata": {},
     "output_type": "execute_result"
    }
   ],
   "source": [
    "# first, let's download the dataset of top 100 christmas carols through the ages. \n",
    "# I found this on kaggle here: https://www.kaggle.com/datasets/sharkbait1223/billboard-top-100-christmas-carol-dataset\n",
    "# I use the `haggle` package to find and manage my kaggle datasets.\n",
    "\n",
    "from haggle import KaggleDatasets\n",
    "\n",
    "kaggle_datasets = KaggleDatasets()\n",
    "s = kaggle_datasets['sharkbait1223/billboard-top-100-christmas-carol-dataset']\n",
    "list(s)"
   ]
  },
  {
   "cell_type": "code",
   "execution_count": null,
   "metadata": {},
   "outputs": [
    {
     "name": "stdout",
     "output_type": "stream",
     "text": [
      "billboard.shape=(387, 13)\n"
     ]
    },
    {
     "data": {
      "text/plain": [
       "url                       http://www.billboard.com/charts/hot-100/1958-1...\n",
       "weekid                                                           12/13/1958\n",
       "week_position                                                            83\n",
       "song                                                        RUN RUDOLPH RUN\n",
       "performer                                                       Chuck Berry\n",
       "songid                                           Run Rudolph RunChuck Berry\n",
       "instance                                                                  1\n",
       "previous_week_position                                                  NaN\n",
       "peak_position                                                            69\n",
       "weeks_on_chart                                                            3\n",
       "year                                                                   1958\n",
       "month                                                                    12\n",
       "day                                                                      13\n",
       "Name: 0, dtype: object"
      ]
     },
     "execution_count": 5,
     "metadata": {},
     "output_type": "execute_result"
    }
   ],
   "source": [
    "import pandas as pd\n",
    "import io\n",
    "\n",
    "top_christmas = pd.read_csv(io.BytesIO(s['christmas_billboard_data.csv']))\n",
    "print(f\"{top_christmas.shape=}\")\n",
    "top_christmas.iloc[0]"
   ]
  },
  {
   "cell_type": "markdown",
   "metadata": {},
   "source": [
    "## Use the spotify API to get more song information"
   ]
  },
  {
   "cell_type": "markdown",
   "metadata": {},
   "source": [
    "Now let's find a recording (the first of a search) of each song on spotify and make a playlist out of it."
   ]
  },
  {
   "cell_type": "code",
   "execution_count": null,
   "metadata": {},
   "outputs": [],
   "source": [
    "from sung import Tracks\n",
    "\n",
    "def row_to_query(row):\n",
    "    \"\"\"\n",
    "    Generate a Spotify search query from a DataFrame row.\n",
    "    \"\"\"\n",
    "    track, artist = row['song'], row['performer']\n",
    "    query_str = f'track:\"{track}\" artist:\"{artist}\"'\n",
    "    return query_str\n",
    "\n",
    "def row_to_track_id(row):\n",
    "    \"\"\"\n",
    "    Get the track ID of a song from a DataFrame row using the Spotify API.\n",
    "    \"\"\"\n",
    "    query = row_to_query(row)\n",
    "    return next(iter(Tracks.search(query)), None)\n",
    "\n",
    "def track_ids_of_dataframe(df):\n",
    "    \"\"\"\n",
    "    Yield track IDs for all rows in a DataFrame.\n",
    "    \"\"\"\n",
    "    for _, row in df.iterrows():\n",
    "        yield row_to_track_id(row)"
   ]
  },
  {
   "cell_type": "code",
   "execution_count": null,
   "metadata": {},
   "outputs": [],
   "source": [
    "christmas_track_ids = list(track_ids_of_dataframe(top_christmas))\n",
    "print(f\"{len(christmas_track_ids)=}\")"
   ]
  },
  {
   "cell_type": "code",
   "execution_count": null,
   "metadata": {},
   "outputs": [],
   "source": [
    "top_christmas['spotify_track_id'] = christmas_track_ids"
   ]
  },
  {
   "cell_type": "code",
   "execution_count": null,
   "metadata": {},
   "outputs": [],
   "source": [
    "# Some songs were not found. Let's see how many\n",
    "failed_finds = top_christmas['spotify_track_id'].isna()\n",
    "print(f\"{failed_finds.sum()=}\")"
   ]
  },
  {
   "cell_type": "markdown",
   "metadata": {},
   "source": [
    "## Make a playlist with these"
   ]
  },
  {
   "cell_type": "code",
   "execution_count": 84,
   "metadata": {},
   "outputs": [
    {
     "data": {
      "text/plain": [
       "70"
      ]
     },
     "execution_count": 84,
     "metadata": {},
     "output_type": "execute_result"
    }
   ],
   "source": [
    "track_ids = top_christmas['spotify_track_id'].dropna().unique()\n",
    "len(track_ids)"
   ]
  },
  {
   "cell_type": "code",
   "execution_count": 85,
   "metadata": {},
   "outputs": [
    {
     "name": "stdout",
     "output_type": "stream",
     "text": [
      "\n",
      "Playlist '6u9WxulfSgXyT24IGyNH8m' created successfully.\n"
     ]
    }
   ],
   "source": [
    "from sung import Playlist\n",
    "\n",
    "playlist = Playlist.create_from_track_list(\n",
    "    track_list=track_ids,\n",
    "    playlist_name='top_christmas_carols',\n",
    ")\n",
    "print(f\"\\nPlaylist '{playlist.playlist_id}' created successfully.\")"
   ]
  },
  {
   "cell_type": "markdown",
   "metadata": {},
   "source": [
    "## Get the playlist, and metadata about the tracks"
   ]
  },
  {
   "cell_type": "code",
   "execution_count": 86,
   "metadata": {},
   "outputs": [
    {
     "data": {
      "text/plain": [
       "70"
      ]
     },
     "execution_count": 86,
     "metadata": {},
     "output_type": "execute_result"
    }
   ],
   "source": [
    "playlist = Playlist('6u9WxulfSgXyT24IGyNH8m')\n",
    "len(playlist)"
   ]
  },
  {
   "cell_type": "code",
   "execution_count": 101,
   "metadata": {},
   "outputs": [
    {
     "data": {
      "text/plain": [
       "'https://open.spotify.com/playlist/6u9WxulfSgXyT24IGyNH8m'"
      ]
     },
     "execution_count": 101,
     "metadata": {},
     "output_type": "execute_result"
    }
   ],
   "source": [
    "playlist.playlist_url"
   ]
  },
  {
   "cell_type": "code",
   "execution_count": null,
   "metadata": {},
   "outputs": [],
   "source": [
    "# WARNING: This is a bit fidly -- API conditions and credentials are not clear\n",
    "numerical_features_df = playlist.numerical_features_df()\n",
    "print(f\"{numerical_features_df.shape=}\")\n",
    "numerical_features_df.iloc[0]"
   ]
  },
  {
   "cell_type": "code",
   "execution_count": null,
   "metadata": {},
   "outputs": [],
   "source": []
  },
  {
   "cell_type": "markdown",
   "metadata": {},
   "source": [
    "# Appendix: Scrap"
   ]
  },
  {
   "cell_type": "code",
   "execution_count": 67,
   "metadata": {},
   "outputs": [],
   "source": [
    "from dataclasses import dataclass\n",
    "from sung import Tracks\n",
    "import pandas as pd\n",
    "\n",
    "\n",
    "@dataclass\n",
    "class TrackQuery:\n",
    "    \"\"\"\n",
    "    :param dataframe: The pandas DataFrame containing song data.\n",
    "    :param include_artist: Whether to include the artist in the search query.\n",
    "    :param include_year: Whether to include the year in the search query.\n",
    "    :param year_tolerance: The tolerance range for the year in the search query.\n",
    "    \"\"\"\n",
    "\n",
    "    dataframe: pd.DataFrame\n",
    "    include_artist: bool = True\n",
    "    include_year: bool = False\n",
    "    year_tolerance: int = 0\n",
    "    title_col: str = 'song'\n",
    "    artist_col: str = 'performer'\n",
    "    year_col: str = 'year'\n",
    "\n",
    "    def row_to_query(self, row):\n",
    "        \"\"\"\n",
    "        Generate a Spotify search query from a DataFrame row.\n",
    "        \"\"\"\n",
    "        track, artist, year = (\n",
    "            row[self.title_col],\n",
    "            row[self.artist_col],\n",
    "            row[self.year_col],\n",
    "        )\n",
    "        query_str = f'track:\"{track}\"'\n",
    "        if self.include_artist:\n",
    "            query_str += f' artist:\"{artist}\"'\n",
    "        if self.include_year:\n",
    "            year = int(year)\n",
    "            query_str += (\n",
    "                f' year:{year - self.year_tolerance}-{year + self.year_tolerance}'\n",
    "            )\n",
    "        return query_str\n",
    "\n",
    "    def row_to_track_id(self, row):\n",
    "        \"\"\"\n",
    "        Get the track ID of a song from a DataFrame row using the Spotify API.\n",
    "        \"\"\"\n",
    "        query = self.row_to_query(row)\n",
    "        return next(iter(Tracks.search(query)), None)\n",
    "\n",
    "    def track_ids(self):\n",
    "        \"\"\"\n",
    "        Yield track IDs for all rows in the DataFrame.\n",
    "        \"\"\"\n",
    "        for _, row in self.dataframe.iterrows():\n",
    "            yield self.row_to_track_id(row)"
   ]
  },
  {
   "cell_type": "code",
   "execution_count": 68,
   "metadata": {},
   "outputs": [],
   "source": [
    "christmas_tracks = TrackQuery(top_christmas)"
   ]
  },
  {
   "cell_type": "code",
   "execution_count": 51,
   "metadata": {},
   "outputs": [
    {
     "name": "stdout",
     "output_type": "stream",
     "text": [
      "len(christmas_track_ids)=387\n"
     ]
    }
   ],
   "source": [
    "christmas_track_ids = list(christmas_tracks.track_ids())\n",
    "print(f\"{len(christmas_track_ids)=}\")"
   ]
  },
  {
   "cell_type": "code",
   "execution_count": 52,
   "metadata": {},
   "outputs": [],
   "source": [
    "top_christmas['spotify_track_id'] = christmas_track_ids"
   ]
  },
  {
   "cell_type": "code",
   "execution_count": 54,
   "metadata": {},
   "outputs": [
    {
     "name": "stdout",
     "output_type": "stream",
     "text": [
      "failed_finds.sum()=28\n"
     ]
    }
   ],
   "source": [
    "# Some songs were not found. Let's see how many\n",
    "failed_finds = top_christmas['spotify_track_id'].isna()\n",
    "print(f\"{failed_finds.sum()=}\")"
   ]
  },
  {
   "cell_type": "code",
   "execution_count": null,
   "metadata": {},
   "outputs": [],
   "source": [
    "failed_subset = top_christmas[failed_finds]\n",
    "christmas_tracks_with_year = TrackQuery(failed_subset, include_artist=False, include_year=True, year_tolerance=2)\n",
    "tracks_found_with_title_and_year = list(christmas_tracks_with_year.track_ids())"
   ]
  },
  {
   "cell_type": "code",
   "execution_count": 82,
   "metadata": {},
   "outputs": [],
   "source": [
    "import numpy as np\n",
    "tracks_found_with_title_and_year = np.array(_tracks_found_with_title_and_year)[failed_finds.values]"
   ]
  },
  {
   "cell_type": "code",
   "execution_count": 75,
   "metadata": {},
   "outputs": [
    {
     "ename": "IndexError",
     "evalue": "arrays used as indices must be of integer (or boolean) type",
     "output_type": "error",
     "traceback": [
      "\u001b[0;31m---------------------------------------------------------------------------\u001b[0m",
      "\u001b[0;31mIndexError\u001b[0m                                Traceback (most recent call last)",
      "Cell \u001b[0;32mIn[75], line 2\u001b[0m\n\u001b[1;32m      1\u001b[0m \u001b[38;5;28;01mimport\u001b[39;00m \u001b[38;5;21;01mnumpy\u001b[39;00m \u001b[38;5;28;01mas\u001b[39;00m \u001b[38;5;21;01mnp\u001b[39;00m\n\u001b[0;32m----> 2\u001b[0m \u001b[38;5;28msum\u001b[39m(f \u001b[38;5;129;01mis\u001b[39;00m \u001b[38;5;129;01mnot\u001b[39;00m \u001b[38;5;28;01mNone\u001b[39;00m \u001b[38;5;28;01mfor\u001b[39;00m f \u001b[38;5;129;01min\u001b[39;00m \u001b[43mnp\u001b[49m\u001b[38;5;241;43m.\u001b[39;49m\u001b[43marray\u001b[49m\u001b[43m(\u001b[49m\u001b[43mtracks_found_with_title_and_year\u001b[49m\u001b[43m)\u001b[49m\u001b[43m[\u001b[49m\u001b[43mfailed_subset\u001b[49m\u001b[38;5;241;43m.\u001b[39;49m\u001b[43mvalues\u001b[49m\u001b[43m]\u001b[49m)\n",
      "\u001b[0;31mIndexError\u001b[0m: arrays used as indices must be of integer (or boolean) type"
     ]
    }
   ],
   "source": [
    "import numpy as np\n",
    "sum(f is not None for f in np.array(tracks_found_with_title_and_year)[failed_subset.values])"
   ]
  },
  {
   "cell_type": "code",
   "execution_count": 78,
   "metadata": {},
   "outputs": [
    {
     "data": {
      "text/plain": [
       "array([None, None, None, None, None, None, None, None,\n",
       "       '5bh3LJU6Jd0L5qhgSM1sTx', '0ypPVwQg9Z3wNavQqYSued',\n",
       "       '3fLAkdIr3hLjb9Ft5nvOiH', '3fLAkdIr3hLjb9Ft5nvOiH',\n",
       "       '3fLAkdIr3hLjb9Ft5nvOiH', '0ypPVwQg9Z3wNavQqYSued',\n",
       "       '3fLAkdIr3hLjb9Ft5nvOiH', '3fLAkdIr3hLjb9Ft5nvOiH',\n",
       "       '3fLAkdIr3hLjb9Ft5nvOiH', None, None, None, None, None, None, None,\n",
       "       None, None, None, '7KgbyNNixHnh1cNtZ4qK1r'], dtype=object)"
      ]
     },
     "execution_count": 78,
     "metadata": {},
     "output_type": "execute_result"
    }
   ],
   "source": [
    "np.array(tracks_found_with_title_and_year)[failed_finds.values]"
   ]
  },
  {
   "cell_type": "code",
   "execution_count": 71,
   "metadata": {},
   "outputs": [
    {
     "data": {
      "text/plain": [
       "387"
      ]
     },
     "execution_count": 71,
     "metadata": {},
     "output_type": "execute_result"
    }
   ],
   "source": [
    "len(tracks_found_with_title_and_year)"
   ]
  },
  {
   "cell_type": "code",
   "execution_count": null,
   "metadata": {},
   "outputs": [],
   "source": [
    "top_christmas['spotify_track_id'].iloc[failed_finds] = tracks_found_with_title_and_year"
   ]
  },
  {
   "cell_type": "code",
   "execution_count": null,
   "metadata": {},
   "outputs": [],
   "source": [
    "still_missing = top_christmas['spotify_track_id'].isna()\n",
    "print(f\"{still_missing.sum()=}\")"
   ]
  },
  {
   "cell_type": "code",
   "execution_count": null,
   "metadata": {},
   "outputs": [],
   "source": []
  },
  {
   "cell_type": "code",
   "execution_count": 20,
   "metadata": {},
   "outputs": [
    {
     "data": {
      "text/html": [
       "<div>\n",
       "<style scoped>\n",
       "    .dataframe tbody tr th:only-of-type {\n",
       "        vertical-align: middle;\n",
       "    }\n",
       "\n",
       "    .dataframe tbody tr th {\n",
       "        vertical-align: top;\n",
       "    }\n",
       "\n",
       "    .dataframe thead th {\n",
       "        text-align: right;\n",
       "    }\n",
       "</style>\n",
       "<table border=\"1\" class=\"dataframe\">\n",
       "  <thead>\n",
       "    <tr style=\"text-align: right;\">\n",
       "      <th></th>\n",
       "      <th>album</th>\n",
       "      <th>artists</th>\n",
       "      <th>available_markets</th>\n",
       "      <th>disc_number</th>\n",
       "      <th>duration_ms</th>\n",
       "      <th>explicit</th>\n",
       "      <th>external_ids</th>\n",
       "      <th>external_urls</th>\n",
       "      <th>href</th>\n",
       "      <th>id</th>\n",
       "      <th>is_local</th>\n",
       "      <th>is_playable</th>\n",
       "      <th>name</th>\n",
       "      <th>popularity</th>\n",
       "      <th>preview_url</th>\n",
       "      <th>track_number</th>\n",
       "      <th>type</th>\n",
       "      <th>uri</th>\n",
       "    </tr>\n",
       "  </thead>\n",
       "  <tbody>\n",
       "    <tr>\n",
       "      <th>0</th>\n",
       "      <td>{'album_type': 'single', 'artists': [{'externa...</td>\n",
       "      <td>[{'external_urls': {'spotify': 'https://open.s...</td>\n",
       "      <td>[AR, AU, AT, BE, BO, BR, BG, CA, CL, CO, CR, C...</td>\n",
       "      <td>1</td>\n",
       "      <td>130973</td>\n",
       "      <td>False</td>\n",
       "      <td>{'isrc': 'USMC15746480'}</td>\n",
       "      <td>{'spotify': 'https://open.spotify.com/track/7v...</td>\n",
       "      <td>https://api.spotify.com/v1/tracks/7vQbuQcyTflf...</td>\n",
       "      <td>7vQbuQcyTflfCIOu3Uzzya</td>\n",
       "      <td>False</td>\n",
       "      <td>True</td>\n",
       "      <td>Jingle Bell Rock</td>\n",
       "      <td>92</td>\n",
       "      <td>None</td>\n",
       "      <td>1</td>\n",
       "      <td>track</td>\n",
       "      <td>spotify:track:7vQbuQcyTflfCIOu3Uzzya</td>\n",
       "    </tr>\n",
       "    <tr>\n",
       "      <th>1</th>\n",
       "      <td>{'album_type': 'compilation', 'artists': [{'ex...</td>\n",
       "      <td>[{'external_urls': {'spotify': 'https://open.s...</td>\n",
       "      <td>[AR, AU, AT, BE, BO, BR, BG, CA, CL, CO, CR, C...</td>\n",
       "      <td>1</td>\n",
       "      <td>131733</td>\n",
       "      <td>False</td>\n",
       "      <td>{'isrc': 'USMC15746480'}</td>\n",
       "      <td>{'spotify': 'https://open.spotify.com/track/6x...</td>\n",
       "      <td>https://api.spotify.com/v1/tracks/6xE98wKYt4vZ...</td>\n",
       "      <td>6xE98wKYt4vZk8j7cctjw8</td>\n",
       "      <td>False</td>\n",
       "      <td>True</td>\n",
       "      <td>Jingle Bell Rock</td>\n",
       "      <td>73</td>\n",
       "      <td>None</td>\n",
       "      <td>4</td>\n",
       "      <td>track</td>\n",
       "      <td>spotify:track:6xE98wKYt4vZk8j7cctjw8</td>\n",
       "    </tr>\n",
       "    <tr>\n",
       "      <th>2</th>\n",
       "      <td>{'album_type': 'compilation', 'artists': [{'ex...</td>\n",
       "      <td>[{'external_urls': {'spotify': 'https://open.s...</td>\n",
       "      <td>[AR, AU, AT, BE, BO, BR, BG, CA, CL, CO, CR, C...</td>\n",
       "      <td>1</td>\n",
       "      <td>130973</td>\n",
       "      <td>False</td>\n",
       "      <td>{'isrc': 'USMC15746480'}</td>\n",
       "      <td>{'spotify': 'https://open.spotify.com/track/6Z...</td>\n",
       "      <td>https://api.spotify.com/v1/tracks/6Z924AupOiJL...</td>\n",
       "      <td>6Z924AupOiJLdnAKH6UgCu</td>\n",
       "      <td>False</td>\n",
       "      <td>True</td>\n",
       "      <td>Jingle Bell Rock</td>\n",
       "      <td>40</td>\n",
       "      <td>None</td>\n",
       "      <td>12</td>\n",
       "      <td>track</td>\n",
       "      <td>spotify:track:6Z924AupOiJLdnAKH6UgCu</td>\n",
       "    </tr>\n",
       "    <tr>\n",
       "      <th>3</th>\n",
       "      <td>{'album_type': 'single', 'artists': [{'externa...</td>\n",
       "      <td>[{'external_urls': {'spotify': 'https://open.s...</td>\n",
       "      <td>[AR, AU, AT, BE, BO, BR, BG, CA, CL, CO, CR, C...</td>\n",
       "      <td>1</td>\n",
       "      <td>141818</td>\n",
       "      <td>False</td>\n",
       "      <td>{'isrc': 'USWL12403972'}</td>\n",
       "      <td>{'spotify': 'https://open.spotify.com/track/5i...</td>\n",
       "      <td>https://api.spotify.com/v1/tracks/5ieSoxnino7N...</td>\n",
       "      <td>5ieSoxnino7NkPZJegAiGz</td>\n",
       "      <td>False</td>\n",
       "      <td>True</td>\n",
       "      <td>Jingle Bell Rock (with Maria Becerra)</td>\n",
       "      <td>56</td>\n",
       "      <td>None</td>\n",
       "      <td>1</td>\n",
       "      <td>track</td>\n",
       "      <td>spotify:track:5ieSoxnino7NkPZJegAiGz</td>\n",
       "    </tr>\n",
       "    <tr>\n",
       "      <th>4</th>\n",
       "      <td>{'album_type': 'album', 'artists': [{'external...</td>\n",
       "      <td>[{'external_urls': {'spotify': 'https://open.s...</td>\n",
       "      <td>[AR, AU, AT, BE, BO, BR, BG, CA, CL, CO, CR, C...</td>\n",
       "      <td>1</td>\n",
       "      <td>138226</td>\n",
       "      <td>False</td>\n",
       "      <td>{'isrc': 'USASN1900767'}</td>\n",
       "      <td>{'spotify': 'https://open.spotify.com/track/3K...</td>\n",
       "      <td>https://api.spotify.com/v1/tracks/3Ka8XHwkF9kA...</td>\n",
       "      <td>3Ka8XHwkF9kAtUWoeyuoXX</td>\n",
       "      <td>False</td>\n",
       "      <td>True</td>\n",
       "      <td>Jingle Bell Rock (Special Nashville Edition)</td>\n",
       "      <td>44</td>\n",
       "      <td>None</td>\n",
       "      <td>1</td>\n",
       "      <td>track</td>\n",
       "      <td>spotify:track:3Ka8XHwkF9kAtUWoeyuoXX</td>\n",
       "    </tr>\n",
       "    <tr>\n",
       "      <th>5</th>\n",
       "      <td>{'album_type': 'single', 'artists': [{'externa...</td>\n",
       "      <td>[{'external_urls': {'spotify': 'https://open.s...</td>\n",
       "      <td>[AR, AU, AT, BE, BO, BR, BG, CA, CL, CO, CR, C...</td>\n",
       "      <td>1</td>\n",
       "      <td>139521</td>\n",
       "      <td>False</td>\n",
       "      <td>{'isrc': 'USUM72218855'}</td>\n",
       "      <td>{'spotify': 'https://open.spotify.com/track/5u...</td>\n",
       "      <td>https://api.spotify.com/v1/tracks/5uT93SXmRonY...</td>\n",
       "      <td>5uT93SXmRonY8np9f90Ruj</td>\n",
       "      <td>False</td>\n",
       "      <td>True</td>\n",
       "      <td>Jingle Bell Rock - Ryan Riback Remix</td>\n",
       "      <td>20</td>\n",
       "      <td>None</td>\n",
       "      <td>5</td>\n",
       "      <td>track</td>\n",
       "      <td>spotify:track:5uT93SXmRonY8np9f90Ruj</td>\n",
       "    </tr>\n",
       "    <tr>\n",
       "      <th>6</th>\n",
       "      <td>{'album_type': 'single', 'artists': [{'externa...</td>\n",
       "      <td>[{'external_urls': {'spotify': 'https://open.s...</td>\n",
       "      <td>[AR, AU, AT, BE, BO, BR, BG, CA, CL, CO, CR, C...</td>\n",
       "      <td>1</td>\n",
       "      <td>138986</td>\n",
       "      <td>False</td>\n",
       "      <td>{'isrc': 'USUM72218855'}</td>\n",
       "      <td>{'spotify': 'https://open.spotify.com/track/1O...</td>\n",
       "      <td>https://api.spotify.com/v1/tracks/1OCOjQBJa3V6...</td>\n",
       "      <td>1OCOjQBJa3V69lzoqIUsYE</td>\n",
       "      <td>False</td>\n",
       "      <td>True</td>\n",
       "      <td>Jingle Bell Rock - Ryan Riback Remix</td>\n",
       "      <td>31</td>\n",
       "      <td>None</td>\n",
       "      <td>1</td>\n",
       "      <td>track</td>\n",
       "      <td>spotify:track:1OCOjQBJa3V69lzoqIUsYE</td>\n",
       "    </tr>\n",
       "    <tr>\n",
       "      <th>7</th>\n",
       "      <td>{'album_type': 'compilation', 'artists': [{'ex...</td>\n",
       "      <td>[{'external_urls': {'spotify': 'https://open.s...</td>\n",
       "      <td>[AR, AU, AT, BE, BO, BR, BG, CA, CL, CO, CR, C...</td>\n",
       "      <td>1</td>\n",
       "      <td>246133</td>\n",
       "      <td>False</td>\n",
       "      <td>{'isrc': 'US4CR0400028'}</td>\n",
       "      <td>{'spotify': 'https://open.spotify.com/track/1p...</td>\n",
       "      <td>https://api.spotify.com/v1/tracks/1pkq80ebVU6i...</td>\n",
       "      <td>1pkq80ebVU6i05sZI7myRn</td>\n",
       "      <td>False</td>\n",
       "      <td>True</td>\n",
       "      <td>Jingle Bell Rock</td>\n",
       "      <td>24</td>\n",
       "      <td>None</td>\n",
       "      <td>9</td>\n",
       "      <td>track</td>\n",
       "      <td>spotify:track:1pkq80ebVU6i05sZI7myRn</td>\n",
       "    </tr>\n",
       "    <tr>\n",
       "      <th>8</th>\n",
       "      <td>{'album_type': 'album', 'artists': [{'external...</td>\n",
       "      <td>[{'external_urls': {'spotify': 'https://open.s...</td>\n",
       "      <td>[AR, AU, AT, BE, BO, BR, BG, CA, CL, CO, CR, C...</td>\n",
       "      <td>1</td>\n",
       "      <td>108880</td>\n",
       "      <td>False</td>\n",
       "      <td>{'isrc': 'ushm91004850'}</td>\n",
       "      <td>{'spotify': 'https://open.spotify.com/track/4a...</td>\n",
       "      <td>https://api.spotify.com/v1/tracks/4a4wUbJpB0JH...</td>\n",
       "      <td>4a4wUbJpB0JHCH3AEJZZyC</td>\n",
       "      <td>False</td>\n",
       "      <td>True</td>\n",
       "      <td>Jingle Bell Rock</td>\n",
       "      <td>24</td>\n",
       "      <td>None</td>\n",
       "      <td>1</td>\n",
       "      <td>track</td>\n",
       "      <td>spotify:track:4a4wUbJpB0JHCH3AEJZZyC</td>\n",
       "    </tr>\n",
       "    <tr>\n",
       "      <th>9</th>\n",
       "      <td>{'album_type': 'album', 'artists': [{'external...</td>\n",
       "      <td>[{'external_urls': {'spotify': 'https://open.s...</td>\n",
       "      <td>[AR, AU, AT, BE, BO, BR, BG, CA, CL, CO, CR, C...</td>\n",
       "      <td>1</td>\n",
       "      <td>118853</td>\n",
       "      <td>False</td>\n",
       "      <td>{'isrc': 'USACU0511730'}</td>\n",
       "      <td>{'spotify': 'https://open.spotify.com/track/5L...</td>\n",
       "      <td>https://api.spotify.com/v1/tracks/5LiotnFytHaH...</td>\n",
       "      <td>5LiotnFytHaHPWy4j6errh</td>\n",
       "      <td>False</td>\n",
       "      <td>True</td>\n",
       "      <td>Jingle Bell Rock</td>\n",
       "      <td>23</td>\n",
       "      <td>None</td>\n",
       "      <td>1</td>\n",
       "      <td>track</td>\n",
       "      <td>spotify:track:5LiotnFytHaHPWy4j6errh</td>\n",
       "    </tr>\n",
       "    <tr>\n",
       "      <th>10</th>\n",
       "      <td>{'album_type': 'compilation', 'artists': [{'ex...</td>\n",
       "      <td>[{'external_urls': {'spotify': 'https://open.s...</td>\n",
       "      <td>[AR, AU, AT, BE, BO, BR, BG, CA, CL, CO, CR, C...</td>\n",
       "      <td>1</td>\n",
       "      <td>130973</td>\n",
       "      <td>False</td>\n",
       "      <td>{'isrc': 'USMC15746480'}</td>\n",
       "      <td>{'spotify': 'https://open.spotify.com/track/3h...</td>\n",
       "      <td>https://api.spotify.com/v1/tracks/3hBXvHLlTHvn...</td>\n",
       "      <td>3hBXvHLlTHvnbwrPbeoyAj</td>\n",
       "      <td>False</td>\n",
       "      <td>True</td>\n",
       "      <td>Jingle Bell Rock</td>\n",
       "      <td>78</td>\n",
       "      <td>None</td>\n",
       "      <td>11</td>\n",
       "      <td>track</td>\n",
       "      <td>spotify:track:3hBXvHLlTHvnbwrPbeoyAj</td>\n",
       "    </tr>\n",
       "    <tr>\n",
       "      <th>11</th>\n",
       "      <td>{'album_type': 'compilation', 'artists': [{'ex...</td>\n",
       "      <td>[{'external_urls': {'spotify': 'https://open.s...</td>\n",
       "      <td>[AR, AU, AT, BE, BO, BR, BG, CA, CL, CO, CR, C...</td>\n",
       "      <td>1</td>\n",
       "      <td>132160</td>\n",
       "      <td>False</td>\n",
       "      <td>{'isrc': 'USMC15746480'}</td>\n",
       "      <td>{'spotify': 'https://open.spotify.com/track/3N...</td>\n",
       "      <td>https://api.spotify.com/v1/tracks/3NyMQKH7HiLS...</td>\n",
       "      <td>3NyMQKH7HiLS6l1e1yrLpu</td>\n",
       "      <td>False</td>\n",
       "      <td>True</td>\n",
       "      <td>Jingle Bell Rock</td>\n",
       "      <td>38</td>\n",
       "      <td>None</td>\n",
       "      <td>1</td>\n",
       "      <td>track</td>\n",
       "      <td>spotify:track:3NyMQKH7HiLS6l1e1yrLpu</td>\n",
       "    </tr>\n",
       "    <tr>\n",
       "      <th>12</th>\n",
       "      <td>{'album_type': 'compilation', 'artists': [{'ex...</td>\n",
       "      <td>[{'external_urls': {'spotify': 'https://open.s...</td>\n",
       "      <td>[AR, AU, AT, BE, BO, BR, BG, CA, CL, CO, CR, C...</td>\n",
       "      <td>1</td>\n",
       "      <td>129893</td>\n",
       "      <td>False</td>\n",
       "      <td>{'isrc': 'USMC15746480'}</td>\n",
       "      <td>{'spotify': 'https://open.spotify.com/track/03...</td>\n",
       "      <td>https://api.spotify.com/v1/tracks/03gfPrsQEYno...</td>\n",
       "      <td>03gfPrsQEYnoGCT13oM2Ix</td>\n",
       "      <td>False</td>\n",
       "      <td>True</td>\n",
       "      <td>Jingle Bell Rock</td>\n",
       "      <td>61</td>\n",
       "      <td>None</td>\n",
       "      <td>7</td>\n",
       "      <td>track</td>\n",
       "      <td>spotify:track:03gfPrsQEYnoGCT13oM2Ix</td>\n",
       "    </tr>\n",
       "    <tr>\n",
       "      <th>13</th>\n",
       "      <td>{'album_type': 'compilation', 'artists': [{'ex...</td>\n",
       "      <td>[{'external_urls': {'spotify': 'https://open.s...</td>\n",
       "      <td>[AR, AT, AU, BE, BG, BO, BR, CA, CH, CL, CO, C...</td>\n",
       "      <td>1</td>\n",
       "      <td>131125</td>\n",
       "      <td>False</td>\n",
       "      <td>{'isrc': 'USMC15746480'}</td>\n",
       "      <td>{'spotify': 'https://open.spotify.com/track/0W...</td>\n",
       "      <td>https://api.spotify.com/v1/tracks/0WzmZjDZFL7k...</td>\n",
       "      <td>0WzmZjDZFL7krbvdfHqC3m</td>\n",
       "      <td>False</td>\n",
       "      <td>True</td>\n",
       "      <td>Jingle Bell Rock</td>\n",
       "      <td>32</td>\n",
       "      <td>None</td>\n",
       "      <td>7</td>\n",
       "      <td>track</td>\n",
       "      <td>spotify:track:0WzmZjDZFL7krbvdfHqC3m</td>\n",
       "    </tr>\n",
       "    <tr>\n",
       "      <th>14</th>\n",
       "      <td>{'album_type': 'compilation', 'artists': [{'ex...</td>\n",
       "      <td>[{'external_urls': {'spotify': 'https://open.s...</td>\n",
       "      <td>[AR, AU, AT, BE, BO, BR, BG, CA, CL, CO, CR, C...</td>\n",
       "      <td>1</td>\n",
       "      <td>130813</td>\n",
       "      <td>False</td>\n",
       "      <td>{'isrc': 'USMC15746480'}</td>\n",
       "      <td>{'spotify': 'https://open.spotify.com/track/16...</td>\n",
       "      <td>https://api.spotify.com/v1/tracks/16XzknQWuQEE...</td>\n",
       "      <td>16XzknQWuQEEPhBLP8BgTj</td>\n",
       "      <td>False</td>\n",
       "      <td>True</td>\n",
       "      <td>Jingle Bell Rock</td>\n",
       "      <td>39</td>\n",
       "      <td>None</td>\n",
       "      <td>8</td>\n",
       "      <td>track</td>\n",
       "      <td>spotify:track:16XzknQWuQEEPhBLP8BgTj</td>\n",
       "    </tr>\n",
       "    <tr>\n",
       "      <th>15</th>\n",
       "      <td>{'album_type': 'compilation', 'artists': [{'ex...</td>\n",
       "      <td>[{'external_urls': {'spotify': 'https://open.s...</td>\n",
       "      <td>[US]</td>\n",
       "      <td>1</td>\n",
       "      <td>130600</td>\n",
       "      <td>False</td>\n",
       "      <td>{'isrc': 'USMC15746480'}</td>\n",
       "      <td>{'spotify': 'https://open.spotify.com/track/1i...</td>\n",
       "      <td>https://api.spotify.com/v1/tracks/1ihzOkRgTmOo...</td>\n",
       "      <td>1ihzOkRgTmOofSBFQ4M4jp</td>\n",
       "      <td>False</td>\n",
       "      <td>True</td>\n",
       "      <td>Jingle Bell Rock</td>\n",
       "      <td>17</td>\n",
       "      <td>None</td>\n",
       "      <td>6</td>\n",
       "      <td>track</td>\n",
       "      <td>spotify:track:1ihzOkRgTmOofSBFQ4M4jp</td>\n",
       "    </tr>\n",
       "    <tr>\n",
       "      <th>16</th>\n",
       "      <td>{'album_type': 'single', 'artists': [{'externa...</td>\n",
       "      <td>[{'external_urls': {'spotify': 'https://open.s...</td>\n",
       "      <td>[AR, AU, AT, BE, BO, BR, BG, CA, CL, CO, CR, C...</td>\n",
       "      <td>1</td>\n",
       "      <td>131125</td>\n",
       "      <td>False</td>\n",
       "      <td>{'isrc': 'USMC15746480'}</td>\n",
       "      <td>{'spotify': 'https://open.spotify.com/track/5O...</td>\n",
       "      <td>https://api.spotify.com/v1/tracks/5OLE9YMQXAuJ...</td>\n",
       "      <td>5OLE9YMQXAuJUrKTTaVkfz</td>\n",
       "      <td>False</td>\n",
       "      <td>True</td>\n",
       "      <td>Jingle Bell Rock</td>\n",
       "      <td>23</td>\n",
       "      <td>None</td>\n",
       "      <td>1</td>\n",
       "      <td>track</td>\n",
       "      <td>spotify:track:5OLE9YMQXAuJUrKTTaVkfz</td>\n",
       "    </tr>\n",
       "    <tr>\n",
       "      <th>17</th>\n",
       "      <td>{'album_type': 'compilation', 'artists': [{'ex...</td>\n",
       "      <td>[{'external_urls': {'spotify': 'https://open.s...</td>\n",
       "      <td>[AR, AU, AT, BE, BO, BR, BG, CA, CL, CO, CR, C...</td>\n",
       "      <td>1</td>\n",
       "      <td>130093</td>\n",
       "      <td>False</td>\n",
       "      <td>{'isrc': 'USMC15746480'}</td>\n",
       "      <td>{'spotify': 'https://open.spotify.com/track/5w...</td>\n",
       "      <td>https://api.spotify.com/v1/tracks/5wgZAnUy7NEN...</td>\n",
       "      <td>5wgZAnUy7NENPiglHM3k6J</td>\n",
       "      <td>False</td>\n",
       "      <td>True</td>\n",
       "      <td>Jingle Bell Rock</td>\n",
       "      <td>21</td>\n",
       "      <td>None</td>\n",
       "      <td>3</td>\n",
       "      <td>track</td>\n",
       "      <td>spotify:track:5wgZAnUy7NENPiglHM3k6J</td>\n",
       "    </tr>\n",
       "    <tr>\n",
       "      <th>18</th>\n",
       "      <td>{'album_type': 'compilation', 'artists': [{'ex...</td>\n",
       "      <td>[{'external_urls': {'spotify': 'https://open.s...</td>\n",
       "      <td>[US]</td>\n",
       "      <td>1</td>\n",
       "      <td>127826</td>\n",
       "      <td>False</td>\n",
       "      <td>{'isrc': 'USMC15746480'}</td>\n",
       "      <td>{'spotify': 'https://open.spotify.com/track/06...</td>\n",
       "      <td>https://api.spotify.com/v1/tracks/06v3nIfHHV0M...</td>\n",
       "      <td>06v3nIfHHV0MN5ABx6BpHy</td>\n",
       "      <td>False</td>\n",
       "      <td>True</td>\n",
       "      <td>Jingle Bell Rock</td>\n",
       "      <td>15</td>\n",
       "      <td>None</td>\n",
       "      <td>14</td>\n",
       "      <td>track</td>\n",
       "      <td>spotify:track:06v3nIfHHV0MN5ABx6BpHy</td>\n",
       "    </tr>\n",
       "    <tr>\n",
       "      <th>19</th>\n",
       "      <td>{'album_type': 'compilation', 'artists': [{'ex...</td>\n",
       "      <td>[{'external_urls': {'spotify': 'https://open.s...</td>\n",
       "      <td>[AR, AU, AT, BE, BO, BR, BG, CA, CL, CO, CR, C...</td>\n",
       "      <td>1</td>\n",
       "      <td>131125</td>\n",
       "      <td>False</td>\n",
       "      <td>{'isrc': 'USMC15746480'}</td>\n",
       "      <td>{'spotify': 'https://open.spotify.com/track/5a...</td>\n",
       "      <td>https://api.spotify.com/v1/tracks/5au0GtRXOxrn...</td>\n",
       "      <td>5au0GtRXOxrnIr1fRibNxc</td>\n",
       "      <td>False</td>\n",
       "      <td>True</td>\n",
       "      <td>Jingle Bell Rock</td>\n",
       "      <td>40</td>\n",
       "      <td>None</td>\n",
       "      <td>3</td>\n",
       "      <td>track</td>\n",
       "      <td>spotify:track:5au0GtRXOxrnIr1fRibNxc</td>\n",
       "    </tr>\n",
       "  </tbody>\n",
       "</table>\n",
       "</div>"
      ],
      "text/plain": [
       "                                                album  \\\n",
       "0   {'album_type': 'single', 'artists': [{'externa...   \n",
       "1   {'album_type': 'compilation', 'artists': [{'ex...   \n",
       "2   {'album_type': 'compilation', 'artists': [{'ex...   \n",
       "3   {'album_type': 'single', 'artists': [{'externa...   \n",
       "4   {'album_type': 'album', 'artists': [{'external...   \n",
       "5   {'album_type': 'single', 'artists': [{'externa...   \n",
       "6   {'album_type': 'single', 'artists': [{'externa...   \n",
       "7   {'album_type': 'compilation', 'artists': [{'ex...   \n",
       "8   {'album_type': 'album', 'artists': [{'external...   \n",
       "9   {'album_type': 'album', 'artists': [{'external...   \n",
       "10  {'album_type': 'compilation', 'artists': [{'ex...   \n",
       "11  {'album_type': 'compilation', 'artists': [{'ex...   \n",
       "12  {'album_type': 'compilation', 'artists': [{'ex...   \n",
       "13  {'album_type': 'compilation', 'artists': [{'ex...   \n",
       "14  {'album_type': 'compilation', 'artists': [{'ex...   \n",
       "15  {'album_type': 'compilation', 'artists': [{'ex...   \n",
       "16  {'album_type': 'single', 'artists': [{'externa...   \n",
       "17  {'album_type': 'compilation', 'artists': [{'ex...   \n",
       "18  {'album_type': 'compilation', 'artists': [{'ex...   \n",
       "19  {'album_type': 'compilation', 'artists': [{'ex...   \n",
       "\n",
       "                                              artists  \\\n",
       "0   [{'external_urls': {'spotify': 'https://open.s...   \n",
       "1   [{'external_urls': {'spotify': 'https://open.s...   \n",
       "2   [{'external_urls': {'spotify': 'https://open.s...   \n",
       "3   [{'external_urls': {'spotify': 'https://open.s...   \n",
       "4   [{'external_urls': {'spotify': 'https://open.s...   \n",
       "5   [{'external_urls': {'spotify': 'https://open.s...   \n",
       "6   [{'external_urls': {'spotify': 'https://open.s...   \n",
       "7   [{'external_urls': {'spotify': 'https://open.s...   \n",
       "8   [{'external_urls': {'spotify': 'https://open.s...   \n",
       "9   [{'external_urls': {'spotify': 'https://open.s...   \n",
       "10  [{'external_urls': {'spotify': 'https://open.s...   \n",
       "11  [{'external_urls': {'spotify': 'https://open.s...   \n",
       "12  [{'external_urls': {'spotify': 'https://open.s...   \n",
       "13  [{'external_urls': {'spotify': 'https://open.s...   \n",
       "14  [{'external_urls': {'spotify': 'https://open.s...   \n",
       "15  [{'external_urls': {'spotify': 'https://open.s...   \n",
       "16  [{'external_urls': {'spotify': 'https://open.s...   \n",
       "17  [{'external_urls': {'spotify': 'https://open.s...   \n",
       "18  [{'external_urls': {'spotify': 'https://open.s...   \n",
       "19  [{'external_urls': {'spotify': 'https://open.s...   \n",
       "\n",
       "                                    available_markets  disc_number  \\\n",
       "0   [AR, AU, AT, BE, BO, BR, BG, CA, CL, CO, CR, C...            1   \n",
       "1   [AR, AU, AT, BE, BO, BR, BG, CA, CL, CO, CR, C...            1   \n",
       "2   [AR, AU, AT, BE, BO, BR, BG, CA, CL, CO, CR, C...            1   \n",
       "3   [AR, AU, AT, BE, BO, BR, BG, CA, CL, CO, CR, C...            1   \n",
       "4   [AR, AU, AT, BE, BO, BR, BG, CA, CL, CO, CR, C...            1   \n",
       "5   [AR, AU, AT, BE, BO, BR, BG, CA, CL, CO, CR, C...            1   \n",
       "6   [AR, AU, AT, BE, BO, BR, BG, CA, CL, CO, CR, C...            1   \n",
       "7   [AR, AU, AT, BE, BO, BR, BG, CA, CL, CO, CR, C...            1   \n",
       "8   [AR, AU, AT, BE, BO, BR, BG, CA, CL, CO, CR, C...            1   \n",
       "9   [AR, AU, AT, BE, BO, BR, BG, CA, CL, CO, CR, C...            1   \n",
       "10  [AR, AU, AT, BE, BO, BR, BG, CA, CL, CO, CR, C...            1   \n",
       "11  [AR, AU, AT, BE, BO, BR, BG, CA, CL, CO, CR, C...            1   \n",
       "12  [AR, AU, AT, BE, BO, BR, BG, CA, CL, CO, CR, C...            1   \n",
       "13  [AR, AT, AU, BE, BG, BO, BR, CA, CH, CL, CO, C...            1   \n",
       "14  [AR, AU, AT, BE, BO, BR, BG, CA, CL, CO, CR, C...            1   \n",
       "15                                               [US]            1   \n",
       "16  [AR, AU, AT, BE, BO, BR, BG, CA, CL, CO, CR, C...            1   \n",
       "17  [AR, AU, AT, BE, BO, BR, BG, CA, CL, CO, CR, C...            1   \n",
       "18                                               [US]            1   \n",
       "19  [AR, AU, AT, BE, BO, BR, BG, CA, CL, CO, CR, C...            1   \n",
       "\n",
       "    duration_ms  explicit              external_ids  \\\n",
       "0        130973     False  {'isrc': 'USMC15746480'}   \n",
       "1        131733     False  {'isrc': 'USMC15746480'}   \n",
       "2        130973     False  {'isrc': 'USMC15746480'}   \n",
       "3        141818     False  {'isrc': 'USWL12403972'}   \n",
       "4        138226     False  {'isrc': 'USASN1900767'}   \n",
       "5        139521     False  {'isrc': 'USUM72218855'}   \n",
       "6        138986     False  {'isrc': 'USUM72218855'}   \n",
       "7        246133     False  {'isrc': 'US4CR0400028'}   \n",
       "8        108880     False  {'isrc': 'ushm91004850'}   \n",
       "9        118853     False  {'isrc': 'USACU0511730'}   \n",
       "10       130973     False  {'isrc': 'USMC15746480'}   \n",
       "11       132160     False  {'isrc': 'USMC15746480'}   \n",
       "12       129893     False  {'isrc': 'USMC15746480'}   \n",
       "13       131125     False  {'isrc': 'USMC15746480'}   \n",
       "14       130813     False  {'isrc': 'USMC15746480'}   \n",
       "15       130600     False  {'isrc': 'USMC15746480'}   \n",
       "16       131125     False  {'isrc': 'USMC15746480'}   \n",
       "17       130093     False  {'isrc': 'USMC15746480'}   \n",
       "18       127826     False  {'isrc': 'USMC15746480'}   \n",
       "19       131125     False  {'isrc': 'USMC15746480'}   \n",
       "\n",
       "                                        external_urls  \\\n",
       "0   {'spotify': 'https://open.spotify.com/track/7v...   \n",
       "1   {'spotify': 'https://open.spotify.com/track/6x...   \n",
       "2   {'spotify': 'https://open.spotify.com/track/6Z...   \n",
       "3   {'spotify': 'https://open.spotify.com/track/5i...   \n",
       "4   {'spotify': 'https://open.spotify.com/track/3K...   \n",
       "5   {'spotify': 'https://open.spotify.com/track/5u...   \n",
       "6   {'spotify': 'https://open.spotify.com/track/1O...   \n",
       "7   {'spotify': 'https://open.spotify.com/track/1p...   \n",
       "8   {'spotify': 'https://open.spotify.com/track/4a...   \n",
       "9   {'spotify': 'https://open.spotify.com/track/5L...   \n",
       "10  {'spotify': 'https://open.spotify.com/track/3h...   \n",
       "11  {'spotify': 'https://open.spotify.com/track/3N...   \n",
       "12  {'spotify': 'https://open.spotify.com/track/03...   \n",
       "13  {'spotify': 'https://open.spotify.com/track/0W...   \n",
       "14  {'spotify': 'https://open.spotify.com/track/16...   \n",
       "15  {'spotify': 'https://open.spotify.com/track/1i...   \n",
       "16  {'spotify': 'https://open.spotify.com/track/5O...   \n",
       "17  {'spotify': 'https://open.spotify.com/track/5w...   \n",
       "18  {'spotify': 'https://open.spotify.com/track/06...   \n",
       "19  {'spotify': 'https://open.spotify.com/track/5a...   \n",
       "\n",
       "                                                 href                      id  \\\n",
       "0   https://api.spotify.com/v1/tracks/7vQbuQcyTflf...  7vQbuQcyTflfCIOu3Uzzya   \n",
       "1   https://api.spotify.com/v1/tracks/6xE98wKYt4vZ...  6xE98wKYt4vZk8j7cctjw8   \n",
       "2   https://api.spotify.com/v1/tracks/6Z924AupOiJL...  6Z924AupOiJLdnAKH6UgCu   \n",
       "3   https://api.spotify.com/v1/tracks/5ieSoxnino7N...  5ieSoxnino7NkPZJegAiGz   \n",
       "4   https://api.spotify.com/v1/tracks/3Ka8XHwkF9kA...  3Ka8XHwkF9kAtUWoeyuoXX   \n",
       "5   https://api.spotify.com/v1/tracks/5uT93SXmRonY...  5uT93SXmRonY8np9f90Ruj   \n",
       "6   https://api.spotify.com/v1/tracks/1OCOjQBJa3V6...  1OCOjQBJa3V69lzoqIUsYE   \n",
       "7   https://api.spotify.com/v1/tracks/1pkq80ebVU6i...  1pkq80ebVU6i05sZI7myRn   \n",
       "8   https://api.spotify.com/v1/tracks/4a4wUbJpB0JH...  4a4wUbJpB0JHCH3AEJZZyC   \n",
       "9   https://api.spotify.com/v1/tracks/5LiotnFytHaH...  5LiotnFytHaHPWy4j6errh   \n",
       "10  https://api.spotify.com/v1/tracks/3hBXvHLlTHvn...  3hBXvHLlTHvnbwrPbeoyAj   \n",
       "11  https://api.spotify.com/v1/tracks/3NyMQKH7HiLS...  3NyMQKH7HiLS6l1e1yrLpu   \n",
       "12  https://api.spotify.com/v1/tracks/03gfPrsQEYno...  03gfPrsQEYnoGCT13oM2Ix   \n",
       "13  https://api.spotify.com/v1/tracks/0WzmZjDZFL7k...  0WzmZjDZFL7krbvdfHqC3m   \n",
       "14  https://api.spotify.com/v1/tracks/16XzknQWuQEE...  16XzknQWuQEEPhBLP8BgTj   \n",
       "15  https://api.spotify.com/v1/tracks/1ihzOkRgTmOo...  1ihzOkRgTmOofSBFQ4M4jp   \n",
       "16  https://api.spotify.com/v1/tracks/5OLE9YMQXAuJ...  5OLE9YMQXAuJUrKTTaVkfz   \n",
       "17  https://api.spotify.com/v1/tracks/5wgZAnUy7NEN...  5wgZAnUy7NENPiglHM3k6J   \n",
       "18  https://api.spotify.com/v1/tracks/06v3nIfHHV0M...  06v3nIfHHV0MN5ABx6BpHy   \n",
       "19  https://api.spotify.com/v1/tracks/5au0GtRXOxrn...  5au0GtRXOxrnIr1fRibNxc   \n",
       "\n",
       "    is_local  is_playable                                          name  \\\n",
       "0      False         True                              Jingle Bell Rock   \n",
       "1      False         True                              Jingle Bell Rock   \n",
       "2      False         True                              Jingle Bell Rock   \n",
       "3      False         True         Jingle Bell Rock (with Maria Becerra)   \n",
       "4      False         True  Jingle Bell Rock (Special Nashville Edition)   \n",
       "5      False         True          Jingle Bell Rock - Ryan Riback Remix   \n",
       "6      False         True          Jingle Bell Rock - Ryan Riback Remix   \n",
       "7      False         True                              Jingle Bell Rock   \n",
       "8      False         True                              Jingle Bell Rock   \n",
       "9      False         True                              Jingle Bell Rock   \n",
       "10     False         True                              Jingle Bell Rock   \n",
       "11     False         True                              Jingle Bell Rock   \n",
       "12     False         True                              Jingle Bell Rock   \n",
       "13     False         True                              Jingle Bell Rock   \n",
       "14     False         True                              Jingle Bell Rock   \n",
       "15     False         True                              Jingle Bell Rock   \n",
       "16     False         True                              Jingle Bell Rock   \n",
       "17     False         True                              Jingle Bell Rock   \n",
       "18     False         True                              Jingle Bell Rock   \n",
       "19     False         True                              Jingle Bell Rock   \n",
       "\n",
       "    popularity preview_url  track_number   type  \\\n",
       "0           92        None             1  track   \n",
       "1           73        None             4  track   \n",
       "2           40        None            12  track   \n",
       "3           56        None             1  track   \n",
       "4           44        None             1  track   \n",
       "5           20        None             5  track   \n",
       "6           31        None             1  track   \n",
       "7           24        None             9  track   \n",
       "8           24        None             1  track   \n",
       "9           23        None             1  track   \n",
       "10          78        None            11  track   \n",
       "11          38        None             1  track   \n",
       "12          61        None             7  track   \n",
       "13          32        None             7  track   \n",
       "14          39        None             8  track   \n",
       "15          17        None             6  track   \n",
       "16          23        None             1  track   \n",
       "17          21        None             3  track   \n",
       "18          15        None            14  track   \n",
       "19          40        None             3  track   \n",
       "\n",
       "                                     uri  \n",
       "0   spotify:track:7vQbuQcyTflfCIOu3Uzzya  \n",
       "1   spotify:track:6xE98wKYt4vZk8j7cctjw8  \n",
       "2   spotify:track:6Z924AupOiJLdnAKH6UgCu  \n",
       "3   spotify:track:5ieSoxnino7NkPZJegAiGz  \n",
       "4   spotify:track:3Ka8XHwkF9kAtUWoeyuoXX  \n",
       "5   spotify:track:5uT93SXmRonY8np9f90Ruj  \n",
       "6   spotify:track:1OCOjQBJa3V69lzoqIUsYE  \n",
       "7   spotify:track:1pkq80ebVU6i05sZI7myRn  \n",
       "8   spotify:track:4a4wUbJpB0JHCH3AEJZZyC  \n",
       "9   spotify:track:5LiotnFytHaHPWy4j6errh  \n",
       "10  spotify:track:3hBXvHLlTHvnbwrPbeoyAj  \n",
       "11  spotify:track:3NyMQKH7HiLS6l1e1yrLpu  \n",
       "12  spotify:track:03gfPrsQEYnoGCT13oM2Ix  \n",
       "13  spotify:track:0WzmZjDZFL7krbvdfHqC3m  \n",
       "14  spotify:track:16XzknQWuQEEPhBLP8BgTj  \n",
       "15  spotify:track:1ihzOkRgTmOofSBFQ4M4jp  \n",
       "16  spotify:track:5OLE9YMQXAuJUrKTTaVkfz  \n",
       "17  spotify:track:5wgZAnUy7NENPiglHM3k6J  \n",
       "18  spotify:track:06v3nIfHHV0MN5ABx6BpHy  \n",
       "19  spotify:track:5au0GtRXOxrnIr1fRibNxc  "
      ]
     },
     "execution_count": 20,
     "metadata": {},
     "output_type": "execute_result"
    }
   ],
   "source": [
    "df = pd.DataFrame(t.values())\n",
    "df"
   ]
  },
  {
   "cell_type": "code",
   "execution_count": null,
   "metadata": {},
   "outputs": [],
   "source": []
  },
  {
   "cell_type": "code",
   "execution_count": 24,
   "metadata": {},
   "outputs": [
    {
     "data": {
      "text/plain": [
       "['Playlist',\n",
       " 'PlaylistReader',\n",
       " 'SpotifyDacc',\n",
       " 'Tracks',\n",
       " 'TracksAnalysis',\n",
       " '__builtins__',\n",
       " '__cached__',\n",
       " '__doc__',\n",
       " '__file__',\n",
       " '__loader__',\n",
       " '__name__',\n",
       " '__package__',\n",
       " '__path__',\n",
       " '__spec__',\n",
       " 'base',\n",
       " 'cast_track_key',\n",
       " 'delete_playlist',\n",
       " 'df_extract_extra_metadata',\n",
       " 'ensure_playlist_id',\n",
       " 'ensure_track_id',\n",
       " 'extract_extra_metadata',\n",
       " 'extractor',\n",
       " 'get_spotify_client',\n",
       " 'search_tracks',\n",
       " 'tools',\n",
       " 'util']"
      ]
     },
     "execution_count": 24,
     "metadata": {},
     "output_type": "execute_result"
    }
   ],
   "source": [
    "import sung\n",
    "dir(sung)\n",
    "sung.Tracks"
   ]
  },
  {
   "cell_type": "code",
   "execution_count": null,
   "metadata": {},
   "outputs": [],
   "source": [
    "import spotipy\n",
    "from spotipy.oauth2 import SpotifyOAuth\n",
    "\n",
    "# Initialize Spotipy client\n",
    "sp = spotipy.Spotify(auth_manager=SpotifyOAuth(client_id=\"your_client_id\",\n",
    "                                                client_secret=\"your_client_secret\",\n",
    "                                                redirect_uri=\"your_redirect_uri\"))\n",
    "\n",
    "# Search for the specific track\n",
    "query = 'track:Imagine artist:\"John Lennon\" year:1971'\n",
    "results = sp.search(q=query, type='track', limit=10)\n",
    "\n",
    "# Print the results\n",
    "for item in results['tracks']['items']:\n",
    "    print(f\"Track Name: {item['name']}, Artist: {item['artists'][0]['name']}, Album: {item['album']['name']}, Release Date: {item['album']['release_date']}\")"
   ]
  },
  {
   "cell_type": "code",
   "execution_count": null,
   "metadata": {},
   "outputs": [],
   "source": []
  },
  {
   "cell_type": "code",
   "execution_count": null,
   "metadata": {},
   "outputs": [],
   "source": []
  }
 ],
 "metadata": {
  "kernelspec": {
   "display_name": "p10",
   "language": "python",
   "name": "python3"
  },
  "language_info": {
   "codemirror_mode": {
    "name": "ipython",
    "version": 3
   },
   "file_extension": ".py",
   "mimetype": "text/x-python",
   "name": "python",
   "nbconvert_exporter": "python",
   "pygments_lexer": "ipython3",
   "version": "3.10.13"
  }
 },
 "nbformat": 4,
 "nbformat_minor": 2
}
