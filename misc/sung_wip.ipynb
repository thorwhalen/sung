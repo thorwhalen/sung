{
 "cells": [
  {
   "cell_type": "code",
   "execution_count": null,
   "metadata": {},
   "outputs": [],
   "source": []
  },
  {
   "cell_type": "markdown",
   "metadata": {},
   "source": [
    "# Get a playlist's song info"
   ]
  },
  {
   "cell_type": "code",
   "execution_count": 1,
   "metadata": {},
   "outputs": [],
   "source": [
    "from sung import Playlist\n",
    "\n",
    "playlist_url = \"https://open.spotify.com/playlist/4nEeS47ineUShHK2iAVeO0?si=be16c62b664f43f3\"\n",
    "playlist_id = playlist_url.split(\"/\")[-1].split(\"?\")[0]\n",
    "\n",
    "playlist = Playlist(playlist_id)\n"
   ]
  },
  {
   "cell_type": "code",
   "execution_count": 2,
   "metadata": {},
   "outputs": [
    {
     "data": {
      "text/plain": [
       "182"
      ]
     },
     "execution_count": 2,
     "metadata": {},
     "output_type": "execute_result"
    }
   ],
   "source": [
    "playlist_ids = list(playlist)\n",
    "len(playlist_ids)"
   ]
  },
  {
   "cell_type": "code",
   "execution_count": 13,
   "metadata": {},
   "outputs": [],
   "source": [
    "track_info = playlist[0]"
   ]
  },
  {
   "cell_type": "code",
   "execution_count": null,
   "metadata": {},
   "outputs": [],
   "source": [
    "track_info = playlist[:]"
   ]
  },
  {
   "cell_type": "code",
   "execution_count": 22,
   "metadata": {},
   "outputs": [
    {
     "data": {
      "text/plain": [
       "[1, 2, 3, 4]"
      ]
     },
     "execution_count": 22,
     "metadata": {},
     "output_type": "execute_result"
    }
   ],
   "source": [
    "t = [1,2,3,4]\n",
    "t[slice(None)]"
   ]
  },
  {
   "cell_type": "code",
   "execution_count": null,
   "metadata": {},
   "outputs": [
    {
     "data": {
      "text/html": [
       "<div>\n",
       "<style scoped>\n",
       "    .dataframe tbody tr th:only-of-type {\n",
       "        vertical-align: middle;\n",
       "    }\n",
       "\n",
       "    .dataframe tbody tr th {\n",
       "        vertical-align: top;\n",
       "    }\n",
       "\n",
       "    .dataframe thead th {\n",
       "        text-align: right;\n",
       "    }\n",
       "</style>\n",
       "<table border=\"1\" class=\"dataframe\">\n",
       "  <thead>\n",
       "    <tr style=\"text-align: right;\">\n",
       "      <th></th>\n",
       "      <th>album</th>\n",
       "      <th>artists</th>\n",
       "      <th>available_markets</th>\n",
       "      <th>disc_number</th>\n",
       "      <th>duration_ms</th>\n",
       "      <th>explicit</th>\n",
       "      <th>external_ids</th>\n",
       "      <th>external_urls</th>\n",
       "      <th>href</th>\n",
       "      <th>id</th>\n",
       "      <th>is_local</th>\n",
       "      <th>name</th>\n",
       "      <th>popularity</th>\n",
       "      <th>track_number</th>\n",
       "      <th>type</th>\n",
       "      <th>uri</th>\n",
       "    </tr>\n",
       "  </thead>\n",
       "  <tbody>\n",
       "    <tr>\n",
       "      <th>0</th>\n",
       "      <td>{'album_type': 'compilation', 'artists': [{'ex...</td>\n",
       "      <td>[{'external_urls': {'spotify': 'https://open.s...</td>\n",
       "      <td>[AR, AU, AT, BE, BO, BR, BG, CA, CL, CO, CR, C...</td>\n",
       "      <td>1</td>\n",
       "      <td>283693</td>\n",
       "      <td>False</td>\n",
       "      <td>{'isrc': 'USIR10000449'}</td>\n",
       "      <td>{'spotify': 'https://open.spotify.com/track/2W...</td>\n",
       "      <td>https://api.spotify.com/v1/tracks/2WXUcFnJPPAT...</td>\n",
       "      <td>2WXUcFnJPPATncUkPYC54v</td>\n",
       "      <td>False</td>\n",
       "      <td>The Real Slim Shady</td>\n",
       "      <td>54</td>\n",
       "      <td>9</td>\n",
       "      <td>track</td>\n",
       "      <td>spotify:track:2WXUcFnJPPATncUkPYC54v</td>\n",
       "    </tr>\n",
       "    <tr>\n",
       "      <th>1</th>\n",
       "      <td>{'album_type': 'compilation', 'artists': [{'ex...</td>\n",
       "      <td>[{'external_urls': {'spotify': 'https://open.s...</td>\n",
       "      <td>[CA, US]</td>\n",
       "      <td>2</td>\n",
       "      <td>320573</td>\n",
       "      <td>False</td>\n",
       "      <td>{'isrc': 'USIR10211570'}</td>\n",
       "      <td>{'spotify': 'https://open.spotify.com/track/2j...</td>\n",
       "      <td>https://api.spotify.com/v1/tracks/2jvHb9SHJDi8...</td>\n",
       "      <td>2jvHb9SHJDi8Ugky7tUzUb</td>\n",
       "      <td>False</td>\n",
       "      <td>Lose Yourself</td>\n",
       "      <td>50</td>\n",
       "      <td>3</td>\n",
       "      <td>track</td>\n",
       "      <td>spotify:track:2jvHb9SHJDi8Ugky7tUzUb</td>\n",
       "    </tr>\n",
       "    <tr>\n",
       "      <th>2</th>\n",
       "      <td>{'album_type': 'album', 'artists': [{'external...</td>\n",
       "      <td>[{'external_urls': {'spotify': 'https://open.s...</td>\n",
       "      <td>[CA, US]</td>\n",
       "      <td>1</td>\n",
       "      <td>290120</td>\n",
       "      <td>False</td>\n",
       "      <td>{'isrc': 'USIR10211127'}</td>\n",
       "      <td>{'spotify': 'https://open.spotify.com/track/3Q...</td>\n",
       "      <td>https://api.spotify.com/v1/tracks/3Q0kSmKpkffn...</td>\n",
       "      <td>3Q0kSmKpkffn4aWkYkWwet</td>\n",
       "      <td>False</td>\n",
       "      <td>Without Me</td>\n",
       "      <td>46</td>\n",
       "      <td>10</td>\n",
       "      <td>track</td>\n",
       "      <td>spotify:track:3Q0kSmKpkffn4aWkYkWwet</td>\n",
       "    </tr>\n",
       "    <tr>\n",
       "      <th>3</th>\n",
       "      <td>{'album_type': 'album', 'artists': [{'external...</td>\n",
       "      <td>[{'external_urls': {'spotify': 'https://open.s...</td>\n",
       "      <td>[AR, AU, AT, BE, BO, BR, BG, CA, CL, CO, CR, C...</td>\n",
       "      <td>1</td>\n",
       "      <td>263373</td>\n",
       "      <td>False</td>\n",
       "      <td>{'isrc': 'USUM71015443'}</td>\n",
       "      <td>{'spotify': 'https://open.spotify.com/track/4k...</td>\n",
       "      <td>https://api.spotify.com/v1/tracks/4k5Rb51qsUSM...</td>\n",
       "      <td>4k5Rb51qsUSMFg6oFdVC48</td>\n",
       "      <td>False</td>\n",
       "      <td>Love The Way You Lie</td>\n",
       "      <td>47</td>\n",
       "      <td>15</td>\n",
       "      <td>track</td>\n",
       "      <td>spotify:track:4k5Rb51qsUSMFg6oFdVC48</td>\n",
       "    </tr>\n",
       "  </tbody>\n",
       "</table>\n",
       "</div>"
      ],
      "text/plain": [
       "                                               album  \\\n",
       "0  {'album_type': 'compilation', 'artists': [{'ex...   \n",
       "1  {'album_type': 'compilation', 'artists': [{'ex...   \n",
       "2  {'album_type': 'album', 'artists': [{'external...   \n",
       "3  {'album_type': 'album', 'artists': [{'external...   \n",
       "\n",
       "                                             artists  \\\n",
       "0  [{'external_urls': {'spotify': 'https://open.s...   \n",
       "1  [{'external_urls': {'spotify': 'https://open.s...   \n",
       "2  [{'external_urls': {'spotify': 'https://open.s...   \n",
       "3  [{'external_urls': {'spotify': 'https://open.s...   \n",
       "\n",
       "                                   available_markets  disc_number  \\\n",
       "0  [AR, AU, AT, BE, BO, BR, BG, CA, CL, CO, CR, C...            1   \n",
       "1                                           [CA, US]            2   \n",
       "2                                           [CA, US]            1   \n",
       "3  [AR, AU, AT, BE, BO, BR, BG, CA, CL, CO, CR, C...            1   \n",
       "\n",
       "   duration_ms  explicit              external_ids  \\\n",
       "0       283693     False  {'isrc': 'USIR10000449'}   \n",
       "1       320573     False  {'isrc': 'USIR10211570'}   \n",
       "2       290120     False  {'isrc': 'USIR10211127'}   \n",
       "3       263373     False  {'isrc': 'USUM71015443'}   \n",
       "\n",
       "                                       external_urls  \\\n",
       "0  {'spotify': 'https://open.spotify.com/track/2W...   \n",
       "1  {'spotify': 'https://open.spotify.com/track/2j...   \n",
       "2  {'spotify': 'https://open.spotify.com/track/3Q...   \n",
       "3  {'spotify': 'https://open.spotify.com/track/4k...   \n",
       "\n",
       "                                                href                      id  \\\n",
       "0  https://api.spotify.com/v1/tracks/2WXUcFnJPPAT...  2WXUcFnJPPATncUkPYC54v   \n",
       "1  https://api.spotify.com/v1/tracks/2jvHb9SHJDi8...  2jvHb9SHJDi8Ugky7tUzUb   \n",
       "2  https://api.spotify.com/v1/tracks/3Q0kSmKpkffn...  3Q0kSmKpkffn4aWkYkWwet   \n",
       "3  https://api.spotify.com/v1/tracks/4k5Rb51qsUSM...  4k5Rb51qsUSMFg6oFdVC48   \n",
       "\n",
       "   is_local                  name  popularity  track_number   type  \\\n",
       "0     False   The Real Slim Shady          54             9  track   \n",
       "1     False         Lose Yourself          50             3  track   \n",
       "2     False            Without Me          46            10  track   \n",
       "3     False  Love The Way You Lie          47            15  track   \n",
       "\n",
       "                                    uri  \n",
       "0  spotify:track:2WXUcFnJPPATncUkPYC54v  \n",
       "1  spotify:track:2jvHb9SHJDi8Ugky7tUzUb  \n",
       "2  spotify:track:3Q0kSmKpkffn4aWkYkWwet  \n",
       "3  spotify:track:4k5Rb51qsUSMFg6oFdVC48  "
      ]
     },
     "execution_count": 20,
     "metadata": {},
     "output_type": "execute_result"
    }
   ],
   "source": [
    "import pandas as pd\n",
    "pd.DataFrame(track_info)"
   ]
  },
  {
   "cell_type": "code",
   "execution_count": 23,
   "metadata": {},
   "outputs": [],
   "source": [
    "# track_id, track_info = next(iter(playlist.items()))"
   ]
  },
  {
   "cell_type": "code",
   "execution_count": 35,
   "metadata": {},
   "outputs": [],
   "source": [
    "playlist_url = \"https://open.spotify.com/playlist/4nEeS47ineUShHK2iAVeO0?si=be16c62b664f43f3\"\n",
    "playlist_id = playlist_url.split(\"/\")[-1].split(\"?\")[0]\n",
    "\n",
    "playlist = Playlist(playlist_id)\n"
   ]
  },
  {
   "cell_type": "code",
   "execution_count": 36,
   "metadata": {},
   "outputs": [
    {
     "data": {
      "text/plain": [
       "{'album': {'album_type': 'album',\n",
       "  'artists': [{'external_urls': {'spotify': 'https://open.spotify.com/artist/3dRfiJ2650SZu6GbydcHNb'},\n",
       "    'href': 'https://api.spotify.com/v1/artists/3dRfiJ2650SZu6GbydcHNb',\n",
       "    'id': '3dRfiJ2650SZu6GbydcHNb',\n",
       "    'name': 'John Williams',\n",
       "    'type': 'artist',\n",
       "    'uri': 'spotify:artist:3dRfiJ2650SZu6GbydcHNb'}],\n",
       "  'available_markets': [],\n",
       "  'external_urls': {'spotify': 'https://open.spotify.com/album/0a5t6HeElUsxiFrdocSlBM'},\n",
       "  'href': 'https://api.spotify.com/v1/albums/0a5t6HeElUsxiFrdocSlBM',\n",
       "  'id': '0a5t6HeElUsxiFrdocSlBM',\n",
       "  'images': [{'url': 'https://i.scdn.co/image/ab67616d0000b273f50f647ba174da416dd9bce0',\n",
       "    'width': 640,\n",
       "    'height': 640},\n",
       "   {'url': 'https://i.scdn.co/image/ab67616d00001e02f50f647ba174da416dd9bce0',\n",
       "    'width': 300,\n",
       "    'height': 300},\n",
       "   {'url': 'https://i.scdn.co/image/ab67616d00004851f50f647ba174da416dd9bce0',\n",
       "    'width': 64,\n",
       "    'height': 64}],\n",
       "  'name': 'Star Wars Episode V: The Empire Strikes Back (Original Motion Picture Soundtrack)',\n",
       "  'release_date': '1997',\n",
       "  'release_date_precision': 'year',\n",
       "  'total_tracks': 23,\n",
       "  'type': 'album',\n",
       "  'uri': 'spotify:album:0a5t6HeElUsxiFrdocSlBM'},\n",
       " 'artists': [{'external_urls': {'spotify': 'https://open.spotify.com/artist/3dRfiJ2650SZu6GbydcHNb'},\n",
       "   'href': 'https://api.spotify.com/v1/artists/3dRfiJ2650SZu6GbydcHNb',\n",
       "   'id': '3dRfiJ2650SZu6GbydcHNb',\n",
       "   'name': 'John Williams',\n",
       "   'type': 'artist',\n",
       "   'uri': 'spotify:artist:3dRfiJ2650SZu6GbydcHNb'},\n",
       "  {'external_urls': {'spotify': 'https://open.spotify.com/artist/5zMZofgPVYk9IVibwopcbY'},\n",
       "   'href': 'https://api.spotify.com/v1/artists/5zMZofgPVYk9IVibwopcbY',\n",
       "   'id': '5zMZofgPVYk9IVibwopcbY',\n",
       "   'name': 'John Neal',\n",
       "   'type': 'artist',\n",
       "   'uri': 'spotify:artist:5zMZofgPVYk9IVibwopcbY'}],\n",
       " 'available_markets': [],\n",
       " 'disc_number': 2,\n",
       " 'duration_ms': 182973,\n",
       " 'explicit': False,\n",
       " 'external_ids': {'isrc': 'USSM10411815'},\n",
       " 'external_urls': {'spotify': 'https://open.spotify.com/track/62HY7V5hRKtfIZ7uCYqYqu'},\n",
       " 'href': 'https://api.spotify.com/v1/tracks/62HY7V5hRKtfIZ7uCYqYqu',\n",
       " 'id': '62HY7V5hRKtfIZ7uCYqYqu',\n",
       " 'is_local': False,\n",
       " 'name': \"The Imperial March (Darth Vader's Theme)\",\n",
       " 'popularity': 0,\n",
       " 'track_number': 1,\n",
       " 'type': 'track',\n",
       " 'uri': 'spotify:track:62HY7V5hRKtfIZ7uCYqYqu'}"
      ]
     },
     "execution_count": 36,
     "metadata": {},
     "output_type": "execute_result"
    }
   ],
   "source": [
    "playlist[0]\n"
   ]
  },
  {
   "cell_type": "code",
   "execution_count": null,
   "metadata": {},
   "outputs": [],
   "source": [
    "top50_global = 'https://open.spotify.com/playlist/37i9dQZEVXbMDoHDwVN2tF?si=XAqOB5WISLmEuaUp9BlGKA'\n",
    "top50_global_id = top50_global.split(\"/\")[-1].split(\"?\")[0]\n"
   ]
  },
  {
   "cell_type": "code",
   "execution_count": null,
   "metadata": {},
   "outputs": [],
   "source": []
  },
  {
   "cell_type": "markdown",
   "metadata": {},
   "source": [
    "# Search and save 100 highest ranked jazz real book songs"
   ]
  },
  {
   "cell_type": "markdown",
   "metadata": {},
   "source": [
    "## get the data"
   ]
  },
  {
   "cell_type": "code",
   "execution_count": 86,
   "metadata": {},
   "outputs": [
    {
     "data": {
      "text/html": [
       "<div>\n",
       "<style scoped>\n",
       "    .dataframe tbody tr th:only-of-type {\n",
       "        vertical-align: middle;\n",
       "    }\n",
       "\n",
       "    .dataframe tbody tr th {\n",
       "        vertical-align: top;\n",
       "    }\n",
       "\n",
       "    .dataframe thead th {\n",
       "        text-align: right;\n",
       "    }\n",
       "</style>\n",
       "<table border=\"1\" class=\"dataframe\">\n",
       "  <thead>\n",
       "    <tr style=\"text-align: right;\">\n",
       "      <th></th>\n",
       "      <th>year</th>\n",
       "      <th>title</th>\n",
       "    </tr>\n",
       "    <tr>\n",
       "      <th>rank</th>\n",
       "      <th></th>\n",
       "      <th></th>\n",
       "    </tr>\n",
       "  </thead>\n",
       "  <tbody>\n",
       "    <tr>\n",
       "      <th>1</th>\n",
       "      <td>1930</td>\n",
       "      <td>Body and Soul</td>\n",
       "    </tr>\n",
       "    <tr>\n",
       "      <th>2</th>\n",
       "      <td>1939</td>\n",
       "      <td>All the Things You Are</td>\n",
       "    </tr>\n",
       "    <tr>\n",
       "      <th>3</th>\n",
       "      <td>1935</td>\n",
       "      <td>Summertime</td>\n",
       "    </tr>\n",
       "    <tr>\n",
       "      <th>4</th>\n",
       "      <td>1944</td>\n",
       "      <td>'Round Midnight</td>\n",
       "    </tr>\n",
       "    <tr>\n",
       "      <th>5</th>\n",
       "      <td>1935</td>\n",
       "      <td>I Can't Get Started (with You)</td>\n",
       "    </tr>\n",
       "    <tr>\n",
       "      <th>...</th>\n",
       "      <td>...</td>\n",
       "      <td>...</td>\n",
       "    </tr>\n",
       "    <tr>\n",
       "      <th>996</th>\n",
       "      <td>1963</td>\n",
       "      <td>Wives and Lovers (Hey Little Girl)</td>\n",
       "    </tr>\n",
       "    <tr>\n",
       "      <th>997</th>\n",
       "      <td>1958</td>\n",
       "      <td>This Is All I Ask</td>\n",
       "    </tr>\n",
       "    <tr>\n",
       "      <th>998</th>\n",
       "      <td>1938</td>\n",
       "      <td>Doggin' Around</td>\n",
       "    </tr>\n",
       "    <tr>\n",
       "      <th>999</th>\n",
       "      <td>1935</td>\n",
       "      <td>I Won't Dance</td>\n",
       "    </tr>\n",
       "    <tr>\n",
       "      <th>1000</th>\n",
       "      <td>1946</td>\n",
       "      <td>To Each His Own</td>\n",
       "    </tr>\n",
       "  </tbody>\n",
       "</table>\n",
       "<p>1000 rows × 2 columns</p>\n",
       "</div>"
      ],
      "text/plain": [
       "      year                               title\n",
       "rank                                          \n",
       "1     1930                       Body and Soul\n",
       "2     1939              All the Things You Are\n",
       "3     1935                          Summertime\n",
       "4     1944                     'Round Midnight\n",
       "5     1935      I Can't Get Started (with You)\n",
       "...    ...                                 ...\n",
       "996   1963  Wives and Lovers (Hey Little Girl)\n",
       "997   1958                   This Is All I Ask\n",
       "998   1938                      Doggin' Around\n",
       "999   1935                       I Won't Dance\n",
       "1000  1946                     To Each His Own\n",
       "\n",
       "[1000 rows x 2 columns]"
      ]
     },
     "execution_count": 86,
     "metadata": {},
     "output_type": "execute_result"
    }
   ],
   "source": [
    "from graze import graze\n",
    "from dol import Pipe\n",
    "import pandas as pd \n",
    "import io\n",
    "\n",
    "ranked_songs_url = 'https://raw.githubusercontent.com/thorwhalen/content/refs/heads/master/tables/tsv/ranked_real_book_songs.tsv'\n",
    "b = graze(ranked_songs_url)\n",
    "df = pd.read_csv(io.BytesIO(b), sep='\\t')\n",
    "df = df.set_index('rank')\n",
    "df['year'] = df['year'].fillna(0).astype(int)\n",
    "# replace the 0 with NaN\n",
    "df['year'] = df['year'].replace(0, pd.NA)\n",
    "df"
   ]
  },
  {
   "cell_type": "markdown",
   "metadata": {},
   "source": [
    "Keep only the top 100 songs"
   ]
  },
  {
   "cell_type": "code",
   "execution_count": 100,
   "metadata": {},
   "outputs": [
    {
     "data": {
      "text/html": [
       "<div>\n",
       "<style scoped>\n",
       "    .dataframe tbody tr th:only-of-type {\n",
       "        vertical-align: middle;\n",
       "    }\n",
       "\n",
       "    .dataframe tbody tr th {\n",
       "        vertical-align: top;\n",
       "    }\n",
       "\n",
       "    .dataframe thead th {\n",
       "        text-align: right;\n",
       "    }\n",
       "</style>\n",
       "<table border=\"1\" class=\"dataframe\">\n",
       "  <thead>\n",
       "    <tr style=\"text-align: right;\">\n",
       "      <th></th>\n",
       "      <th>year</th>\n",
       "      <th>title</th>\n",
       "    </tr>\n",
       "    <tr>\n",
       "      <th>rank</th>\n",
       "      <th></th>\n",
       "      <th></th>\n",
       "    </tr>\n",
       "  </thead>\n",
       "  <tbody>\n",
       "    <tr>\n",
       "      <th>1</th>\n",
       "      <td>1930</td>\n",
       "      <td>Body and Soul</td>\n",
       "    </tr>\n",
       "    <tr>\n",
       "      <th>2</th>\n",
       "      <td>1939</td>\n",
       "      <td>All the Things You Are</td>\n",
       "    </tr>\n",
       "    <tr>\n",
       "      <th>3</th>\n",
       "      <td>1935</td>\n",
       "      <td>Summertime</td>\n",
       "    </tr>\n",
       "    <tr>\n",
       "      <th>4</th>\n",
       "      <td>1944</td>\n",
       "      <td>'Round Midnight</td>\n",
       "    </tr>\n",
       "    <tr>\n",
       "      <th>5</th>\n",
       "      <td>1935</td>\n",
       "      <td>I Can't Get Started (with You)</td>\n",
       "    </tr>\n",
       "    <tr>\n",
       "      <th>...</th>\n",
       "      <td>...</td>\n",
       "      <td>...</td>\n",
       "    </tr>\n",
       "    <tr>\n",
       "      <th>96</th>\n",
       "      <td>1940</td>\n",
       "      <td>You Stepped Out of a Dream</td>\n",
       "    </tr>\n",
       "    <tr>\n",
       "      <th>97</th>\n",
       "      <td>1953</td>\n",
       "      <td>My One and Only Love</td>\n",
       "    </tr>\n",
       "    <tr>\n",
       "      <th>98</th>\n",
       "      <td>1927</td>\n",
       "      <td>'S Wonderful!</td>\n",
       "    </tr>\n",
       "    <tr>\n",
       "      <th>99</th>\n",
       "      <td>1933</td>\n",
       "      <td>Smoke Gets in Your Eyes</td>\n",
       "    </tr>\n",
       "    <tr>\n",
       "      <th>100</th>\n",
       "      <td>1953</td>\n",
       "      <td>Here's That Rainy Day</td>\n",
       "    </tr>\n",
       "  </tbody>\n",
       "</table>\n",
       "<p>100 rows × 2 columns</p>\n",
       "</div>"
      ],
      "text/plain": [
       "      year                           title\n",
       "rank                                      \n",
       "1     1930                   Body and Soul\n",
       "2     1939          All the Things You Are\n",
       "3     1935                      Summertime\n",
       "4     1944                 'Round Midnight\n",
       "5     1935  I Can't Get Started (with You)\n",
       "...    ...                             ...\n",
       "96    1940      You Stepped Out of a Dream\n",
       "97    1953            My One and Only Love\n",
       "98    1927                   'S Wonderful!\n",
       "99    1933         Smoke Gets in Your Eyes\n",
       "100   1953           Here's That Rainy Day\n",
       "\n",
       "[100 rows x 2 columns]"
      ]
     },
     "execution_count": 100,
     "metadata": {},
     "output_type": "execute_result"
    }
   ],
   "source": [
    "df = df.sort_values('rank')  # already sorted, but just to make sure\n",
    "top_songs = df.head(100)\n",
    "top_songs"
   ]
  },
  {
   "cell_type": "markdown",
   "metadata": {},
   "source": [
    "## Search and save spotify data for each title"
   ]
  },
  {
   "cell_type": "code",
   "execution_count": 28,
   "metadata": {},
   "outputs": [],
   "source": [
    "from sung import search_tracks\n",
    "from functools import partial\n",
    "from dol import JsonFiles, process_path, Pipe, KeyCodecs\n",
    "\n",
    "ensure_path = partial(process_path, ensure_dir_exists=True)\n",
    "\n",
    "tracks_for = partial(search_tracks, limit=10, market=['US', 'FR'], genre='jazz')\n",
    "\n",
    "mk_store = Pipe(ensure_path, JsonFiles, KeyCodecs.suffixed('.json'))\n"
   ]
  },
  {
   "cell_type": "markdown",
   "metadata": {},
   "source": [
    "### Search and save"
   ]
  },
  {
   "cell_type": "code",
   "execution_count": null,
   "metadata": {},
   "outputs": [],
   "source": [
    "from time import sleep\n",
    "from lkj import print_progress\n",
    "\n",
    "store = mk_store('~/Downloads/top_real_book_songs')"
   ]
  },
  {
   "cell_type": "code",
   "execution_count": 137,
   "metadata": {},
   "outputs": [],
   "source": [
    "def download_tracks():\n",
    "    for i, title in enumerate(top_songs.title):\n",
    "        _padded_title = title + ' ' * 50  # to allow the refresh to not show the previous title\n",
    "        print_progress(f\"{i:03.0f}: {_padded_title}\", refresh=True)\n",
    "        store[title] = tracks_for(title)\n",
    "        sleep(1)  # wait, to be nice to the API\n",
    "\n",
    "## Uncomment the following line to download the tracks\n",
    "# download_tracks()"
   ]
  },
  {
   "cell_type": "markdown",
   "metadata": {},
   "source": [
    "Aggregate the tracks in a single store"
   ]
  },
  {
   "cell_type": "code",
   "execution_count": 135,
   "metadata": {},
   "outputs": [],
   "source": [
    "store = mk_store('~/Downloads/top_real_book_songs')\n",
    "top_real_book_songs = {title: store[title] for title in store}\n",
    "# sort the songs by rank\n",
    "top_real_book_songs = {k: top_real_book_songs[k] for k in top_songs.title}"
   ]
  },
  {
   "cell_type": "markdown",
   "metadata": {},
   "source": [
    "Save this aggregate to a file"
   ]
  },
  {
   "cell_type": "code",
   "execution_count": null,
   "metadata": {},
   "outputs": [],
   "source": [
    "from dol import TextFiles\n",
    "import json\n",
    "\n",
    "another_store = TextFiles('/Users/thorwhalen/Dropbox/_odata/music/spotify/')\n",
    "another_store['top_real_book_songs.json'] = json.dumps(top_real_book_songs, indent=2)"
   ]
  },
  {
   "cell_type": "markdown",
   "metadata": {},
   "source": [
    "## Make a playlist"
   ]
  },
  {
   "cell_type": "code",
   "execution_count": 9,
   "metadata": {},
   "outputs": [
    {
     "data": {
      "text/plain": [
       "100"
      ]
     },
     "execution_count": 9,
     "metadata": {},
     "output_type": "execute_result"
    }
   ],
   "source": [
    "from dol import JsonFiles, Pipe, KeyCodecs\n",
    "\n",
    "mk_store = Pipe(JsonFiles, KeyCodecs.suffixed('.json'))\n",
    "\n",
    "s = mk_store('/Users/thorwhalen/Dropbox/_odata/music/spotify/')\n",
    "list(s)\n",
    "\n",
    "d = s['top_real_book_songs']\n",
    "len(d)\n"
   ]
  },
  {
   "cell_type": "code",
   "execution_count": 10,
   "metadata": {},
   "outputs": [
    {
     "data": {
      "text/plain": [
       "'Body and Soul'"
      ]
     },
     "execution_count": 10,
     "metadata": {},
     "output_type": "execute_result"
    }
   ],
   "source": [
    "k, v = next(iter(d.items()))\n",
    "k"
   ]
  },
  {
   "cell_type": "code",
   "execution_count": 11,
   "metadata": {},
   "outputs": [
    {
     "data": {
      "text/plain": [
       "['album',\n",
       " 'artists',\n",
       " 'disc_number',\n",
       " 'duration_ms',\n",
       " 'explicit',\n",
       " 'external_ids',\n",
       " 'external_urls',\n",
       " 'href',\n",
       " 'id',\n",
       " 'is_local',\n",
       " 'is_playable',\n",
       " 'name',\n",
       " 'popularity',\n",
       " 'preview_url',\n",
       " 'track_number',\n",
       " 'type',\n",
       " 'uri']"
      ]
     },
     "execution_count": 11,
     "metadata": {},
     "output_type": "execute_result"
    }
   ],
   "source": [
    "vv = v[0]\n",
    "list(vv)"
   ]
  },
  {
   "cell_type": "code",
   "execution_count": 12,
   "metadata": {},
   "outputs": [
    {
     "data": {
      "text/plain": [
       "300"
      ]
     },
     "execution_count": 12,
     "metadata": {},
     "output_type": "execute_result"
    }
   ],
   "source": [
    "import pandas as pd\n",
    "\n",
    "most_popular = {}\n",
    "for i in [0, 1, 2]:\n",
    "    most_popular[i] = {\n",
    "    k: pd.DataFrame(v).sort_values('popularity', ascending=False).iloc[i]['id']\n",
    "    for k, v in d.items()\n",
    "}\n",
    "\n",
    "from itertools import chain\n",
    "\n",
    "top_ids = list(chain(*[list(v.values()) for v in most_popular.values()]))\n",
    "len(top_ids)"
   ]
  },
  {
   "cell_type": "code",
   "execution_count": 13,
   "metadata": {},
   "outputs": [
    {
     "data": {
      "text/plain": [
       "Playlist(\"7k5YIjugt6kRy8KgR5dpqH\")"
      ]
     },
     "execution_count": 13,
     "metadata": {},
     "output_type": "execute_result"
    }
   ],
   "source": [
    "from sung.base import Playlist\n",
    "\n",
    "p = Playlist.create_from_track_list(top_ids, playlist_name='Top Real Book Songs')\n",
    "p"
   ]
  },
  {
   "cell_type": "code",
   "execution_count": null,
   "metadata": {},
   "outputs": [],
   "source": []
  },
  {
   "cell_type": "markdown",
   "metadata": {},
   "source": [
    "## A few graphs of the ranked jazz real book songs data"
   ]
  },
  {
   "cell_type": "code",
   "execution_count": 97,
   "metadata": {},
   "outputs": [
    {
     "data": {
      "image/png": "[encoded data removed]",
      "text/plain": [
       "<Figure size 640x480 with 1 Axes>"
      ]
     },
     "metadata": {},
     "output_type": "display_data"
    }
   ],
   "source": [
    "import seaborn as sns\n",
    "\n",
    "sns.scatterplot(data=df, x='year', y='rank', alpha=0.5);"
   ]
  },
  {
   "cell_type": "code",
   "execution_count": 98,
   "metadata": {},
   "outputs": [
    {
     "data": {
      "image/png": "[encoded data removed]",
      "text/plain": [
       "<Figure size 600x600 with 3 Axes>"
      ]
     },
     "metadata": {},
     "output_type": "display_data"
    }
   ],
   "source": [
    "import seaborn as sns\n",
    "\n",
    "sns.set_theme(style=\"whitegrid\")\n",
    "sns.jointplot(data=df, x=\"year\", y=\"rank\", kind=\"kde\", color=\"b\", fill=True);"
   ]
  },
  {
   "cell_type": "code",
   "execution_count": null,
   "metadata": {},
   "outputs": [],
   "source": []
  },
  {
   "cell_type": "markdown",
   "metadata": {},
   "source": [
    "# Appendix: Scrape Real Book Songs Ranks"
   ]
  },
  {
   "cell_type": "code",
   "execution_count": 26,
   "metadata": {},
   "outputs": [],
   "source": [
    "from tabled import get_tables_from_url\n",
    "import pandas as pd \n",
    "\n",
    "\n",
    "def has_years_in_second_column(df):\n",
    "    if 1 in df.columns and len(df) > 1:\n",
    "        # change df[1] to be integers only (do it in place so the original df is changed to a numerical format)\n",
    "        df[1] = pd.to_numeric(df[1], errors='coerce')\n",
    "        vals = set(filter(pd.notna, df[1]))\n",
    "        return all(map(lambda x: 1800 < x < 2100, vals))\n",
    "    else:\n",
    "        return False\n",
    "    \n",
    "url_template = 'https://www.jazzstandards.com/compositions/index{num}.htm'\n",
    "\n"
   ]
  },
  {
   "cell_type": "code",
   "execution_count": 27,
   "metadata": {},
   "outputs": [],
   "source": [
    "import pandas as pd\n",
    "\n",
    "val_filt = lambda df: 'Body and Soul' in set( df.values.flatten())\n",
    "\n",
    "nums = [''] + list(range(2, 11))\n",
    "urls = map(lambda num: url_template.format(num=num), nums)\n",
    "url_tables = list(map(get_tables_from_url, urls))\n",
    "# song_tables = map(lambda tables: next(filter(has_years_in_second_column, tables)), url_tables)\n",
    "\n",
    "def gen_song_tables():\n",
    "    for i, tables in enumerate(url_tables):\n",
    "        table = next(filter(has_years_in_second_column, tables))\n",
    "        if len(table) == 0:\n",
    "            print(f\"--> table {i} is empty\")\n",
    "        yield table\n",
    "\n",
    "ranked_songs = pd.concat(gen_song_tables())"
   ]
  },
  {
   "cell_type": "code",
   "execution_count": 28,
   "metadata": {},
   "outputs": [
    {
     "data": {
      "text/plain": [
       "1000"
      ]
     },
     "execution_count": 28,
     "metadata": {},
     "output_type": "execute_result"
    }
   ],
   "source": [
    "len(ranked_songs)"
   ]
  },
  {
   "cell_type": "code",
   "execution_count": 60,
   "metadata": {},
   "outputs": [],
   "source": [
    "# rename the columns to rank, year, and title\n",
    "ranked_songs.columns = ['rank', 'year', 'title']\n",
    "# verify that the rank column is unique\n",
    "assert ranked_songs['rank'].is_unique\n",
    "# change the index to be the rank\n",
    "ranked_songs = ranked_songs.set_index('rank', drop=False)\n",
    "# fill non-finite values with a default value (e.g., 0) and change years to be integer\n",
    "ranked_songs['year'] = ranked_songs['year'].fillna(0).astype(int)\n",
    "# replace the 0 with NaN\n",
    "ranked_songs['year'] = ranked_songs['year'].replace(0, pd.NA)"
   ]
  },
  {
   "cell_type": "code",
   "execution_count": 61,
   "metadata": {},
   "outputs": [
    {
     "data": {
      "text/html": [
       "<div>\n",
       "<style scoped>\n",
       "    .dataframe tbody tr th:only-of-type {\n",
       "        vertical-align: middle;\n",
       "    }\n",
       "\n",
       "    .dataframe tbody tr th {\n",
       "        vertical-align: top;\n",
       "    }\n",
       "\n",
       "    .dataframe thead th {\n",
       "        text-align: right;\n",
       "    }\n",
       "</style>\n",
       "<table border=\"1\" class=\"dataframe\">\n",
       "  <thead>\n",
       "    <tr style=\"text-align: right;\">\n",
       "      <th></th>\n",
       "      <th>rank</th>\n",
       "      <th>year</th>\n",
       "      <th>title</th>\n",
       "    </tr>\n",
       "    <tr>\n",
       "      <th>rank</th>\n",
       "      <th></th>\n",
       "      <th></th>\n",
       "      <th></th>\n",
       "    </tr>\n",
       "  </thead>\n",
       "  <tbody>\n",
       "    <tr>\n",
       "      <th>403</th>\n",
       "      <td>403</td>\n",
       "      <td>&lt;NA&gt;</td>\n",
       "      <td>Greensleeves</td>\n",
       "    </tr>\n",
       "    <tr>\n",
       "      <th>430</th>\n",
       "      <td>430</td>\n",
       "      <td>&lt;NA&gt;</td>\n",
       "      <td>Dear Old Stockholm</td>\n",
       "    </tr>\n",
       "    <tr>\n",
       "      <th>478</th>\n",
       "      <td>478</td>\n",
       "      <td>&lt;NA&gt;</td>\n",
       "      <td>Swing Low, Sweet Chariot</td>\n",
       "    </tr>\n",
       "    <tr>\n",
       "      <th>514</th>\n",
       "      <td>514</td>\n",
       "      <td>&lt;NA&gt;</td>\n",
       "      <td>Frankie and Johnny</td>\n",
       "    </tr>\n",
       "    <tr>\n",
       "      <th>538</th>\n",
       "      <td>538</td>\n",
       "      <td>&lt;NA&gt;</td>\n",
       "      <td>Nobody Knows the Trouble I've Seen</td>\n",
       "    </tr>\n",
       "    <tr>\n",
       "      <th>649</th>\n",
       "      <td>649</td>\n",
       "      <td>&lt;NA&gt;</td>\n",
       "      <td>Danny Boy</td>\n",
       "    </tr>\n",
       "    <tr>\n",
       "      <th>651</th>\n",
       "      <td>651</td>\n",
       "      <td>&lt;NA&gt;</td>\n",
       "      <td>Deep River</td>\n",
       "    </tr>\n",
       "    <tr>\n",
       "      <th>729</th>\n",
       "      <td>729</td>\n",
       "      <td>&lt;NA&gt;</td>\n",
       "      <td>God Rest Ye Merry Gentlemen</td>\n",
       "    </tr>\n",
       "    <tr>\n",
       "      <th>731</th>\n",
       "      <td>731</td>\n",
       "      <td>&lt;NA&gt;</td>\n",
       "      <td>Amazing Grace</td>\n",
       "    </tr>\n",
       "    <tr>\n",
       "      <th>781</th>\n",
       "      <td>781</td>\n",
       "      <td>&lt;NA&gt;</td>\n",
       "      <td>Just a Closer Walk with Thee</td>\n",
       "    </tr>\n",
       "    <tr>\n",
       "      <th>958</th>\n",
       "      <td>958</td>\n",
       "      <td>&lt;NA&gt;</td>\n",
       "      <td>Auld Lang Syne</td>\n",
       "    </tr>\n",
       "  </tbody>\n",
       "</table>\n",
       "</div>"
      ],
      "text/plain": [
       "      rank  year                               title\n",
       "rank                                                \n",
       "403    403  <NA>                        Greensleeves\n",
       "430    430  <NA>                  Dear Old Stockholm\n",
       "478    478  <NA>            Swing Low, Sweet Chariot\n",
       "514    514  <NA>                  Frankie and Johnny\n",
       "538    538  <NA>  Nobody Knows the Trouble I've Seen\n",
       "649    649  <NA>                           Danny Boy\n",
       "651    651  <NA>                          Deep River\n",
       "729    729  <NA>         God Rest Ye Merry Gentlemen\n",
       "731    731  <NA>                       Amazing Grace\n",
       "781    781  <NA>        Just a Closer Walk with Thee\n",
       "958    958  <NA>                      Auld Lang Syne"
      ]
     },
     "execution_count": 61,
     "metadata": {},
     "output_type": "execute_result"
    }
   ],
   "source": [
    "ranked_songs[ranked_songs['year'].isna()]"
   ]
  },
  {
   "cell_type": "markdown",
   "metadata": {},
   "source": [
    "## Save to tsv so we can upload to github"
   ]
  },
  {
   "cell_type": "markdown",
   "metadata": {},
   "source": [
    "Make a tsv file and upload to https://raw.githubusercontent.com/thorwhalen/content/refs/heads/master/tables/tsv/ranked_real_book_songs.tsv"
   ]
  },
  {
   "cell_type": "code",
   "execution_count": 67,
   "metadata": {},
   "outputs": [],
   "source": [
    "t = ranked_songs.copy()\n",
    "# replace nan by empty string\n",
    "t = t.fillna('')\n",
    "# make the tsv string, dropping the index\n",
    "t.to_csv('~/Downloads/ranked_real_book_songs.tsv', sep='\\t', index=False)"
   ]
  },
  {
   "cell_type": "code",
   "execution_count": null,
   "metadata": {},
   "outputs": [],
   "source": []
  },
  {
   "cell_type": "markdown",
   "metadata": {},
   "source": [
    "## Scrape real books songs ranks WIP"
   ]
  },
  {
   "cell_type": "code",
   "execution_count": 3,
   "metadata": {},
   "outputs": [
    {
     "data": {
      "text/plain": [
       "'https://www.jazzstandards.com/compositions/index.htm'"
      ]
     },
     "execution_count": 3,
     "metadata": {},
     "output_type": "execute_result"
    }
   ],
   "source": [
    "url_template = 'https://www.jazzstandards.com/compositions/index{num}.htm'\n",
    "\n",
    "url = url_template.format(num='')\n",
    "url"
   ]
  },
  {
   "cell_type": "code",
   "execution_count": 4,
   "metadata": {},
   "outputs": [
    {
     "data": {
      "text/plain": [
       "18"
      ]
     },
     "execution_count": 4,
     "metadata": {},
     "output_type": "execute_result"
    }
   ],
   "source": [
    "from tabled import get_tables_from_url\n",
    "\n",
    "tables = get_tables_from_url(url)\n",
    "len(tables)"
   ]
  },
  {
   "cell_type": "code",
   "execution_count": 5,
   "metadata": {},
   "outputs": [
    {
     "data": {
      "text/html": [
       "<div>\n",
       "<style scoped>\n",
       "    .dataframe tbody tr th:only-of-type {\n",
       "        vertical-align: middle;\n",
       "    }\n",
       "\n",
       "    .dataframe tbody tr th {\n",
       "        vertical-align: top;\n",
       "    }\n",
       "\n",
       "    .dataframe thead th {\n",
       "        text-align: right;\n",
       "    }\n",
       "</style>\n",
       "<table border=\"1\" class=\"dataframe\">\n",
       "  <thead>\n",
       "    <tr style=\"text-align: right;\">\n",
       "      <th></th>\n",
       "      <th>0</th>\n",
       "      <th>1</th>\n",
       "      <th>2</th>\n",
       "    </tr>\n",
       "  </thead>\n",
       "  <tbody>\n",
       "    <tr>\n",
       "      <th>0</th>\n",
       "      <td>1</td>\n",
       "      <td>1930</td>\n",
       "      <td>Body and Soul</td>\n",
       "    </tr>\n",
       "    <tr>\n",
       "      <th>1</th>\n",
       "      <td>2</td>\n",
       "      <td>1939</td>\n",
       "      <td>All the Things You Are</td>\n",
       "    </tr>\n",
       "    <tr>\n",
       "      <th>2</th>\n",
       "      <td>3</td>\n",
       "      <td>1935</td>\n",
       "      <td>Summertime</td>\n",
       "    </tr>\n",
       "    <tr>\n",
       "      <th>3</th>\n",
       "      <td>4</td>\n",
       "      <td>1944</td>\n",
       "      <td>'Round Midnight</td>\n",
       "    </tr>\n",
       "    <tr>\n",
       "      <th>4</th>\n",
       "      <td>5</td>\n",
       "      <td>1935</td>\n",
       "      <td>I Can't Get Started (with You)</td>\n",
       "    </tr>\n",
       "    <tr>\n",
       "      <th>...</th>\n",
       "      <td>...</td>\n",
       "      <td>...</td>\n",
       "      <td>...</td>\n",
       "    </tr>\n",
       "    <tr>\n",
       "      <th>95</th>\n",
       "      <td>96</td>\n",
       "      <td>1940</td>\n",
       "      <td>You Stepped Out of a Dream</td>\n",
       "    </tr>\n",
       "    <tr>\n",
       "      <th>96</th>\n",
       "      <td>97</td>\n",
       "      <td>1953</td>\n",
       "      <td>My One and Only Love</td>\n",
       "    </tr>\n",
       "    <tr>\n",
       "      <th>97</th>\n",
       "      <td>98</td>\n",
       "      <td>1927</td>\n",
       "      <td>'S Wonderful!</td>\n",
       "    </tr>\n",
       "    <tr>\n",
       "      <th>98</th>\n",
       "      <td>99</td>\n",
       "      <td>1933</td>\n",
       "      <td>Smoke Gets in Your Eyes</td>\n",
       "    </tr>\n",
       "    <tr>\n",
       "      <th>99</th>\n",
       "      <td>100</td>\n",
       "      <td>1953</td>\n",
       "      <td>Here's That Rainy Day</td>\n",
       "    </tr>\n",
       "  </tbody>\n",
       "</table>\n",
       "<p>100 rows × 3 columns</p>\n",
       "</div>"
      ],
      "text/plain": [
       "      0     1                               2\n",
       "0     1  1930                   Body and Soul\n",
       "1     2  1939          All the Things You Are\n",
       "2     3  1935                      Summertime\n",
       "3     4  1944                 'Round Midnight\n",
       "4     5  1935  I Can't Get Started (with You)\n",
       "..  ...   ...                             ...\n",
       "95   96  1940      You Stepped Out of a Dream\n",
       "96   97  1953            My One and Only Love\n",
       "97   98  1927                   'S Wonderful!\n",
       "98   99  1933         Smoke Gets in Your Eyes\n",
       "99  100  1953           Here's That Rainy Day\n",
       "\n",
       "[100 rows x 3 columns]"
      ]
     },
     "execution_count": 5,
     "metadata": {},
     "output_type": "execute_result"
    }
   ],
   "source": [
    "# There are a bunch of tables, but we are only interested in the one with the songs\n",
    "val_filt = lambda df: 'Body and Soul' in set( df.values.flatten())\n",
    "\n",
    "df = next(filter(val_filt, tables))\n",
    "df"
   ]
  },
  {
   "cell_type": "code",
   "execution_count": 11,
   "metadata": {},
   "outputs": [
    {
     "data": {
      "text/html": [
       "<div>\n",
       "<style scoped>\n",
       "    .dataframe tbody tr th:only-of-type {\n",
       "        vertical-align: middle;\n",
       "    }\n",
       "\n",
       "    .dataframe tbody tr th {\n",
       "        vertical-align: top;\n",
       "    }\n",
       "\n",
       "    .dataframe thead th {\n",
       "        text-align: right;\n",
       "    }\n",
       "</style>\n",
       "<table border=\"1\" class=\"dataframe\">\n",
       "  <thead>\n",
       "    <tr style=\"text-align: right;\">\n",
       "      <th></th>\n",
       "      <th>0</th>\n",
       "      <th>1</th>\n",
       "      <th>2</th>\n",
       "    </tr>\n",
       "  </thead>\n",
       "  <tbody>\n",
       "    <tr>\n",
       "      <th>0</th>\n",
       "      <td>1</td>\n",
       "      <td>1930</td>\n",
       "      <td>Body and Soul</td>\n",
       "    </tr>\n",
       "    <tr>\n",
       "      <th>1</th>\n",
       "      <td>2</td>\n",
       "      <td>1939</td>\n",
       "      <td>All the Things You Are</td>\n",
       "    </tr>\n",
       "    <tr>\n",
       "      <th>2</th>\n",
       "      <td>3</td>\n",
       "      <td>1935</td>\n",
       "      <td>Summertime</td>\n",
       "    </tr>\n",
       "    <tr>\n",
       "      <th>3</th>\n",
       "      <td>4</td>\n",
       "      <td>1944</td>\n",
       "      <td>'Round Midnight</td>\n",
       "    </tr>\n",
       "    <tr>\n",
       "      <th>4</th>\n",
       "      <td>5</td>\n",
       "      <td>1935</td>\n",
       "      <td>I Can't Get Started (with You)</td>\n",
       "    </tr>\n",
       "    <tr>\n",
       "      <th>...</th>\n",
       "      <td>...</td>\n",
       "      <td>...</td>\n",
       "      <td>...</td>\n",
       "    </tr>\n",
       "    <tr>\n",
       "      <th>95</th>\n",
       "      <td>96</td>\n",
       "      <td>1940</td>\n",
       "      <td>You Stepped Out of a Dream</td>\n",
       "    </tr>\n",
       "    <tr>\n",
       "      <th>96</th>\n",
       "      <td>97</td>\n",
       "      <td>1953</td>\n",
       "      <td>My One and Only Love</td>\n",
       "    </tr>\n",
       "    <tr>\n",
       "      <th>97</th>\n",
       "      <td>98</td>\n",
       "      <td>1927</td>\n",
       "      <td>'S Wonderful!</td>\n",
       "    </tr>\n",
       "    <tr>\n",
       "      <th>98</th>\n",
       "      <td>99</td>\n",
       "      <td>1933</td>\n",
       "      <td>Smoke Gets in Your Eyes</td>\n",
       "    </tr>\n",
       "    <tr>\n",
       "      <th>99</th>\n",
       "      <td>100</td>\n",
       "      <td>1953</td>\n",
       "      <td>Here's That Rainy Day</td>\n",
       "    </tr>\n",
       "  </tbody>\n",
       "</table>\n",
       "<p>100 rows × 3 columns</p>\n",
       "</div>"
      ],
      "text/plain": [
       "      0     1                               2\n",
       "0     1  1930                   Body and Soul\n",
       "1     2  1939          All the Things You Are\n",
       "2     3  1935                      Summertime\n",
       "3     4  1944                 'Round Midnight\n",
       "4     5  1935  I Can't Get Started (with You)\n",
       "..  ...   ...                             ...\n",
       "95   96  1940      You Stepped Out of a Dream\n",
       "96   97  1953            My One and Only Love\n",
       "97   98  1927                   'S Wonderful!\n",
       "98   99  1933         Smoke Gets in Your Eyes\n",
       "99  100  1953           Here's That Rainy Day\n",
       "\n",
       "[100 rows x 3 columns]"
      ]
     },
     "execution_count": 11,
     "metadata": {},
     "output_type": "execute_result"
    }
   ],
   "source": [
    "# But that's not a good filter for all tables, so let's try a different one\n",
    "import pandas as pd \n",
    "\n",
    "\n",
    "def has_years_in_second_column(df):\n",
    "    if 1 in df.columns:\n",
    "        # change df[1] to be integers only\n",
    "        df[1] = pd.to_numeric(df[1], errors='coerce')\n",
    "        vals = set(filter(None, df[1]))\n",
    "        return all(map(lambda x: 1800 < x < 2100, vals))\n",
    "    else:\n",
    "        return False\n",
    "    \n",
    "    \n",
    "df = next(filter(has_years_in_second_column, tables))\n",
    "df"
   ]
  },
  {
   "cell_type": "markdown",
   "metadata": {},
   "source": [
    "# Appendix: Misc how-tos"
   ]
  },
  {
   "cell_type": "markdown",
   "metadata": {},
   "source": [
    "## Is there a way, through the API, to see how many times I've played the track? \n",
    "\n",
    "Spotify’s API does not provide a direct way to retrieve your personal play counts for specific tracks. However, there are a few indirect methods you can use to approximate your listening habits:\n",
    "\t1.\tRecently Played Tracks Endpoint: The Spotify API allows you to retrieve your recently played tracks. This provides information on tracks you’ve listened to in the recent past (up to 50 tracks, or about 4 weeks of listening history, whichever is shorter). You can use this endpoint to track your listening over time and calculate an approximate play count by periodically recording this data.\n",
    "\n",
    "```python\n",
    "from sung import get_spotify_client\n",
    "\n",
    "sp = get_spotify_client(_ensure_scope='user-read-recently-played')\n",
    "\n",
    "recently_played = sp.current_user_recently_played(limit=50)\n",
    "for item in recently_played['items']:\n",
    "    track = item['track']\n",
    "    print(track['name'], \"-\", track['artists'][0]['name'])\n",
    "```\n",
    "\n",
    "By running this script regularly and storing the results, you can build up an approximate play count over time.\n",
    "\n",
    "\t2.\tTop Tracks Endpoint: The user-top-read scope lets you see your top-played tracks over specific time ranges (short, medium, and long term). While this doesn’t give exact play counts, it does allow you to see which tracks you listen to most frequently and their relative ranking.\n",
    "\n",
    "```python\n",
    "# sp = spotipy.Spotify(auth_manager=SpotifyOAuth(scope=\"user-top-read\"))\n",
    "\n",
    "sp = get_spotify_client(_ensure_scope='user-top-read')\n",
    "\n",
    "\n",
    "top_tracks = sp.current_user_top_tracks(limit=50, time_range='medium_term')  # options: 'short_term', 'medium_term', 'long_term'\n",
    "for item in top_tracks['items']:\n",
    "    print(item['name'], \"-\", item['artists'][0]['name'])\n",
    "```\n",
    "\n",
    "\t3.\tPersonal Listening History Aggregation: If you’re interested in a more complete view, consider using the Spotify Web Playback SDK or exporting your listening history from Spotify Wrapped (Spotify’s year-end recap). Both provide valuable insights into play counts over time, though they are not as granular as a real-time API endpoint.\n",
    "\n",
    "Currently, these are the closest methods available, as Spotify does not expose individual play counts for users."
   ]
  },
  {
   "cell_type": "code",
   "execution_count": 55,
   "metadata": {},
   "outputs": [],
   "source": [
    "from sung import extractor, SpotifyDacc\n",
    "        \n",
    "dacc = SpotifyDacc()\n"
   ]
  },
  {
   "cell_type": "code",
   "execution_count": 50,
   "metadata": {},
   "outputs": [
    {
     "name": "stderr",
     "output_type": "stream",
     "text": [
      "HTTP Error for GET to https://api.spotify.com/v1/me/player/recently-played with Params: {'limit': 50, 'after': None, 'before': None} returned 403 due to Insufficient client scope\n"
     ]
    },
    {
     "ename": "SpotifyException",
     "evalue": "http status: 403, code:-1 - https://api.spotify.com/v1/me/player/recently-played?limit=50:\n Insufficient client scope, reason: None",
     "output_type": "error",
     "traceback": [
      "\u001b[0;31m---------------------------------------------------------------------------\u001b[0m",
      "\u001b[0;31mHTTPError\u001b[0m                                 Traceback (most recent call last)",
      "File \u001b[0;32m~/.pyenv/versions/3.10.13/envs/p10/lib/python3.10/site-packages/spotipy/client.py:275\u001b[0m, in \u001b[0;36mSpotify._internal_call\u001b[0;34m(self, method, url, payload, params)\u001b[0m\n\u001b[1;32m    270\u001b[0m response \u001b[38;5;241m=\u001b[39m \u001b[38;5;28mself\u001b[39m\u001b[38;5;241m.\u001b[39m_session\u001b[38;5;241m.\u001b[39mrequest(\n\u001b[1;32m    271\u001b[0m     method, url, headers\u001b[38;5;241m=\u001b[39mheaders, proxies\u001b[38;5;241m=\u001b[39m\u001b[38;5;28mself\u001b[39m\u001b[38;5;241m.\u001b[39mproxies,\n\u001b[1;32m    272\u001b[0m     timeout\u001b[38;5;241m=\u001b[39m\u001b[38;5;28mself\u001b[39m\u001b[38;5;241m.\u001b[39mrequests_timeout, \u001b[38;5;241m*\u001b[39m\u001b[38;5;241m*\u001b[39margs\n\u001b[1;32m    273\u001b[0m )\n\u001b[0;32m--> 275\u001b[0m \u001b[43mresponse\u001b[49m\u001b[38;5;241;43m.\u001b[39;49m\u001b[43mraise_for_status\u001b[49m\u001b[43m(\u001b[49m\u001b[43m)\u001b[49m\n\u001b[1;32m    276\u001b[0m results \u001b[38;5;241m=\u001b[39m response\u001b[38;5;241m.\u001b[39mjson()\n",
      "File \u001b[0;32m~/.pyenv/versions/3.10.13/envs/p10/lib/python3.10/site-packages/requests/models.py:1024\u001b[0m, in \u001b[0;36mResponse.raise_for_status\u001b[0;34m(self)\u001b[0m\n\u001b[1;32m   1023\u001b[0m \u001b[38;5;28;01mif\u001b[39;00m http_error_msg:\n\u001b[0;32m-> 1024\u001b[0m     \u001b[38;5;28;01mraise\u001b[39;00m HTTPError(http_error_msg, response\u001b[38;5;241m=\u001b[39m\u001b[38;5;28mself\u001b[39m)\n",
      "\u001b[0;31mHTTPError\u001b[0m: 403 Client Error: Forbidden for url: https://api.spotify.com/v1/me/player/recently-played?limit=50",
      "\nDuring handling of the above exception, another exception occurred:\n",
      "\u001b[0;31mSpotifyException\u001b[0m                          Traceback (most recent call last)",
      "Cell \u001b[0;32mIn[50], line 3\u001b[0m\n\u001b[1;32m      1\u001b[0m \u001b[38;5;28;01mfrom\u001b[39;00m \u001b[38;5;21;01mcollections\u001b[39;00m \u001b[38;5;28;01mimport\u001b[39;00m Counter\n\u001b[0;32m----> 3\u001b[0m Counter(\u001b[43mdacc\u001b[49m\u001b[38;5;241;43m.\u001b[39;49m\u001b[43mrecently_played\u001b[49m\u001b[43m(\u001b[49m\u001b[43mlimit\u001b[49m\u001b[38;5;241;43m=\u001b[39;49m\u001b[38;5;241;43m20\u001b[39;49m\u001b[43m)\u001b[49m)\u001b[38;5;241m.\u001b[39mmost_common(\u001b[38;5;241m5\u001b[39m)\n",
      "Cell \u001b[0;32mIn[49], line 9\u001b[0m, in \u001b[0;36mSpotifyDacc.recently_played\u001b[0;34m(self, extract, limit, **kwargs)\u001b[0m\n\u001b[1;32m      7\u001b[0m \u001b[38;5;28;01mdef\u001b[39;00m \u001b[38;5;21mrecently_played\u001b[39m(\u001b[38;5;28mself\u001b[39m, \u001b[38;5;241m*\u001b[39m, extract\u001b[38;5;241m=\u001b[39m\u001b[38;5;124m'\u001b[39m\u001b[38;5;124mitems.*.track.name\u001b[39m\u001b[38;5;124m'\u001b[39m, limit\u001b[38;5;241m=\u001b[39m\u001b[38;5;241m50\u001b[39m, \u001b[38;5;241m*\u001b[39m\u001b[38;5;241m*\u001b[39mkwargs):\n\u001b[1;32m      8\u001b[0m     client \u001b[38;5;241m=\u001b[39m get_spotify_client(\u001b[38;5;28mself\u001b[39m\u001b[38;5;241m.\u001b[39mclient, _ensure_scope\u001b[38;5;241m=\u001b[39m\u001b[38;5;124m'\u001b[39m\u001b[38;5;124muser-read-recently-played\u001b[39m\u001b[38;5;124m'\u001b[39m)\n\u001b[0;32m----> 9\u001b[0m     results \u001b[38;5;241m=\u001b[39m \u001b[43mclient\u001b[49m\u001b[38;5;241;43m.\u001b[39;49m\u001b[43mcurrent_user_recently_played\u001b[49m\u001b[43m(\u001b[49m\u001b[43mlimit\u001b[49m\u001b[38;5;241;43m=\u001b[39;49m\u001b[38;5;241;43m50\u001b[39;49m\u001b[43m)\u001b[49m\n\u001b[1;32m     10\u001b[0m     extract \u001b[38;5;241m=\u001b[39m extractor\u001b[38;5;241m.\u001b[39mensure_extractor(extract)\n\u001b[1;32m     11\u001b[0m     \u001b[38;5;28;01mreturn\u001b[39;00m extract(results)\n",
      "File \u001b[0;32m~/.pyenv/versions/3.10.13/envs/p10/lib/python3.10/site-packages/spotipy/client.py:1514\u001b[0m, in \u001b[0;36mSpotify.current_user_recently_played\u001b[0;34m(self, limit, after, before)\u001b[0m\n\u001b[1;32m   1502\u001b[0m \u001b[38;5;28;01mdef\u001b[39;00m \u001b[38;5;21mcurrent_user_recently_played\u001b[39m(\u001b[38;5;28mself\u001b[39m, limit\u001b[38;5;241m=\u001b[39m\u001b[38;5;241m50\u001b[39m, after\u001b[38;5;241m=\u001b[39m\u001b[38;5;28;01mNone\u001b[39;00m, before\u001b[38;5;241m=\u001b[39m\u001b[38;5;28;01mNone\u001b[39;00m):\n\u001b[1;32m   1503\u001b[0m \u001b[38;5;250m    \u001b[39m\u001b[38;5;124;03m\"\"\" Get the current user's recently played tracks\u001b[39;00m\n\u001b[1;32m   1504\u001b[0m \n\u001b[1;32m   1505\u001b[0m \u001b[38;5;124;03m        Parameters:\u001b[39;00m\n\u001b[0;32m   (...)\u001b[0m\n\u001b[1;32m   1512\u001b[0m \u001b[38;5;124;03m                       Cannot be used if after is specified\u001b[39;00m\n\u001b[1;32m   1513\u001b[0m \u001b[38;5;124;03m    \"\"\"\u001b[39;00m\n\u001b[0;32m-> 1514\u001b[0m     \u001b[38;5;28;01mreturn\u001b[39;00m \u001b[38;5;28;43mself\u001b[39;49m\u001b[38;5;241;43m.\u001b[39;49m\u001b[43m_get\u001b[49m\u001b[43m(\u001b[49m\n\u001b[1;32m   1515\u001b[0m \u001b[43m        \u001b[49m\u001b[38;5;124;43m\"\u001b[39;49m\u001b[38;5;124;43mme/player/recently-played\u001b[39;49m\u001b[38;5;124;43m\"\u001b[39;49m\u001b[43m,\u001b[49m\n\u001b[1;32m   1516\u001b[0m \u001b[43m        \u001b[49m\u001b[43mlimit\u001b[49m\u001b[38;5;241;43m=\u001b[39;49m\u001b[43mlimit\u001b[49m\u001b[43m,\u001b[49m\n\u001b[1;32m   1517\u001b[0m \u001b[43m        \u001b[49m\u001b[43mafter\u001b[49m\u001b[38;5;241;43m=\u001b[39;49m\u001b[43mafter\u001b[49m\u001b[43m,\u001b[49m\n\u001b[1;32m   1518\u001b[0m \u001b[43m        \u001b[49m\u001b[43mbefore\u001b[49m\u001b[38;5;241;43m=\u001b[39;49m\u001b[43mbefore\u001b[49m\u001b[43m,\u001b[49m\n\u001b[1;32m   1519\u001b[0m \u001b[43m    \u001b[49m\u001b[43m)\u001b[49m\n",
      "File \u001b[0;32m~/.pyenv/versions/3.10.13/envs/p10/lib/python3.10/site-packages/spotipy/client.py:327\u001b[0m, in \u001b[0;36mSpotify._get\u001b[0;34m(self, url, args, payload, **kwargs)\u001b[0m\n\u001b[1;32m    324\u001b[0m \u001b[38;5;28;01mif\u001b[39;00m args:\n\u001b[1;32m    325\u001b[0m     kwargs\u001b[38;5;241m.\u001b[39mupdate(args)\n\u001b[0;32m--> 327\u001b[0m \u001b[38;5;28;01mreturn\u001b[39;00m \u001b[38;5;28;43mself\u001b[39;49m\u001b[38;5;241;43m.\u001b[39;49m\u001b[43m_internal_call\u001b[49m\u001b[43m(\u001b[49m\u001b[38;5;124;43m\"\u001b[39;49m\u001b[38;5;124;43mGET\u001b[39;49m\u001b[38;5;124;43m\"\u001b[39;49m\u001b[43m,\u001b[49m\u001b[43m \u001b[49m\u001b[43murl\u001b[49m\u001b[43m,\u001b[49m\u001b[43m \u001b[49m\u001b[43mpayload\u001b[49m\u001b[43m,\u001b[49m\u001b[43m \u001b[49m\u001b[43mkwargs\u001b[49m\u001b[43m)\u001b[49m\n",
      "File \u001b[0;32m~/.pyenv/versions/3.10.13/envs/p10/lib/python3.10/site-packages/spotipy/client.py:297\u001b[0m, in \u001b[0;36mSpotify._internal_call\u001b[0;34m(self, method, url, payload, params)\u001b[0m\n\u001b[1;32m    290\u001b[0m         reason \u001b[38;5;241m=\u001b[39m \u001b[38;5;28;01mNone\u001b[39;00m\n\u001b[1;32m    292\u001b[0m     logger\u001b[38;5;241m.\u001b[39merror(\n\u001b[1;32m    293\u001b[0m         \u001b[38;5;124m'\u001b[39m\u001b[38;5;124mHTTP Error for \u001b[39m\u001b[38;5;132;01m%s\u001b[39;00m\u001b[38;5;124m to \u001b[39m\u001b[38;5;132;01m%s\u001b[39;00m\u001b[38;5;124m with Params: \u001b[39m\u001b[38;5;132;01m%s\u001b[39;00m\u001b[38;5;124m returned \u001b[39m\u001b[38;5;132;01m%s\u001b[39;00m\u001b[38;5;124m due to \u001b[39m\u001b[38;5;132;01m%s\u001b[39;00m\u001b[38;5;124m'\u001b[39m,\n\u001b[1;32m    294\u001b[0m         method, url, args\u001b[38;5;241m.\u001b[39mget(\u001b[38;5;124m\"\u001b[39m\u001b[38;5;124mparams\u001b[39m\u001b[38;5;124m\"\u001b[39m), response\u001b[38;5;241m.\u001b[39mstatus_code, msg\n\u001b[1;32m    295\u001b[0m     )\n\u001b[0;32m--> 297\u001b[0m     \u001b[38;5;28;01mraise\u001b[39;00m SpotifyException(\n\u001b[1;32m    298\u001b[0m         response\u001b[38;5;241m.\u001b[39mstatus_code,\n\u001b[1;32m    299\u001b[0m         \u001b[38;5;241m-\u001b[39m\u001b[38;5;241m1\u001b[39m,\n\u001b[1;32m    300\u001b[0m         \u001b[38;5;124mf\u001b[39m\u001b[38;5;124m\"\u001b[39m\u001b[38;5;132;01m{\u001b[39;00mresponse\u001b[38;5;241m.\u001b[39murl\u001b[38;5;132;01m}\u001b[39;00m\u001b[38;5;124m:\u001b[39m\u001b[38;5;130;01m\\n\u001b[39;00m\u001b[38;5;124m \u001b[39m\u001b[38;5;132;01m{\u001b[39;00mmsg\u001b[38;5;132;01m}\u001b[39;00m\u001b[38;5;124m\"\u001b[39m,\n\u001b[1;32m    301\u001b[0m         reason\u001b[38;5;241m=\u001b[39mreason,\n\u001b[1;32m    302\u001b[0m         headers\u001b[38;5;241m=\u001b[39mresponse\u001b[38;5;241m.\u001b[39mheaders,\n\u001b[1;32m    303\u001b[0m     )\n\u001b[1;32m    304\u001b[0m \u001b[38;5;28;01mexcept\u001b[39;00m requests\u001b[38;5;241m.\u001b[39mexceptions\u001b[38;5;241m.\u001b[39mRetryError \u001b[38;5;28;01mas\u001b[39;00m retry_error:\n\u001b[1;32m    305\u001b[0m     request \u001b[38;5;241m=\u001b[39m retry_error\u001b[38;5;241m.\u001b[39mrequest\n",
      "\u001b[0;31mSpotifyException\u001b[0m: http status: 403, code:-1 - https://api.spotify.com/v1/me/player/recently-played?limit=50:\n Insufficient client scope, reason: None"
     ]
    }
   ],
   "source": [
    "from collections import Counter\n",
    "\n",
    "Counter(dacc.recently_played(limit=20)).most_common(5)"
   ]
  },
  {
   "cell_type": "code",
   "execution_count": null,
   "metadata": {},
   "outputs": [],
   "source": []
  },
  {
   "cell_type": "code",
   "execution_count": null,
   "metadata": {},
   "outputs": [],
   "source": [
    "recently_played = dacc.recently_played(limit=5, extract=None)  # extract=None means we get the whole response"
   ]
  },
  {
   "cell_type": "code",
   "execution_count": 47,
   "metadata": {},
   "outputs": [
    {
     "name": "stdout",
     "output_type": "stream",
     "text": [
      "list(recently_played)=['items', 'next', 'cursors', 'limit', 'href']\n",
      "list(recently_played_item)=['track', 'played_at', 'context']\n",
      "recently_played_item['played_at']='2024-11-14T11:38:00.058Z'\n",
      "recently_played_item['context']=None\n",
      "list(recently_played_item['track'])=['album', 'artists', 'available_markets', 'disc_number', 'duration_ms', 'explicit', 'external_ids', 'external_urls', 'href', 'id', 'is_local', 'name', 'popularity', 'preview_url', 'track_number', 'type', 'uri']\n",
      "recently_played_item['track']['name']='Taste'\n"
     ]
    }
   ],
   "source": [
    "print(f\"{list(recently_played)=}\")\n",
    "recently_played_item = (extractor('items.0')(recently_played))\n",
    "print(f\"{list(recently_played_item)=}\")\n",
    "print(f\"{recently_played_item['played_at']=}\") \n",
    "print(f\"{recently_played_item['context']=}\") \n",
    "print(f\"{list(recently_played_item['track'])=}\")\n",
    "print(f\"{recently_played_item['track']['name']=}\")\n"
   ]
  },
  {
   "cell_type": "code",
   "execution_count": 54,
   "metadata": {},
   "outputs": [],
   "source": [
    "# from sung import get_spotify_client\n",
    "\n",
    "# sp = get_spotify_client(_ensure_scope='user-read-recently-played')\n",
    "\n",
    "# recently_played = sp.current_user_recently_played(limit=50)\n",
    "# for item in recently_played['items']:\n",
    "#     track = item['track']\n",
    "#     print(track['name'], \"-\", track['artists'][0]['name'])"
   ]
  },
  {
   "cell_type": "code",
   "execution_count": null,
   "metadata": {},
   "outputs": [],
   "source": []
  },
  {
   "cell_type": "code",
   "execution_count": null,
   "metadata": {},
   "outputs": [],
   "source": []
  },
  {
   "cell_type": "code",
   "execution_count": null,
   "metadata": {},
   "outputs": [],
   "source": []
  },
  {
   "cell_type": "markdown",
   "metadata": {},
   "source": [
    "# Appendix: Spotify API Pydantic models"
   ]
  },
  {
   "cell_type": "code",
   "execution_count": 1,
   "metadata": {},
   "outputs": [],
   "source": [
    "from ju import Routes\n",
    "from graze import graze\n",
    "\n",
    "official_oas_url = 'https://developer.spotify.com/reference/web-api/open-api-schema.yaml'\n",
    "alt_oas_url = 'https://raw.githubusercontent.com/sonallux/spotify-web-api/refs/heads/main/fixed-spotify-open-api.yml'\n",
    "\n",
    "oas_url = alt_oas_url\n",
    "\n",
    "routes = Routes.from_yaml(graze(alt_oas_url).decode())"
   ]
  },
  {
   "cell_type": "code",
   "execution_count": 3,
   "metadata": {},
   "outputs": [
    {
     "data": {
      "text/plain": [
       "89"
      ]
     },
     "execution_count": 3,
     "metadata": {},
     "output_type": "execute_result"
    }
   ],
   "source": [
    "len(routes)"
   ]
  },
  {
   "cell_type": "code",
   "execution_count": 8,
   "metadata": {},
   "outputs": [
    {
     "data": {
      "text/plain": [
       "Counter({'get': 59, 'put': 17, 'delete': 8, 'post': 5})"
      ]
     },
     "execution_count": 8,
     "metadata": {},
     "output_type": "execute_result"
    }
   ],
   "source": [
    "from collections import Counter\n",
    "\n",
    "Counter([x[0] for x in routes])"
   ]
  },
  {
   "cell_type": "code",
   "execution_count": 9,
   "metadata": {},
   "outputs": [
    {
     "data": {
      "text/plain": [
       "['/albums/{id}',\n",
       " '/albums',\n",
       " '/albums/{id}/tracks',\n",
       " '/artists/{id}',\n",
       " '/artists',\n",
       " '/artists/{id}/albums',\n",
       " '/artists/{id}/top-tracks',\n",
       " '/artists/{id}/related-artists',\n",
       " '/shows/{id}',\n",
       " '/shows',\n",
       " '/shows/{id}/episodes',\n",
       " '/episodes/{id}',\n",
       " '/episodes',\n",
       " '/audiobooks/{id}',\n",
       " '/audiobooks',\n",
       " '/audiobooks/{id}/chapters',\n",
       " '/me/audiobooks',\n",
       " '/me/audiobooks',\n",
       " '/me/audiobooks',\n",
       " '/me/audiobooks/contains',\n",
       " '/chapters/{id}',\n",
       " '/chapters',\n",
       " '/tracks/{id}',\n",
       " '/tracks',\n",
       " '/search',\n",
       " '/me',\n",
       " '/playlists/{playlist_id}',\n",
       " '/playlists/{playlist_id}',\n",
       " '/playlists/{playlist_id}/tracks',\n",
       " '/playlists/{playlist_id}/tracks',\n",
       " '/playlists/{playlist_id}/tracks',\n",
       " '/playlists/{playlist_id}/tracks',\n",
       " '/me/playlists',\n",
       " '/me/albums',\n",
       " '/me/albums',\n",
       " '/me/albums',\n",
       " '/me/albums/contains',\n",
       " '/me/tracks',\n",
       " '/me/tracks',\n",
       " '/me/tracks',\n",
       " '/me/tracks/contains',\n",
       " '/me/episodes',\n",
       " '/me/episodes',\n",
       " '/me/episodes',\n",
       " '/me/episodes/contains',\n",
       " '/me/shows',\n",
       " '/me/shows',\n",
       " '/me/shows',\n",
       " '/me/shows/contains',\n",
       " '/users/{user_id}',\n",
       " '/users/{user_id}/playlists',\n",
       " '/users/{user_id}/playlists',\n",
       " '/playlists/{playlist_id}/followers',\n",
       " '/playlists/{playlist_id}/followers',\n",
       " '/browse/featured-playlists',\n",
       " '/browse/categories',\n",
       " '/browse/categories/{category_id}',\n",
       " '/browse/categories/{category_id}/playlists',\n",
       " '/playlists/{playlist_id}/images',\n",
       " '/playlists/{playlist_id}/images',\n",
       " '/browse/new-releases',\n",
       " '/me/following',\n",
       " '/me/following',\n",
       " '/me/following',\n",
       " '/me/following/contains',\n",
       " '/playlists/{playlist_id}/followers/contains',\n",
       " '/audio-features',\n",
       " '/audio-features/{id}',\n",
       " '/audio-analysis/{id}',\n",
       " '/recommendations',\n",
       " '/recommendations/available-genre-seeds',\n",
       " '/me/player',\n",
       " '/me/player',\n",
       " '/me/player/devices',\n",
       " '/me/player/currently-playing',\n",
       " '/me/player/play',\n",
       " '/me/player/pause',\n",
       " '/me/player/next',\n",
       " '/me/player/previous',\n",
       " '/me/player/seek',\n",
       " '/me/player/repeat',\n",
       " '/me/player/volume',\n",
       " '/me/player/shuffle',\n",
       " '/me/player/recently-played',\n",
       " '/me/player/queue',\n",
       " '/me/player/queue',\n",
       " '/markets',\n",
       " '/me/top/artists',\n",
       " '/me/top/tracks']"
      ]
     },
     "execution_count": 9,
     "metadata": {},
     "output_type": "execute_result"
    }
   ],
   "source": [
    "[x[1] for x in routes]"
   ]
  },
  {
   "cell_type": "code",
   "execution_count": 27,
   "metadata": {},
   "outputs": [
    {
     "data": {
      "text/plain": [
       "{'type': 'object',\n",
       " 'properties': {'id': {'title': 'Spotify Track ID',\n",
       "   'description': 'The [Spotify ID](/documentation/web-api/concepts/spotify-uris-ids)\\nfor the track.\\n',\n",
       "   'example': '11dFghVXANMlKmJXsNCbNl',\n",
       "   'type': 'string'},\n",
       "  'market': {'title': 'Market',\n",
       "   'description': 'An [ISO 3166-1 alpha-2 country code](https://en.wikipedia.org/wiki/ISO_3166-1_alpha-2).\\n  If a country code is specified, only content that is available in that market will be returned.<br/>\\n  If a valid user access token is specified in the request header, the country associated with\\n  the user account will take priority over this parameter.<br/>\\n  _**Note**: If neither market or user country are provided, the content is considered unavailable for the client._<br/>\\n  Users can view the country that is associated with their account in the [account settings](https://www.spotify.com/account/overview/).\\n',\n",
       "   'example': 'ES',\n",
       "   'type': 'string'}},\n",
       " 'required': ['id']}"
      ]
     },
     "execution_count": 27,
     "metadata": {},
     "output_type": "execute_result"
    }
   ],
   "source": [
    "r = routes['get', '/tracks/{id}']\n",
    "dir(r)\n",
    "# r.input_specs\n",
    "# r.output_specs\n",
    "# r.method_data\n",
    "r.params"
   ]
  },
  {
   "cell_type": "code",
   "execution_count": 36,
   "metadata": {},
   "outputs": [
    {
     "name": "stderr",
     "output_type": "stream",
     "text": [
      "/Users/thorwhalen/.pyenv/versions/3.10.13/envs/p10/lib/python3.10/site-packages/pydantic/_internal/_fields.py:201: UserWarning: Field name \"schema\" in \"Application/json\" shadows an attribute in parent \"BaseModel\"\n",
      "  warnings.warn(\n"
     ]
    },
    {
     "data": {
      "text/plain": [
       "{'$defs': {'200': {'properties': {'description': {'title': 'Description',\n",
       "     'type': 'string'},\n",
       "    'content': {'$ref': '#/$defs/ju__pydantic_util__Content__1'}},\n",
       "   'required': ['description', 'content'],\n",
       "   'title': '200',\n",
       "   'type': 'object'},\n",
       "  '401': {'properties': {'description': {'title': 'Description',\n",
       "     'type': 'string'},\n",
       "    'content': {'$ref': '#/$defs/ju__pydantic_util__Content__2'}},\n",
       "   'required': ['description', 'content'],\n",
       "   'title': '401',\n",
       "   'type': 'object'},\n",
       "  '403': {'properties': {'description': {'title': 'Description',\n",
       "     'type': 'string'},\n",
       "    'content': {'$ref': '#/$defs/ju__pydantic_util__Content__3'}},\n",
       "   'required': ['description', 'content'],\n",
       "   'title': '403',\n",
       "   'type': 'object'},\n",
       "  '429': {'properties': {'description': {'title': 'Description',\n",
       "     'type': 'string'},\n",
       "    'content': {'$ref': '#/$defs/ju__pydantic_util__Content__4'}},\n",
       "   'required': ['description', 'content'],\n",
       "   'title': '429',\n",
       "   'type': 'object'},\n",
       "  'Album': {'properties': {'allOf': {'items': {},\n",
       "     'title': 'Allof',\n",
       "     'type': 'array'},\n",
       "    'description': {'title': 'Description', 'type': 'string'}},\n",
       "   'required': ['allOf', 'description'],\n",
       "   'title': 'Album',\n",
       "   'type': 'object'},\n",
       "  'Artists': {'properties': {'type': {'title': 'Type', 'type': 'string'},\n",
       "    'items': {'$ref': '#/$defs/ju__pydantic_util__Items__1'},\n",
       "    'description': {'title': 'Description', 'type': 'string'}},\n",
       "   'required': ['type', 'items', 'description'],\n",
       "   'title': 'Artists',\n",
       "   'type': 'object'},\n",
       "  'Available_markets': {'properties': {'type': {'title': 'Type',\n",
       "     'type': 'string'},\n",
       "    'items': {'$ref': '#/$defs/ju__pydantic_util__Items__2'},\n",
       "    'description': {'title': 'Description', 'type': 'string'}},\n",
       "   'required': ['type', 'items', 'description'],\n",
       "   'title': 'Available_markets',\n",
       "   'type': 'object'},\n",
       "  'Disc_number': {'properties': {'type': {'title': 'Type', 'type': 'string'},\n",
       "    'description': {'title': 'Description', 'type': 'string'}},\n",
       "   'required': ['type', 'description'],\n",
       "   'title': 'Disc_number',\n",
       "   'type': 'object'},\n",
       "  'Duration_ms': {'properties': {'type': {'title': 'Type', 'type': 'string'},\n",
       "    'description': {'title': 'Description', 'type': 'string'}},\n",
       "   'required': ['type', 'description'],\n",
       "   'title': 'Duration_ms',\n",
       "   'type': 'object'},\n",
       "  'Explicit': {'properties': {'type': {'title': 'Type', 'type': 'string'},\n",
       "    'description': {'title': 'Description', 'type': 'string'}},\n",
       "   'required': ['type', 'description'],\n",
       "   'title': 'Explicit',\n",
       "   'type': 'object'},\n",
       "  'External_ids': {'properties': {'allOf': {'items': {},\n",
       "     'title': 'Allof',\n",
       "     'type': 'array'},\n",
       "    'description': {'title': 'Description', 'type': 'string'}},\n",
       "   'required': ['allOf', 'description'],\n",
       "   'title': 'External_ids',\n",
       "   'type': 'object'},\n",
       "  'External_urls': {'properties': {'allOf': {'items': {},\n",
       "     'title': 'Allof',\n",
       "     'type': 'array'},\n",
       "    'description': {'title': 'Description', 'type': 'string'}},\n",
       "   'required': ['allOf', 'description'],\n",
       "   'title': 'External_urls',\n",
       "   'type': 'object'},\n",
       "  'Href': {'properties': {'type': {'title': 'Type', 'type': 'string'},\n",
       "    'description': {'title': 'Description', 'type': 'string'}},\n",
       "   'required': ['type', 'description'],\n",
       "   'title': 'Href',\n",
       "   'type': 'object'},\n",
       "  'Id': {'properties': {'type': {'title': 'Type', 'type': 'string'},\n",
       "    'description': {'title': 'Description', 'type': 'string'}},\n",
       "   'required': ['type', 'description'],\n",
       "   'title': 'Id',\n",
       "   'type': 'object'},\n",
       "  'Is_local': {'properties': {'type': {'title': 'Type', 'type': 'string'},\n",
       "    'description': {'title': 'Description', 'type': 'string'}},\n",
       "   'required': ['type', 'description'],\n",
       "   'title': 'Is_local',\n",
       "   'type': 'object'},\n",
       "  'Is_playable': {'properties': {'type': {'title': 'Type', 'type': 'string'},\n",
       "    'description': {'title': 'Description', 'type': 'string'}},\n",
       "   'required': ['type', 'description'],\n",
       "   'title': 'Is_playable',\n",
       "   'type': 'object'},\n",
       "  'Linked_from': {'properties': {'allOf': {'items': {},\n",
       "     'title': 'Allof',\n",
       "     'type': 'array'},\n",
       "    'description': {'title': 'Description', 'type': 'string'}},\n",
       "   'required': ['allOf', 'description'],\n",
       "   'title': 'Linked_from',\n",
       "   'type': 'object'},\n",
       "  'Message': {'properties': {'type': {'title': 'Type', 'type': 'string'},\n",
       "    'description': {'title': 'Description', 'type': 'string'}},\n",
       "   'required': ['type', 'description'],\n",
       "   'title': 'Message',\n",
       "   'type': 'object'},\n",
       "  'Name': {'properties': {'type': {'title': 'Type', 'type': 'string'},\n",
       "    'description': {'title': 'Description', 'type': 'string'}},\n",
       "   'required': ['type', 'description'],\n",
       "   'title': 'Name',\n",
       "   'type': 'object'},\n",
       "  'Popularity': {'properties': {'type': {'title': 'Type', 'type': 'string'},\n",
       "    'description': {'title': 'Description', 'type': 'string'}},\n",
       "   'required': ['type', 'description'],\n",
       "   'title': 'Popularity',\n",
       "   'type': 'object'},\n",
       "  'Preview_url': {'properties': {'type': {'title': 'Type', 'type': 'string'},\n",
       "    'nullable': {'title': 'Nullable', 'type': 'boolean'},\n",
       "    'description': {'title': 'Description', 'type': 'string'}},\n",
       "   'required': ['type', 'nullable', 'description'],\n",
       "   'title': 'Preview_url',\n",
       "   'type': 'object'},\n",
       "  'Restrictions': {'properties': {'allOf': {'items': {},\n",
       "     'title': 'Allof',\n",
       "     'type': 'array'},\n",
       "    'description': {'title': 'Description', 'type': 'string'}},\n",
       "   'required': ['allOf', 'description'],\n",
       "   'title': 'Restrictions',\n",
       "   'type': 'object'},\n",
       "  'Status': {'properties': {'type': {'title': 'Type', 'type': 'string'},\n",
       "    'minimum': {'title': 'Minimum', 'type': 'integer'},\n",
       "    'maximum': {'title': 'Maximum', 'type': 'integer'},\n",
       "    'description': {'title': 'Description', 'type': 'string'}},\n",
       "   'required': ['type', 'minimum', 'maximum', 'description'],\n",
       "   'title': 'Status',\n",
       "   'type': 'object'},\n",
       "  'Track_number': {'properties': {'type': {'title': 'Type', 'type': 'string'},\n",
       "    'description': {'title': 'Description', 'type': 'string'}},\n",
       "   'required': ['type', 'description'],\n",
       "   'title': 'Track_number',\n",
       "   'type': 'object'},\n",
       "  'Uri': {'properties': {'type': {'title': 'Type', 'type': 'string'},\n",
       "    'description': {'title': 'Description', 'type': 'string'}},\n",
       "   'required': ['type', 'description'],\n",
       "   'title': 'Uri',\n",
       "   'type': 'object'},\n",
       "  'ju__pydantic_util__Application_json__1': {'properties': {'schema': {'$ref': '#/$defs/ju__pydantic_util__Schema__1'}},\n",
       "   'required': ['schema'],\n",
       "   'title': 'Application/json',\n",
       "   'type': 'object'},\n",
       "  'ju__pydantic_util__Application_json__2': {'properties': {'schema': {'$ref': '#/$defs/ju__pydantic_util__Schema__2'}},\n",
       "   'required': ['schema'],\n",
       "   'title': 'Application/json',\n",
       "   'type': 'object'},\n",
       "  'ju__pydantic_util__Application_json__3': {'properties': {'schema': {'$ref': '#/$defs/ju__pydantic_util__Schema__3'}},\n",
       "   'required': ['schema'],\n",
       "   'title': 'Application/json',\n",
       "   'type': 'object'},\n",
       "  'ju__pydantic_util__Application_json__4': {'properties': {'schema': {'$ref': '#/$defs/ju__pydantic_util__Schema__4'}},\n",
       "   'required': ['schema'],\n",
       "   'title': 'Application/json',\n",
       "   'type': 'object'},\n",
       "  'ju__pydantic_util__Content__1': {'properties': {'application/json': {'$ref': '#/$defs/ju__pydantic_util__Application_json__1'}},\n",
       "   'required': ['application/json'],\n",
       "   'title': 'Content',\n",
       "   'type': 'object'},\n",
       "  'ju__pydantic_util__Content__2': {'properties': {'application/json': {'$ref': '#/$defs/ju__pydantic_util__Application_json__2'}},\n",
       "   'required': ['application/json'],\n",
       "   'title': 'Content',\n",
       "   'type': 'object'},\n",
       "  'ju__pydantic_util__Content__3': {'properties': {'application/json': {'$ref': '#/$defs/ju__pydantic_util__Application_json__3'}},\n",
       "   'required': ['application/json'],\n",
       "   'title': 'Content',\n",
       "   'type': 'object'},\n",
       "  'ju__pydantic_util__Content__4': {'properties': {'application/json': {'$ref': '#/$defs/ju__pydantic_util__Application_json__4'}},\n",
       "   'required': ['application/json'],\n",
       "   'title': 'Content',\n",
       "   'type': 'object'},\n",
       "  'ju__pydantic_util__Error__1': {'properties': {'type': {'title': 'Type',\n",
       "     'type': 'string'},\n",
       "    'x-spotify-docs-type': {'title': 'X-Spotify-Docs-Type', 'type': 'string'},\n",
       "    'required': {'items': {}, 'title': 'Required', 'type': 'array'},\n",
       "    'properties': {'$ref': '#/$defs/ju__pydantic_util__Properties__3'}},\n",
       "   'required': ['type', 'x-spotify-docs-type', 'required', 'properties'],\n",
       "   'title': 'Error',\n",
       "   'type': 'object'},\n",
       "  'ju__pydantic_util__Error__2': {'properties': {'type': {'title': 'Type',\n",
       "     'type': 'string'},\n",
       "    'x-spotify-docs-type': {'title': 'X-Spotify-Docs-Type', 'type': 'string'},\n",
       "    'required': {'items': {}, 'title': 'Required', 'type': 'array'},\n",
       "    'properties': {'$ref': '#/$defs/ju__pydantic_util__Properties__5'}},\n",
       "   'required': ['type', 'x-spotify-docs-type', 'required', 'properties'],\n",
       "   'title': 'Error',\n",
       "   'type': 'object'},\n",
       "  'ju__pydantic_util__Error__3': {'properties': {'type': {'title': 'Type',\n",
       "     'type': 'string'},\n",
       "    'x-spotify-docs-type': {'title': 'X-Spotify-Docs-Type', 'type': 'string'},\n",
       "    'required': {'items': {}, 'title': 'Required', 'type': 'array'},\n",
       "    'properties': {'$ref': '#/$defs/ju__pydantic_util__Properties__7'}},\n",
       "   'required': ['type', 'x-spotify-docs-type', 'required', 'properties'],\n",
       "   'title': 'Error',\n",
       "   'type': 'object'},\n",
       "  'ju__pydantic_util__Items__1': {'properties': {'type': {'title': 'Type',\n",
       "     'type': 'string'},\n",
       "    'x-spotify-docs-type': {'title': 'X-Spotify-Docs-Type', 'type': 'string'},\n",
       "    'properties': {'$ref': '#/$defs/ju__pydantic_util__Properties__1'}},\n",
       "   'required': ['type', 'x-spotify-docs-type', 'properties'],\n",
       "   'title': 'Items',\n",
       "   'type': 'object'},\n",
       "  'ju__pydantic_util__Items__2': {'properties': {'type': {'title': 'Type',\n",
       "     'type': 'string'}},\n",
       "   'required': ['type'],\n",
       "   'title': 'Items',\n",
       "   'type': 'object'},\n",
       "  'ju__pydantic_util__Properties__1': {'properties': {'external_urls': {'$ref': '#/$defs/External_urls'},\n",
       "    'href': {'$ref': '#/$defs/Href'},\n",
       "    'id': {'$ref': '#/$defs/Id'},\n",
       "    'name': {'$ref': '#/$defs/Name'},\n",
       "    'type': {'$ref': '#/$defs/ju__pydantic_util__Type__1'},\n",
       "    'uri': {'$ref': '#/$defs/Uri'}},\n",
       "   'required': ['external_urls', 'href', 'id', 'name', 'type', 'uri'],\n",
       "   'title': 'Properties',\n",
       "   'type': 'object'},\n",
       "  'ju__pydantic_util__Properties__2': {'properties': {'album': {'$ref': '#/$defs/Album'},\n",
       "    'artists': {'$ref': '#/$defs/Artists'},\n",
       "    'available_markets': {'$ref': '#/$defs/Available_markets'},\n",
       "    'disc_number': {'$ref': '#/$defs/Disc_number'},\n",
       "    'duration_ms': {'$ref': '#/$defs/Duration_ms'},\n",
       "    'explicit': {'$ref': '#/$defs/Explicit'},\n",
       "    'external_ids': {'$ref': '#/$defs/External_ids'},\n",
       "    'external_urls': {'$ref': '#/$defs/External_urls'},\n",
       "    'href': {'$ref': '#/$defs/Href'},\n",
       "    'id': {'$ref': '#/$defs/Id'},\n",
       "    'is_playable': {'$ref': '#/$defs/Is_playable'},\n",
       "    'linked_from': {'$ref': '#/$defs/Linked_from'},\n",
       "    'restrictions': {'$ref': '#/$defs/Restrictions'},\n",
       "    'name': {'$ref': '#/$defs/Name'},\n",
       "    'popularity': {'$ref': '#/$defs/Popularity'},\n",
       "    'preview_url': {'$ref': '#/$defs/Preview_url'},\n",
       "    'track_number': {'$ref': '#/$defs/Track_number'},\n",
       "    'type': {'$ref': '#/$defs/ju__pydantic_util__Type__2'},\n",
       "    'uri': {'$ref': '#/$defs/Uri'},\n",
       "    'is_local': {'$ref': '#/$defs/Is_local'}},\n",
       "   'required': ['album',\n",
       "    'artists',\n",
       "    'available_markets',\n",
       "    'disc_number',\n",
       "    'duration_ms',\n",
       "    'explicit',\n",
       "    'external_ids',\n",
       "    'external_urls',\n",
       "    'href',\n",
       "    'id',\n",
       "    'is_playable',\n",
       "    'linked_from',\n",
       "    'restrictions',\n",
       "    'name',\n",
       "    'popularity',\n",
       "    'preview_url',\n",
       "    'track_number',\n",
       "    'type',\n",
       "    'uri',\n",
       "    'is_local'],\n",
       "   'title': 'Properties',\n",
       "   'type': 'object'},\n",
       "  'ju__pydantic_util__Properties__3': {'properties': {'status': {'$ref': '#/$defs/Status'},\n",
       "    'message': {'$ref': '#/$defs/Message'}},\n",
       "   'required': ['status', 'message'],\n",
       "   'title': 'Properties',\n",
       "   'type': 'object'},\n",
       "  'ju__pydantic_util__Properties__4': {'properties': {'error': {'$ref': '#/$defs/ju__pydantic_util__Error__1'}},\n",
       "   'required': ['error'],\n",
       "   'title': 'Properties',\n",
       "   'type': 'object'},\n",
       "  'ju__pydantic_util__Properties__5': {'properties': {'status': {'$ref': '#/$defs/Status'},\n",
       "    'message': {'$ref': '#/$defs/Message'}},\n",
       "   'required': ['status', 'message'],\n",
       "   'title': 'Properties',\n",
       "   'type': 'object'},\n",
       "  'ju__pydantic_util__Properties__6': {'properties': {'error': {'$ref': '#/$defs/ju__pydantic_util__Error__2'}},\n",
       "   'required': ['error'],\n",
       "   'title': 'Properties',\n",
       "   'type': 'object'},\n",
       "  'ju__pydantic_util__Properties__7': {'properties': {'status': {'$ref': '#/$defs/Status'},\n",
       "    'message': {'$ref': '#/$defs/Message'}},\n",
       "   'required': ['status', 'message'],\n",
       "   'title': 'Properties',\n",
       "   'type': 'object'},\n",
       "  'ju__pydantic_util__Properties__8': {'properties': {'error': {'$ref': '#/$defs/ju__pydantic_util__Error__3'}},\n",
       "   'required': ['error'],\n",
       "   'title': 'Properties',\n",
       "   'type': 'object'},\n",
       "  'ju__pydantic_util__Schema__1': {'properties': {'type': {'title': 'Type',\n",
       "     'type': 'string'},\n",
       "    'x-spotify-docs-type': {'title': 'X-Spotify-Docs-Type', 'type': 'string'},\n",
       "    'properties': {'$ref': '#/$defs/ju__pydantic_util__Properties__2'}},\n",
       "   'required': ['type', 'x-spotify-docs-type', 'properties'],\n",
       "   'title': 'Schema',\n",
       "   'type': 'object'},\n",
       "  'ju__pydantic_util__Schema__2': {'properties': {'type': {'title': 'Type',\n",
       "     'type': 'string'},\n",
       "    'required': {'items': {}, 'title': 'Required', 'type': 'array'},\n",
       "    'properties': {'$ref': '#/$defs/ju__pydantic_util__Properties__4'}},\n",
       "   'required': ['type', 'required', 'properties'],\n",
       "   'title': 'Schema',\n",
       "   'type': 'object'},\n",
       "  'ju__pydantic_util__Schema__3': {'properties': {'type': {'title': 'Type',\n",
       "     'type': 'string'},\n",
       "    'required': {'items': {}, 'title': 'Required', 'type': 'array'},\n",
       "    'properties': {'$ref': '#/$defs/ju__pydantic_util__Properties__6'}},\n",
       "   'required': ['type', 'required', 'properties'],\n",
       "   'title': 'Schema',\n",
       "   'type': 'object'},\n",
       "  'ju__pydantic_util__Schema__4': {'properties': {'type': {'title': 'Type',\n",
       "     'type': 'string'},\n",
       "    'required': {'items': {}, 'title': 'Required', 'type': 'array'},\n",
       "    'properties': {'$ref': '#/$defs/ju__pydantic_util__Properties__8'}},\n",
       "   'required': ['type', 'required', 'properties'],\n",
       "   'title': 'Schema',\n",
       "   'type': 'object'},\n",
       "  'ju__pydantic_util__Type__1': {'properties': {'type': {'title': 'Type',\n",
       "     'type': 'string'},\n",
       "    'enum': {'items': {}, 'title': 'Enum', 'type': 'array'},\n",
       "    'description': {'title': 'Description', 'type': 'string'}},\n",
       "   'required': ['type', 'enum', 'description'],\n",
       "   'title': 'Type',\n",
       "   'type': 'object'},\n",
       "  'ju__pydantic_util__Type__2': {'properties': {'type': {'title': 'Type',\n",
       "     'type': 'string'},\n",
       "    'description': {'title': 'Description', 'type': 'string'},\n",
       "    'enum': {'items': {}, 'title': 'Enum', 'type': 'array'}},\n",
       "   'required': ['type', 'description', 'enum'],\n",
       "   'title': 'Type',\n",
       "   'type': 'object'}},\n",
       " 'properties': {'200': {'$ref': '#/$defs/200'},\n",
       "  '401': {'$ref': '#/$defs/401'},\n",
       "  '403': {'$ref': '#/$defs/403'},\n",
       "  '429': {'$ref': '#/$defs/429'}},\n",
       " 'required': ['200', '401', '403', '429'],\n",
       " 'title': 'DataBasedModel',\n",
       " 'type': 'object'}"
      ]
     },
     "execution_count": 36,
     "metadata": {},
     "output_type": "execute_result"
    }
   ],
   "source": [
    "import ju\n",
    "\n",
    "model = ju.data_to_pydantic_model(r.output_specs)\n",
    "model.schema()"
   ]
  },
  {
   "cell_type": "code",
   "execution_count": 38,
   "metadata": {},
   "outputs": [
    {
     "data": {
      "text/plain": [
       "pydantic.main.BaseModel"
      ]
     },
     "execution_count": 38,
     "metadata": {},
     "output_type": "execute_result"
    }
   ],
   "source": [
    "import pydantic"
   ]
  },
  {
   "cell_type": "code",
   "execution_count": null,
   "metadata": {},
   "outputs": [],
   "source": [
    "import hubcap"
   ]
  },
  {
   "cell_type": "code",
   "execution_count": 8,
   "metadata": {},
   "outputs": [
    {
     "ename": "ValueError",
     "evalue": "Error generating models: 'str' object has no attribute 'is_dir'",
     "output_type": "error",
     "traceback": [
      "\u001b[0;31m---------------------------------------------------------------------------\u001b[0m",
      "\u001b[0;31mAttributeError\u001b[0m                            Traceback (most recent call last)",
      "Cell \u001b[0;32mIn[8], line 26\u001b[0m, in \u001b[0;36mgenerate_models\u001b[0;34m(schema_input, output_file)\u001b[0m\n\u001b[1;32m     25\u001b[0m \u001b[38;5;66;03m# Generate models and write to output or temporary file\u001b[39;00m\n\u001b[0;32m---> 26\u001b[0m \u001b[43mgenerate\u001b[49m\u001b[43m(\u001b[49m\n\u001b[1;32m     27\u001b[0m \u001b[43m    \u001b[49m\u001b[43minput_\u001b[49m\u001b[38;5;241;43m=\u001b[39;49m\u001b[38;5;28;43mstr\u001b[39;49m\u001b[43m(\u001b[49m\u001b[43mtmp_schema_path\u001b[49m\u001b[43m)\u001b[49m\u001b[43m,\u001b[49m\n\u001b[1;32m     28\u001b[0m \u001b[43m    \u001b[49m\u001b[43minput_file_type\u001b[49m\u001b[38;5;241;43m=\u001b[39;49m\u001b[43mInputFileType\u001b[49m\u001b[38;5;241;43m.\u001b[39;49m\u001b[43mOpenAPI\u001b[49m\u001b[43m,\u001b[49m\n\u001b[1;32m     29\u001b[0m \u001b[43m    \u001b[49m\u001b[43moutput\u001b[49m\u001b[38;5;241;43m=\u001b[39;49m\u001b[38;5;28;43mstr\u001b[39;49m\u001b[43m(\u001b[49m\u001b[43moutput_file\u001b[49m\u001b[43m \u001b[49m\u001b[38;5;129;43;01mor\u001b[39;49;00m\u001b[43m \u001b[49m\u001b[43mtmp_output_path\u001b[49m\u001b[43m)\u001b[49m\n\u001b[1;32m     30\u001b[0m \u001b[43m\u001b[49m\u001b[43m)\u001b[49m\n\u001b[1;32m     32\u001b[0m \u001b[38;5;66;03m# If no output_file is specified, read and return the generated models as a string\u001b[39;00m\n",
      "File \u001b[0;32m~/.pyenv/versions/3.10.13/envs/p10/lib/python3.10/site-packages/datamodel_code_generator/__init__.py:484\u001b[0m, in \u001b[0;36mgenerate\u001b[0;34m(input_, input_filename, input_file_type, output, output_model_type, target_python_version, base_class, additional_imports, custom_template_dir, extra_template_data, validation, field_constraints, snake_case_field, strip_default_none, aliases, disable_timestamp, enable_version_header, allow_population_by_field_name, allow_extra_fields, apply_default_values_for_required_fields, force_optional_for_required_fields, class_name, use_standard_collections, use_schema_description, use_field_description, use_default_kwarg, reuse_model, encoding, enum_field_as_literal, use_one_literal_as_default, set_default_enum_member, use_subclass_enum, strict_nullable, use_generic_container_types, enable_faux_immutability, disable_appending_item_suffix, strict_types, empty_enum_field_name, custom_class_name_generator, field_extra_keys, field_include_all_keys, field_extra_keys_without_x_prefix, openapi_scopes, graphql_scopes, wrap_string_literal, use_title_as_name, use_operation_id_as_name, use_unique_items_as_set, http_headers, http_ignore_tls, use_annotated, use_non_positive_negative_number_constrained_types, original_field_name_delimiter, use_double_quotes, use_union_operator, collapse_root_models, special_field_name_prefix, remove_special_field_name_prefix, capitalise_enum_members, keep_model_order, custom_file_header, custom_file_header_path, custom_formatters, custom_formatters_kwargs, use_pendulum, http_query_parameters, treat_dots_as_module, use_exact_imports, union_mode, output_datetime_class, keyword_only)\u001b[0m\n\u001b[1;32m    406\u001b[0m parser \u001b[38;5;241m=\u001b[39m parser_class(\n\u001b[1;32m    407\u001b[0m     source\u001b[38;5;241m=\u001b[39minput_text \u001b[38;5;129;01mor\u001b[39;00m input_,\n\u001b[1;32m    408\u001b[0m     data_model_type\u001b[38;5;241m=\u001b[39mdata_model_types\u001b[38;5;241m.\u001b[39mdata_model,\n\u001b[0;32m   (...)\u001b[0m\n\u001b[1;32m    481\u001b[0m     \u001b[38;5;241m*\u001b[39m\u001b[38;5;241m*\u001b[39mkwargs,\n\u001b[1;32m    482\u001b[0m )\n\u001b[0;32m--> 484\u001b[0m \u001b[38;5;28;01mwith\u001b[39;00m chdir(output):\n\u001b[1;32m    485\u001b[0m     results \u001b[38;5;241m=\u001b[39m parser\u001b[38;5;241m.\u001b[39mparse()\n",
      "File \u001b[0;32m~/.pyenv/versions/3.10.13/lib/python3.10/contextlib.py:135\u001b[0m, in \u001b[0;36m_GeneratorContextManager.__enter__\u001b[0;34m(self)\u001b[0m\n\u001b[1;32m    134\u001b[0m \u001b[38;5;28;01mtry\u001b[39;00m:\n\u001b[0;32m--> 135\u001b[0m     \u001b[38;5;28;01mreturn\u001b[39;00m \u001b[38;5;28;43mnext\u001b[39;49m\u001b[43m(\u001b[49m\u001b[38;5;28;43mself\u001b[39;49m\u001b[38;5;241;43m.\u001b[39;49m\u001b[43mgen\u001b[49m\u001b[43m)\u001b[49m\n\u001b[1;32m    136\u001b[0m \u001b[38;5;28;01mexcept\u001b[39;00m \u001b[38;5;167;01mStopIteration\u001b[39;00m:\n",
      "File \u001b[0;32m~/.pyenv/versions/3.10.13/envs/p10/lib/python3.10/site-packages/datamodel_code_generator/__init__.py:128\u001b[0m, in \u001b[0;36mchdir\u001b[0;34m(path)\u001b[0m\n\u001b[1;32m    127\u001b[0m \u001b[38;5;28;01mtry\u001b[39;00m:\n\u001b[0;32m--> 128\u001b[0m     os\u001b[38;5;241m.\u001b[39mchdir(path \u001b[38;5;28;01mif\u001b[39;00m \u001b[43mpath\u001b[49m\u001b[38;5;241;43m.\u001b[39;49m\u001b[43mis_dir\u001b[49m() \u001b[38;5;28;01melse\u001b[39;00m path\u001b[38;5;241m.\u001b[39mparent)\n\u001b[1;32m    129\u001b[0m     \u001b[38;5;28;01myield\u001b[39;00m\n",
      "\u001b[0;31mAttributeError\u001b[0m: 'str' object has no attribute 'is_dir'",
      "\nDuring handling of the above exception, another exception occurred:\n",
      "\u001b[0;31mValueError\u001b[0m                                Traceback (most recent call last)",
      "Cell \u001b[0;32mIn[8], line 53\u001b[0m\n\u001b[1;32m     47\u001b[0m \u001b[38;5;66;03m# Example usage with schema dictionary\u001b[39;00m\n\u001b[1;32m     48\u001b[0m example_schema \u001b[38;5;241m=\u001b[39m {\n\u001b[1;32m     49\u001b[0m     \u001b[38;5;124m\"\u001b[39m\u001b[38;5;124mopenapi\u001b[39m\u001b[38;5;124m\"\u001b[39m: \u001b[38;5;124m\"\u001b[39m\u001b[38;5;124m3.0.0\u001b[39m\u001b[38;5;124m\"\u001b[39m,\n\u001b[1;32m     50\u001b[0m     \u001b[38;5;124m\"\u001b[39m\u001b[38;5;124minfo\u001b[39m\u001b[38;5;124m\"\u001b[39m: {\u001b[38;5;124m\"\u001b[39m\u001b[38;5;124mtitle\u001b[39m\u001b[38;5;124m\"\u001b[39m: \u001b[38;5;124m\"\u001b[39m\u001b[38;5;124mSample API\u001b[39m\u001b[38;5;124m\"\u001b[39m, \u001b[38;5;124m\"\u001b[39m\u001b[38;5;124mversion\u001b[39m\u001b[38;5;124m\"\u001b[39m: \u001b[38;5;124m\"\u001b[39m\u001b[38;5;124m1.0.0\u001b[39m\u001b[38;5;124m\"\u001b[39m},\n\u001b[1;32m     51\u001b[0m     \u001b[38;5;124m\"\u001b[39m\u001b[38;5;124mpaths\u001b[39m\u001b[38;5;124m\"\u001b[39m: {}\n\u001b[1;32m     52\u001b[0m }\n\u001b[0;32m---> 53\u001b[0m generated_model_str \u001b[38;5;241m=\u001b[39m \u001b[43mgenerate_models\u001b[49m\u001b[43m(\u001b[49m\u001b[43mschema_input\u001b[49m\u001b[38;5;241;43m=\u001b[39;49m\u001b[43mexample_schema\u001b[49m\u001b[43m)\u001b[49m\n\u001b[1;32m     54\u001b[0m \u001b[38;5;28mprint\u001b[39m(generated_model_str)\n",
      "Cell \u001b[0;32mIn[8], line 40\u001b[0m, in \u001b[0;36mgenerate_models\u001b[0;34m(schema_input, output_file)\u001b[0m\n\u001b[1;32m     38\u001b[0m     \u001b[38;5;28;01mreturn\u001b[39;00m \u001b[38;5;124m\"\u001b[39m\u001b[38;5;124m\"\u001b[39m\n\u001b[1;32m     39\u001b[0m \u001b[38;5;28;01mexcept\u001b[39;00m \u001b[38;5;167;01mException\u001b[39;00m \u001b[38;5;28;01mas\u001b[39;00m e:\n\u001b[0;32m---> 40\u001b[0m     \u001b[38;5;28;01mraise\u001b[39;00m \u001b[38;5;167;01mValueError\u001b[39;00m(\u001b[38;5;124mf\u001b[39m\u001b[38;5;124m\"\u001b[39m\u001b[38;5;124mError generating models: \u001b[39m\u001b[38;5;132;01m{\u001b[39;00me\u001b[38;5;132;01m}\u001b[39;00m\u001b[38;5;124m\"\u001b[39m)\n\u001b[1;32m     41\u001b[0m \u001b[38;5;28;01mfinally\u001b[39;00m:\n\u001b[1;32m     42\u001b[0m     \u001b[38;5;66;03m# Clean up temporary files\u001b[39;00m\n\u001b[1;32m     43\u001b[0m     tmp_schema_path\u001b[38;5;241m.\u001b[39munlink(missing_ok\u001b[38;5;241m=\u001b[39m\u001b[38;5;28;01mTrue\u001b[39;00m)\n",
      "\u001b[0;31mValueError\u001b[0m: Error generating models: 'str' object has no attribute 'is_dir'"
     ]
    }
   ],
   "source": [
    "from datamodel_code_generator import InputFileType, generate\n",
    "import tempfile\n",
    "import json\n",
    "from typing import Optional\n",
    "from pathlib import Path\n",
    "\n",
    "\n",
    "def generate_models(schema_input: dict, output_file: Optional[str] = None) -> str:\n",
    "    \"\"\"\n",
    "    Generate Pydantic models from a schema dictionary.\n",
    "\n",
    "    :param schema_input: A dictionary containing the schema.\n",
    "    :param output_file: Optional path to save the generated models. If None, the function returns the models as a string.\n",
    "    :return: A string containing the generated models.\n",
    "    \"\"\"\n",
    "    try:\n",
    "        # Convert schema dictionary to JSON and write to a temporary file\n",
    "        with tempfile.NamedTemporaryFile(suffix=\".json\", delete=False) as tmp_schema_file:\n",
    "            tmp_schema_file.write(json.dumps(schema_input).encode())\n",
    "            tmp_schema_path = Path(tmp_schema_file.name)\n",
    "\n",
    "        # Use a second temporary file if output_file is None\n",
    "        with tempfile.NamedTemporaryFile(suffix=\".py\", delete=False) as tmp_output_file:\n",
    "            tmp_output_path = Path(tmp_output_file.name)\n",
    "\n",
    "        # Generate models and write to output or temporary file\n",
    "        generate(\n",
    "            input_=str(tmp_schema_path),\n",
    "            input_file_type=InputFileType.OpenAPI,\n",
    "            output=str(output_file or tmp_output_path)\n",
    "        )\n",
    "\n",
    "        # If no output_file is specified, read and return the generated models as a string\n",
    "        if output_file is None:\n",
    "            with open(tmp_output_path, 'r') as f:\n",
    "                model_str = f.read()\n",
    "            return model_str\n",
    "\n",
    "        return \"\"\n",
    "    except Exception as e:\n",
    "        raise ValueError(f\"Error generating models: {e}\")\n",
    "    finally:\n",
    "        # Clean up temporary files\n",
    "        tmp_schema_path.unlink(missing_ok=True)\n",
    "        if output_file is None:\n",
    "            tmp_output_path.unlink(missing_ok=True)\n",
    "\n",
    "# Example usage with schema dictionary\n",
    "example_schema = {\n",
    "    \"openapi\": \"3.0.0\",\n",
    "    \"info\": {\"title\": \"Sample API\", \"version\": \"1.0.0\"},\n",
    "    \"paths\": {}\n",
    "}\n",
    "generated_model_str = generate_models(schema_input=example_schema)\n",
    "print(generated_model_str)"
   ]
  },
  {
   "cell_type": "code",
   "execution_count": null,
   "metadata": {},
   "outputs": [],
   "source": []
  },
  {
   "cell_type": "code",
   "execution_count": 5,
   "metadata": {},
   "outputs": [
    {
     "name": "stdout",
     "output_type": "stream",
     "text": [
      "asdfasdf\n"
     ]
    },
    {
     "ename": "ValueError",
     "evalue": "Error generating models: 'str' object has no attribute 'is_dir'",
     "output_type": "error",
     "traceback": [
      "\u001b[0;31m---------------------------------------------------------------------------\u001b[0m",
      "\u001b[0;31mAttributeError\u001b[0m                            Traceback (most recent call last)",
      "Cell \u001b[0;32mIn[5], line 39\u001b[0m, in \u001b[0;36mgenerate_models\u001b[0;34m(schema_input, output_file, input_file_type)\u001b[0m\n\u001b[1;32m     38\u001b[0m output_buffer \u001b[38;5;241m=\u001b[39m StringIO()\n\u001b[0;32m---> 39\u001b[0m \u001b[43mgenerate\u001b[49m\u001b[43m(\u001b[49m\n\u001b[1;32m     40\u001b[0m \u001b[43m    \u001b[49m\u001b[43minput_\u001b[49m\u001b[38;5;241;43m=\u001b[39;49m\u001b[43mtmp_file\u001b[49m\u001b[38;5;241;43m.\u001b[39;49m\u001b[43mname\u001b[49m\u001b[43m,\u001b[49m\n\u001b[1;32m     41\u001b[0m \u001b[43m    \u001b[49m\u001b[43minput_file_type\u001b[49m\u001b[38;5;241;43m=\u001b[39;49m\u001b[43minput_file_type\u001b[49m\u001b[43m,\u001b[49m\n\u001b[1;32m     42\u001b[0m \u001b[43m    \u001b[49m\u001b[43moutput\u001b[49m\u001b[38;5;241;43m=\u001b[39;49m\u001b[43moutput_file\u001b[49m\u001b[43m \u001b[49m\u001b[38;5;129;43;01mor\u001b[39;49;00m\u001b[43m \u001b[49m\u001b[43moutput_buffer\u001b[49m\n\u001b[1;32m     43\u001b[0m \u001b[43m\u001b[49m\u001b[43m)\u001b[49m\n\u001b[1;32m     45\u001b[0m \u001b[38;5;66;03m# If output_file was not provided, return the generated models from the buffer\u001b[39;00m\n",
      "File \u001b[0;32m~/.pyenv/versions/3.10.13/envs/p10/lib/python3.10/site-packages/datamodel_code_generator/__init__.py:484\u001b[0m, in \u001b[0;36mgenerate\u001b[0;34m(input_, input_filename, input_file_type, output, output_model_type, target_python_version, base_class, additional_imports, custom_template_dir, extra_template_data, validation, field_constraints, snake_case_field, strip_default_none, aliases, disable_timestamp, enable_version_header, allow_population_by_field_name, allow_extra_fields, apply_default_values_for_required_fields, force_optional_for_required_fields, class_name, use_standard_collections, use_schema_description, use_field_description, use_default_kwarg, reuse_model, encoding, enum_field_as_literal, use_one_literal_as_default, set_default_enum_member, use_subclass_enum, strict_nullable, use_generic_container_types, enable_faux_immutability, disable_appending_item_suffix, strict_types, empty_enum_field_name, custom_class_name_generator, field_extra_keys, field_include_all_keys, field_extra_keys_without_x_prefix, openapi_scopes, graphql_scopes, wrap_string_literal, use_title_as_name, use_operation_id_as_name, use_unique_items_as_set, http_headers, http_ignore_tls, use_annotated, use_non_positive_negative_number_constrained_types, original_field_name_delimiter, use_double_quotes, use_union_operator, collapse_root_models, special_field_name_prefix, remove_special_field_name_prefix, capitalise_enum_members, keep_model_order, custom_file_header, custom_file_header_path, custom_formatters, custom_formatters_kwargs, use_pendulum, http_query_parameters, treat_dots_as_module, use_exact_imports, union_mode, output_datetime_class, keyword_only)\u001b[0m\n\u001b[1;32m    406\u001b[0m parser \u001b[38;5;241m=\u001b[39m parser_class(\n\u001b[1;32m    407\u001b[0m     source\u001b[38;5;241m=\u001b[39minput_text \u001b[38;5;129;01mor\u001b[39;00m input_,\n\u001b[1;32m    408\u001b[0m     data_model_type\u001b[38;5;241m=\u001b[39mdata_model_types\u001b[38;5;241m.\u001b[39mdata_model,\n\u001b[0;32m   (...)\u001b[0m\n\u001b[1;32m    481\u001b[0m     \u001b[38;5;241m*\u001b[39m\u001b[38;5;241m*\u001b[39mkwargs,\n\u001b[1;32m    482\u001b[0m )\n\u001b[0;32m--> 484\u001b[0m \u001b[38;5;28;01mwith\u001b[39;00m chdir(output):\n\u001b[1;32m    485\u001b[0m     results \u001b[38;5;241m=\u001b[39m parser\u001b[38;5;241m.\u001b[39mparse()\n",
      "File \u001b[0;32m~/.pyenv/versions/3.10.13/lib/python3.10/contextlib.py:135\u001b[0m, in \u001b[0;36m_GeneratorContextManager.__enter__\u001b[0;34m(self)\u001b[0m\n\u001b[1;32m    134\u001b[0m \u001b[38;5;28;01mtry\u001b[39;00m:\n\u001b[0;32m--> 135\u001b[0m     \u001b[38;5;28;01mreturn\u001b[39;00m \u001b[38;5;28;43mnext\u001b[39;49m\u001b[43m(\u001b[49m\u001b[38;5;28;43mself\u001b[39;49m\u001b[38;5;241;43m.\u001b[39;49m\u001b[43mgen\u001b[49m\u001b[43m)\u001b[49m\n\u001b[1;32m    136\u001b[0m \u001b[38;5;28;01mexcept\u001b[39;00m \u001b[38;5;167;01mStopIteration\u001b[39;00m:\n",
      "File \u001b[0;32m~/.pyenv/versions/3.10.13/envs/p10/lib/python3.10/site-packages/datamodel_code_generator/__init__.py:128\u001b[0m, in \u001b[0;36mchdir\u001b[0;34m(path)\u001b[0m\n\u001b[1;32m    127\u001b[0m \u001b[38;5;28;01mtry\u001b[39;00m:\n\u001b[0;32m--> 128\u001b[0m     os\u001b[38;5;241m.\u001b[39mchdir(path \u001b[38;5;28;01mif\u001b[39;00m \u001b[43mpath\u001b[49m\u001b[38;5;241;43m.\u001b[39;49m\u001b[43mis_dir\u001b[49m() \u001b[38;5;28;01melse\u001b[39;00m path\u001b[38;5;241m.\u001b[39mparent)\n\u001b[1;32m    129\u001b[0m     \u001b[38;5;28;01myield\u001b[39;00m\n",
      "\u001b[0;31mAttributeError\u001b[0m: 'str' object has no attribute 'is_dir'",
      "\nDuring handling of the above exception, another exception occurred:\n",
      "\u001b[0;31mValueError\u001b[0m                                Traceback (most recent call last)",
      "Cell \u001b[0;32mIn[5], line 62\u001b[0m\n\u001b[1;32m     59\u001b[0m \u001b[38;5;28;01mimport\u001b[39;00m \u001b[38;5;21;01mos\u001b[39;00m\n\u001b[1;32m     61\u001b[0m \u001b[38;5;66;03m# Example usage\u001b[39;00m\n\u001b[0;32m---> 62\u001b[0m t \u001b[38;5;241m=\u001b[39m \u001b[43mgenerate_models\u001b[49m\u001b[43m(\u001b[49m\n\u001b[1;32m     63\u001b[0m \u001b[43m    \u001b[49m\u001b[38;5;124;43m\"\u001b[39;49m\u001b[38;5;124;43mhttps://raw.githubusercontent.com/sonallux/spotify-web-api/refs/heads/main/fixed-spotify-open-api.yml\u001b[39;49m\u001b[38;5;124;43m\"\u001b[39;49m\u001b[43m,\u001b[49m\n\u001b[1;32m     64\u001b[0m \u001b[43m    \u001b[49m\u001b[43moutput_file\u001b[49m\u001b[38;5;241;43m=\u001b[39;49m\u001b[43mos\u001b[49m\u001b[38;5;241;43m.\u001b[39;49m\u001b[43mpath\u001b[49m\u001b[38;5;241;43m.\u001b[39;49m\u001b[43mexpanduser\u001b[49m\u001b[43m(\u001b[49m\u001b[38;5;124;43m\"\u001b[39;49m\u001b[38;5;124;43m~/tmp/models.py\u001b[39;49m\u001b[38;5;124;43m\"\u001b[39;49m\u001b[43m)\u001b[49m\n\u001b[1;32m     65\u001b[0m \u001b[43m)\u001b[49m\n\u001b[1;32m     67\u001b[0m \u001b[38;5;28mlen\u001b[39m(t)\n",
      "Cell \u001b[0;32mIn[5], line 48\u001b[0m, in \u001b[0;36mgenerate_models\u001b[0;34m(schema_input, output_file, input_file_type)\u001b[0m\n\u001b[1;32m     46\u001b[0m         \u001b[38;5;28;01mreturn\u001b[39;00m output_buffer\u001b[38;5;241m.\u001b[39mgetvalue() \u001b[38;5;28;01mif\u001b[39;00m output_file \u001b[38;5;129;01mis\u001b[39;00m \u001b[38;5;28;01mNone\u001b[39;00m \u001b[38;5;28;01melse\u001b[39;00m output_buffer\u001b[38;5;241m.\u001b[39mgetvalue()\n\u001b[1;32m     47\u001b[0m \u001b[38;5;28;01mexcept\u001b[39;00m \u001b[38;5;167;01mException\u001b[39;00m \u001b[38;5;28;01mas\u001b[39;00m e:\n\u001b[0;32m---> 48\u001b[0m     \u001b[38;5;28;01mraise\u001b[39;00m \u001b[38;5;167;01mValueError\u001b[39;00m(\u001b[38;5;124mf\u001b[39m\u001b[38;5;124m\"\u001b[39m\u001b[38;5;124mError generating models: \u001b[39m\u001b[38;5;132;01m{\u001b[39;00me\u001b[38;5;132;01m}\u001b[39;00m\u001b[38;5;124m\"\u001b[39m)\n",
      "\u001b[0;31mValueError\u001b[0m: Error generating models: 'str' object has no attribute 'is_dir'"
     ]
    }
   ],
   "source": [
    "from datamodel_code_generator import InputFileType, generate\n",
    "import requests\n",
    "import tempfile\n",
    "import json\n",
    "from typing import Optional, Union\n",
    "from io import StringIO\n",
    "\n",
    "def generate_models(schema_input: Union[str, dict], output_file: Optional[str] = None, input_file_type: InputFileType = InputFileType.OpenAPI) -> str:\n",
    "    \"\"\"\n",
    "    Generate Pydantic models from a schema dictionary or URL.\n",
    "\n",
    "    :param schema_input: Either a dictionary containing the schema or a URL to fetch the schema from.\n",
    "    :param output_file: Optional path to save the generated models. If None, the function will only return the models as a string.\n",
    "    :param input_file_type: Type of schema (default is OpenAPI).\n",
    "    :return: A string containing the generated models.\n",
    "    \"\"\"\n",
    "    try:\n",
    "        # Check if input is a URL, download if so\n",
    "        if isinstance(schema_input, str) and schema_input.startswith(('http://', 'https://')):\n",
    "            response = requests.get(schema_input)\n",
    "            response.raise_for_status()\n",
    "            schema_content = response.text\n",
    "            if schema_input.endswith(\".json\"):\n",
    "                input_file_type = InputFileType.Json\n",
    "            elif schema_input.endswith((\".yml\", \".yaml\")):\n",
    "                print('asdfasdf')\n",
    "                input_file_type = InputFileType.Yaml\n",
    "        else:\n",
    "            # Assume schema_input is a dictionary and convert it to JSON\n",
    "            schema_content = json.dumps(schema_input)\n",
    "\n",
    "        # Use a temporary file to hold the schema\n",
    "        with tempfile.NamedTemporaryFile(suffix=\".json\" if input_file_type == InputFileType.Json else \".yml\") as tmp_file:\n",
    "            tmp_file.write(schema_content.encode())\n",
    "            tmp_file.flush()\n",
    "\n",
    "            # Generate models and capture output as a string\n",
    "            output_buffer = StringIO()\n",
    "            generate(\n",
    "                input_=tmp_file.name,\n",
    "                input_file_type=input_file_type,\n",
    "                output=output_file or output_buffer\n",
    "            )\n",
    "            \n",
    "            # If output_file was not provided, return the generated models from the buffer\n",
    "            return output_buffer.getvalue() if output_file is None else output_buffer.getvalue()\n",
    "    except Exception as e:\n",
    "        raise ValueError(f\"Error generating models: {e}\")\n",
    "\n",
    "# Example usage with schema dictionary\n",
    "# example_schema = {\n",
    "#     \"openapi\": \"3.0.0\",\n",
    "#     \"info\": {\"title\": \"API\", \"version\": \"1.0.0\"},\n",
    "#     \"paths\": {}\n",
    "# }\n",
    "# generated_model_str = generate_models(schema_input=example_schema)\n",
    "# print(generated_model_str)\n",
    "\n",
    "import os\n",
    "\n",
    "# Example usage\n",
    "t = generate_models(\n",
    "    \"https://raw.githubusercontent.com/sonallux/spotify-web-api/refs/heads/main/fixed-spotify-open-api.yml\",\n",
    "    output_file=os.path.expanduser(\"~/tmp/models.py\")\n",
    ")\n",
    "\n",
    "len(t)"
   ]
  },
  {
   "cell_type": "markdown",
   "metadata": {},
   "source": [
    "# Scrap: Spotify Access"
   ]
  },
  {
   "cell_type": "code",
   "execution_count": null,
   "metadata": {},
   "outputs": [
    {
     "name": "stdout",
     "output_type": "stream",
     "text": [
      "0 Buddy Holly\n",
      "1 Island In The Sun\n",
      "2 Say It Ain't So - Original Mix\n",
      "3 Undone - The Sweater Song\n",
      "4 Say It Ain't So\n",
      "5 I Just Threw Out The Love Of My Dreams\n",
      "6 Hash Pipe\n",
      "7 Beverly Hills\n",
      "8 Pork And Beans\n",
      "9 My Name Is Jonas\n",
      "10 Africa\n",
      "11 Think Fast (feat. Weezer)\n",
      "12 Pink Triangle\n",
      "13 The World Has Turned And Left Me Here\n",
      "14 In The Garage\n",
      "15 Take on Me\n",
      "16 Only In Dreams\n",
      "17 Holiday\n",
      "18 Perfect Situation\n",
      "19 Surf Wax America\n"
     ]
    }
   ],
   "source": [
    "import spotipy\n",
    "from spotipy.oauth2 import SpotifyClientCredentials\n",
    "import os\n",
    "\n",
    "\n",
    "sp = spotipy.Spotify(\n",
    "    auth_manager=SpotifyClientCredentials(\n",
    "        client_id=os.environ['SPOTIFY_API_CLIENT_ID'],\n",
    "        client_secret=os.environ['SPOTIFY_API_CLIENT_SECRET']\n",
    "    )\n",
    ")\n",
    "\n",
    "\n",
    "results = sp.search(q='weezer', limit=20)\n",
    "for idx, track in enumerate(results['tracks']['items']):\n",
    "    print(idx, track['name'])"
   ]
  },
  {
   "cell_type": "code",
   "execution_count": null,
   "metadata": {},
   "outputs": [
    {
     "data": {
      "text/plain": [
       "'./spotipy.md'"
      ]
     },
     "metadata": {},
     "output_type": "display_data"
    }
   ],
   "source": [
    "# __import__('scraped').markdown_of_site('https://spotipy.readthedocs.io/en/2.24.0/', save_filepath='./spotipy.md')"
   ]
  },
  {
   "cell_type": "code",
   "execution_count": 40,
   "metadata": {},
   "outputs": [],
   "source": [
    "from sung import search_tracks\n",
    "\n",
    "r = search_tracks('autumn leaves', limit=5, market='US', genre='jazz')"
   ]
  },
  {
   "cell_type": "code",
   "execution_count": 41,
   "metadata": {},
   "outputs": [
    {
     "data": {
      "text/plain": [
       "3"
      ]
     },
     "execution_count": 41,
     "metadata": {},
     "output_type": "execute_result"
    }
   ],
   "source": [
    "len(r)"
   ]
  },
  {
   "cell_type": "code",
   "execution_count": 42,
   "metadata": {},
   "outputs": [
    {
     "data": {
      "text/plain": [
       "{'album': {'album_type': 'album',\n",
       "  'artists': [{'external_urls': {'spotify': 'https://open.spotify.com/artist/7v4imS0moSyGdXyLgVTIV7'},\n",
       "    'href': 'https://api.spotify.com/v1/artists/7v4imS0moSyGdXyLgVTIV7',\n",
       "    'id': '7v4imS0moSyGdXyLgVTIV7',\n",
       "    'name': 'Nat King Cole',\n",
       "    'type': 'artist',\n",
       "    'uri': 'spotify:artist:7v4imS0moSyGdXyLgVTIV7'}],\n",
       "  'external_urls': {'spotify': 'https://open.spotify.com/album/1evRgENnDDNYH6KPjIFdQi'},\n",
       "  'href': 'https://api.spotify.com/v1/albums/1evRgENnDDNYH6KPjIFdQi',\n",
       "  'id': '1evRgENnDDNYH6KPjIFdQi',\n",
       "  'images': [{'height': 640,\n",
       "    'url': 'https://i.scdn.co/image/ab67616d0000b2738db55b7cb540f7ab7c344d1b',\n",
       "    'width': 640},\n",
       "   {'height': 300,\n",
       "    'url': 'https://i.scdn.co/image/ab67616d00001e028db55b7cb540f7ab7c344d1b',\n",
       "    'width': 300},\n",
       "   {'height': 64,\n",
       "    'url': 'https://i.scdn.co/image/ab67616d000048518db55b7cb540f7ab7c344d1b',\n",
       "    'width': 64}],\n",
       "  'is_playable': True,\n",
       "  'name': 'Sings For Two In Love',\n",
       "  'release_date': '1953-08-01',\n",
       "  'release_date_precision': 'day',\n",
       "  'total_tracks': 12,\n",
       "  'type': 'album',\n",
       "  'uri': 'spotify:album:1evRgENnDDNYH6KPjIFdQi'},\n",
       " 'artists': [{'external_urls': {'spotify': 'https://open.spotify.com/artist/7v4imS0moSyGdXyLgVTIV7'},\n",
       "   'href': 'https://api.spotify.com/v1/artists/7v4imS0moSyGdXyLgVTIV7',\n",
       "   'id': '7v4imS0moSyGdXyLgVTIV7',\n",
       "   'name': 'Nat King Cole',\n",
       "   'type': 'artist',\n",
       "   'uri': 'spotify:artist:7v4imS0moSyGdXyLgVTIV7'}],\n",
       " 'disc_number': 1,\n",
       " 'duration_ms': 160666,\n",
       " 'explicit': False,\n",
       " 'external_ids': {'isrc': 'USCA28700088'},\n",
       " 'external_urls': {'spotify': 'https://open.spotify.com/track/3AgqQbQWYLGsemeBHk1U1d'},\n",
       " 'href': 'https://api.spotify.com/v1/tracks/3AgqQbQWYLGsemeBHk1U1d',\n",
       " 'id': '3AgqQbQWYLGsemeBHk1U1d',\n",
       " 'is_local': False,\n",
       " 'is_playable': True,\n",
       " 'name': 'Autumn Leaves - Remastered 1987',\n",
       " 'popularity': 58,\n",
       " 'preview_url': None,\n",
       " 'track_number': 5,\n",
       " 'type': 'track',\n",
       " 'uri': 'spotify:track:3AgqQbQWYLGsemeBHk1U1d'}"
      ]
     },
     "execution_count": 42,
     "metadata": {},
     "output_type": "execute_result"
    }
   ],
   "source": [
    "r[0]"
   ]
  },
  {
   "cell_type": "code",
   "execution_count": 6,
   "metadata": {},
   "outputs": [
    {
     "name": "stdout",
     "output_type": "stream",
     "text": [
      "list(tt)=['album', 'artists', 'available_markets', 'disc_number', 'duration_ms', 'explicit', 'external_ids', 'external_urls', 'href', 'id', 'is_local', 'name', 'popularity', 'preview_url', 'track_number', 'type', 'uri']\n"
     ]
    },
    {
     "data": {
      "text/plain": [
       "{'album': {'album_type': 'album',\n",
       "  'artists': [{'external_urls': {'spotify': 'https://open.spotify.com/artist/7v4imS0moSyGdXyLgVTIV7'},\n",
       "    'href': 'https://api.spotify.com/v1/artists/7v4imS0moSyGdXyLgVTIV7',\n",
       "    'id': '7v4imS0moSyGdXyLgVTIV7',\n",
       "    'name': 'Nat King Cole',\n",
       "    'type': 'artist',\n",
       "    'uri': 'spotify:artist:7v4imS0moSyGdXyLgVTIV7'}],\n",
       "  'available_markets': ['AR', 'AU'],\n",
       "  'external_urls': {'spotify': 'https://open.spotify.com/album/1evRgENnDDNYH6KPjIFdQi'},\n",
       "  'href': 'https://api.spotify.com/v1/albums/1evRgENnDDNYH6KPjIFdQi',\n",
       "  'id': '1evRgENnDDNYH6KPjIFdQi',\n",
       "  'images': [{'height': 640,\n",
       "    'url': 'https://i.scdn.co/image/ab67616d0000b2738db55b7cb540f7ab7c344d1b',\n",
       "    'width': 640},\n",
       "   {'height': 300,\n",
       "    'url': 'https://i.scdn.co/image/ab67616d00001e028db55b7cb540f7ab7c344d1b',\n",
       "    'width': 300}],\n",
       "  'name': 'Sings For Two In Love',\n",
       "  'release_date': '1953-08-01',\n",
       "  'release_date_precision': 'day',\n",
       "  'total_tracks': 12,\n",
       "  'type': 'album',\n",
       "  'uri': 'spotify:album:1evRgENnDDNYH6KPjIFdQi'},\n",
       " 'artists': [{'external_urls': {'spotify': 'https://open.spotify.com/artist/7v4imS0moSyGdXyLgVTIV7'},\n",
       "   'href': 'https://api.spotify.com/v1/artists/7v4imS0moSyGdXyLgVTIV7',\n",
       "   'id': '7v4imS0moSyGdXyLgVTIV7',\n",
       "   'name': 'Nat King Cole',\n",
       "   'type': 'artist',\n",
       "   'uri': 'spotify:artist:7v4imS0moSyGdXyLgVTIV7'}],\n",
       " 'available_markets': ['AR', 'AU'],\n",
       " 'disc_number': 1,\n",
       " 'duration_ms': 160666,\n",
       " 'explicit': False,\n",
       " 'external_ids': {'isrc': 'USCA28700088'},\n",
       " 'external_urls': {'spotify': 'https://open.spotify.com/track/3AgqQbQWYLGsemeBHk1U1d'},\n",
       " 'href': 'https://api.spotify.com/v1/tracks/3AgqQbQWYLGsemeBHk1U1d',\n",
       " 'id': '3AgqQbQWYLGsemeBHk1U1d',\n",
       " 'is_local': False,\n",
       " 'name': 'Autumn Leaves - Remastered 1987',\n",
       " 'popularity': 58,\n",
       " 'preview_url': None,\n",
       " 'track_number': 5,\n",
       " 'type': 'track',\n",
       " 'uri': 'spotify:track:3AgqQbQWYLGsemeBHk1U1d'}"
      ]
     },
     "execution_count": 6,
     "metadata": {},
     "output_type": "execute_result"
    }
   ],
   "source": [
    "from lkj import truncate_dict_values\n",
    "tt = r[0]\n",
    "print(f\"{list(tt)=}\")\n",
    "truncate_dict_values(tt)"
   ]
  },
  {
   "cell_type": "code",
   "execution_count": 3,
   "metadata": {},
   "outputs": [
    {
     "data": {
      "text/plain": [
       "{'Alice in Wonderland': 899,\n",
       " 'Autumn Leaves': 899,\n",
       " 'Alphie': 901,\n",
       " 'A Night in Tunisia': 899,\n",
       " 'XXXXXX': 895}"
      ]
     },
     "execution_count": 3,
     "metadata": {},
     "output_type": "execute_result"
    }
   ],
   "source": [
    "from sung import search_tracks, extractor\n",
    "\n",
    "\n",
    "def totals_of_titles(titles):\n",
    "    for title in titles:\n",
    "        yield title, search_tracks(title, extractor('tracks.total'), limit=1)\n",
    "\n",
    "titles = [\n",
    "    'Alice in Wonderland',\n",
    "    'Autumn Leaves',\n",
    "    'Alphie',\n",
    "    'A Night in Tunisia',\n",
    "    'XXXXXX'\n",
    "]\n",
    "\n",
    "\n",
    "dict(totals_of_titles(titles))"
   ]
  },
  {
   "cell_type": "code",
   "execution_count": null,
   "metadata": {},
   "outputs": [
    {
     "data": {
      "text/plain": [
       "{'album': {'album_type': 'compilation',\n",
       "  'artists': [{'external_urls': {'spotify': 'https://open.spotify.com/artist/4iRZAbYvBqnxrbs6K25aJ7'},\n",
       "    'href': 'https://api.spotify.com/v1/artists/4iRZAbYvBqnxrbs6K25aJ7',\n",
       "    'id': '4iRZAbYvBqnxrbs6K25aJ7',\n",
       "    'name': 'The Dave Brubeck Quartet',\n",
       "    'type': 'artist',\n",
       "    'uri': 'spotify:artist:4iRZAbYvBqnxrbs6K25aJ7'},\n",
       "   {'external_urls': {'spotify': 'https://open.spotify.com/artist/68l2i6GeNtwQlhKS59u5bu'},\n",
       "    'href': 'https://api.spotify.com/v1/artists/68l2i6GeNtwQlhKS59u5bu',\n",
       "    'id': '68l2i6GeNtwQlhKS59u5bu',\n",
       "    'name': 'Paul Desmond',\n",
       "    'type': 'artist',\n",
       "    'uri': 'spotify:artist:68l2i6GeNtwQlhKS59u5bu'}],\n",
       "  'available_markets': ['AD', 'AE', 'AR', 'AT'],\n",
       "  'external_urls': {'spotify': 'https://open.spotify.com/album/7avXNC8bWn8FpQZuN1Dpqn'},\n",
       "  'href': 'https://api.spotify.com/v1/albums/7avXNC8bWn8FpQZuN1Dpqn',\n",
       "  'id': '7avXNC8bWn8FpQZuN1Dpqn',\n",
       "  'images': [{'height': 640,\n",
       "    'url': 'https://i.scdn.co/image/ab67616d0000b273e5d7bf46d50f23abfab0946d',\n",
       "    'width': 640},\n",
       "   {'height': 300,\n",
       "    'url': 'https://i.scdn.co/image/ab67616d00001e02e5d7bf46d50f23abfab0946d',\n",
       "    'width': 300},\n",
       "   {'height': 64,\n",
       "    'url': 'https://i.scdn.co/image/ab67616d00004851e5d7bf46d50f23abfab0946d',\n",
       "    'width': 64}],\n",
       "  'name': 'Stardust',\n",
       "  'release_date': '1983-01-01',\n",
       "  'release_date_precision': 'day',\n",
       "  'total_tracks': 17,\n",
       "  'type': 'album',\n",
       "  'uri': 'spotify:album:7avXNC8bWn8FpQZuN1Dpqn'},\n",
       " 'artists': [{'external_urls': {'spotify': 'https://open.spotify.com/artist/4iRZAbYvBqnxrbs6K25aJ7'},\n",
       "   'href': 'https://api.spotify.com/v1/artists/4iRZAbYvBqnxrbs6K25aJ7',\n",
       "   'id': '4iRZAbYvBqnxrbs6K25aJ7',\n",
       "   'name': 'The Dave Brubeck Quartet',\n",
       "   'type': 'artist',\n",
       "   'uri': 'spotify:artist:4iRZAbYvBqnxrbs6K25aJ7'}],\n",
       " 'available_markets': ['AD', 'AE', 'AR', 'AT'],\n",
       " 'disc_number': 1,\n",
       " 'duration_ms': 213533,\n",
       " 'explicit': False,\n",
       " 'external_ids': {'isrc': 'USFI85400234'},\n",
       " 'external_urls': {'spotify': 'https://open.spotify.com/track/60RYqzdFnNDWBbeXy6ArZm'},\n",
       " 'href': 'https://api.spotify.com/v1/tracks/60RYqzdFnNDWBbeXy6ArZm',\n",
       " 'id': '60RYqzdFnNDWBbeXy6ArZm',\n",
       " 'is_local': False,\n",
       " 'name': 'Alice In Wonderland',\n",
       " 'popularity': 18,\n",
       " 'preview_url': None,\n",
       " 'track_number': 13,\n",
       " 'type': 'track',\n",
       " 'uri': 'spotify:track:60RYqzdFnNDWBbeXy6ArZm'}"
      ]
     },
     "metadata": {},
     "output_type": "display_data"
    }
   ],
   "source": [
    "from lkj import truncate_dict_values\n",
    "t = r[5]\n",
    "truncate_dict_values(t, max_list_size=4)"
   ]
  },
  {
   "cell_type": "code",
   "execution_count": null,
   "metadata": {},
   "outputs": [
    {
     "data": {
      "text/plain": [
       "['album',\n",
       " 'artists',\n",
       " 'available_markets',\n",
       " 'disc_number',\n",
       " 'duration_ms',\n",
       " 'explicit',\n",
       " 'external_ids',\n",
       " 'external_urls',\n",
       " 'href',\n",
       " 'id',\n",
       " 'is_local',\n",
       " 'name',\n",
       " 'popularity',\n",
       " 'preview_url',\n",
       " 'track_number',\n",
       " 'type',\n",
       " 'uri']"
      ]
     },
     "metadata": {},
     "output_type": "display_data"
    }
   ],
   "source": [
    "list(t)"
   ]
  },
  {
   "cell_type": "code",
   "execution_count": null,
   "metadata": {},
   "outputs": [
    {
     "data": {
      "text/plain": [
       "18"
      ]
     },
     "metadata": {},
     "output_type": "display_data"
    }
   ],
   "source": [
    "t['popularity']"
   ]
  },
  {
   "cell_type": "code",
   "execution_count": null,
   "metadata": {},
   "outputs": [
    {
     "data": {
      "text/plain": [
       "{'spotify': 'https://open.spotify.com/track/6xAg1vsK3FXT8i8kD7Di4v'}"
      ]
     },
     "metadata": {},
     "output_type": "display_data"
    }
   ],
   "source": [
    "t['external_urls']"
   ]
  },
  {
   "cell_type": "code",
   "execution_count": null,
   "metadata": {},
   "outputs": [
    {
     "data": {
      "text/plain": [
       "{'spotify': 'https://open.spotify.com/track/3CD5lcPCsHt0DEJDF1OnWy'}"
      ]
     },
     "metadata": {},
     "output_type": "display_data"
    }
   ],
   "source": [
    "r[5]['external_urls']"
   ]
  },
  {
   "cell_type": "code",
   "execution_count": null,
   "metadata": {},
   "outputs": [],
   "source": [
    "it = search_songs('Alice in Wonderland (Jazz)')"
   ]
  },
  {
   "cell_type": "code",
   "execution_count": null,
   "metadata": {},
   "outputs": [],
   "source": [
    "w = next(it)"
   ]
  },
  {
   "cell_type": "code",
   "execution_count": null,
   "metadata": {},
   "outputs": [
    {
     "data": {
      "text/plain": [
       "['album',\n",
       " 'artists',\n",
       " 'available_markets',\n",
       " 'disc_number',\n",
       " 'duration_ms',\n",
       " 'explicit',\n",
       " 'external_ids',\n",
       " 'external_urls',\n",
       " 'href',\n",
       " 'id',\n",
       " 'is_local',\n",
       " 'name',\n",
       " 'popularity',\n",
       " 'preview_url',\n",
       " 'track_number',\n",
       " 'type',\n",
       " 'uri']"
      ]
     },
     "metadata": {},
     "output_type": "display_data"
    }
   ],
   "source": [
    "list(w)"
   ]
  },
  {
   "cell_type": "code",
   "execution_count": null,
   "metadata": {},
   "outputs": [
    {
     "data": {
      "text/plain": [
       "{'spotify': 'https://open.spotify.com/track/6xAg1vsK3FXT8i8kD7Di4v'}"
      ]
     },
     "metadata": {},
     "output_type": "display_data"
    }
   ],
   "source": []
  },
  {
   "cell_type": "code",
   "execution_count": null,
   "metadata": {},
   "outputs": [],
   "source": []
  },
  {
   "cell_type": "code",
   "execution_count": null,
   "metadata": {},
   "outputs": [],
   "source": []
  },
  {
   "cell_type": "code",
   "execution_count": null,
   "metadata": {},
   "outputs": [],
   "source": []
  },
  {
   "cell_type": "code",
   "execution_count": null,
   "metadata": {},
   "outputs": [],
   "source": []
  }
 ],
 "metadata": {
  "kernelspec": {
   "display_name": "p10",
   "language": "python",
   "name": "python3"
  },
  "language_info": {
   "codemirror_mode": {
    "name": "ipython",
    "version": 3
   },
   "file_extension": ".py",
   "mimetype": "text/x-python",
   "name": "python",
   "nbconvert_exporter": "python",
   "pygments_lexer": "ipython3",
   "version": "3.10.13"
  }
 },
 "nbformat": 4,
 "nbformat_minor": 2
}
