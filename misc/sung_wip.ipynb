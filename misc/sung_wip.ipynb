{
 "cells": [
  {
   "cell_type": "code",
   "execution_count": null,
   "metadata": {},
   "outputs": [],
   "source": []
  },
  {
   "cell_type": "code",
   "execution_count": null,
   "metadata": {},
   "outputs": [],
   "source": []
  },
  {
   "cell_type": "markdown",
   "metadata": {},
   "source": [
    "# Scrap: Spotify Access"
   ]
  },
  {
   "cell_type": "code",
   "execution_count": null,
   "metadata": {},
   "outputs": [
    {
     "name": "stdout",
     "output_type": "stream",
     "text": [
      "0 Buddy Holly\n",
      "1 Island In The Sun\n",
      "2 Say It Ain't So - Original Mix\n",
      "3 Undone - The Sweater Song\n",
      "4 Say It Ain't So\n",
      "5 I Just Threw Out The Love Of My Dreams\n",
      "6 Hash Pipe\n",
      "7 Beverly Hills\n",
      "8 Pork And Beans\n",
      "9 My Name Is Jonas\n",
      "10 Africa\n",
      "11 Think Fast (feat. Weezer)\n",
      "12 Pink Triangle\n",
      "13 The World Has Turned And Left Me Here\n",
      "14 In The Garage\n",
      "15 Take on Me\n",
      "16 Only In Dreams\n",
      "17 Holiday\n",
      "18 Perfect Situation\n",
      "19 Surf Wax America\n"
     ]
    }
   ],
   "source": [
    "import spotipy\n",
    "from spotipy.oauth2 import SpotifyClientCredentials\n",
    "import os\n",
    "\n",
    "\n",
    "sp = spotipy.Spotify(\n",
    "    auth_manager=SpotifyClientCredentials(\n",
    "        client_id=os.environ['SPOTIFY_API_CLIENT_ID'],\n",
    "        client_secret=os.environ['SPOTIFY_API_CLIENT_SECRET']\n",
    "    )\n",
    ")\n",
    "\n",
    "\n",
    "results = sp.search(q='weezer', limit=20)\n",
    "for idx, track in enumerate(results['tracks']['items']):\n",
    "    print(idx, track['name'])"
   ]
  },
  {
   "cell_type": "code",
   "execution_count": null,
   "metadata": {},
   "outputs": [
    {
     "data": {
      "text/plain": [
       "'./spotipy.md'"
      ]
     },
     "metadata": {},
     "output_type": "display_data"
    }
   ],
   "source": [
    "# __import__('scraped').markdown_of_site('https://spotipy.readthedocs.io/en/2.24.0/', save_filepath='./spotipy.md')"
   ]
  },
  {
   "cell_type": "code",
   "execution_count": 2,
   "metadata": {},
   "outputs": [],
   "source": [
    "from sung import search_tracks\n",
    "\n",
    "r = search_tracks('autumn leaves', limit=3)"
   ]
  },
  {
   "cell_type": "code",
   "execution_count": 4,
   "metadata": {},
   "outputs": [
    {
     "data": {
      "text/plain": [
       "3"
      ]
     },
     "execution_count": 4,
     "metadata": {},
     "output_type": "execute_result"
    }
   ],
   "source": [
    "len(r)"
   ]
  },
  {
   "cell_type": "code",
   "execution_count": 6,
   "metadata": {},
   "outputs": [
    {
     "name": "stdout",
     "output_type": "stream",
     "text": [
      "list(tt)=['album', 'artists', 'available_markets', 'disc_number', 'duration_ms', 'explicit', 'external_ids', 'external_urls', 'href', 'id', 'is_local', 'name', 'popularity', 'preview_url', 'track_number', 'type', 'uri']\n"
     ]
    },
    {
     "data": {
      "text/plain": [
       "{'album': {'album_type': 'album',\n",
       "  'artists': [{'external_urls': {'spotify': 'https://open.spotify.com/artist/7v4imS0moSyGdXyLgVTIV7'},\n",
       "    'href': 'https://api.spotify.com/v1/artists/7v4imS0moSyGdXyLgVTIV7',\n",
       "    'id': '7v4imS0moSyGdXyLgVTIV7',\n",
       "    'name': 'Nat King Cole',\n",
       "    'type': 'artist',\n",
       "    'uri': 'spotify:artist:7v4imS0moSyGdXyLgVTIV7'}],\n",
       "  'available_markets': ['AR', 'AU'],\n",
       "  'external_urls': {'spotify': 'https://open.spotify.com/album/1evRgENnDDNYH6KPjIFdQi'},\n",
       "  'href': 'https://api.spotify.com/v1/albums/1evRgENnDDNYH6KPjIFdQi',\n",
       "  'id': '1evRgENnDDNYH6KPjIFdQi',\n",
       "  'images': [{'height': 640,\n",
       "    'url': 'https://i.scdn.co/image/ab67616d0000b2738db55b7cb540f7ab7c344d1b',\n",
       "    'width': 640},\n",
       "   {'height': 300,\n",
       "    'url': 'https://i.scdn.co/image/ab67616d00001e028db55b7cb540f7ab7c344d1b',\n",
       "    'width': 300}],\n",
       "  'name': 'Sings For Two In Love',\n",
       "  'release_date': '1953-08-01',\n",
       "  'release_date_precision': 'day',\n",
       "  'total_tracks': 12,\n",
       "  'type': 'album',\n",
       "  'uri': 'spotify:album:1evRgENnDDNYH6KPjIFdQi'},\n",
       " 'artists': [{'external_urls': {'spotify': 'https://open.spotify.com/artist/7v4imS0moSyGdXyLgVTIV7'},\n",
       "   'href': 'https://api.spotify.com/v1/artists/7v4imS0moSyGdXyLgVTIV7',\n",
       "   'id': '7v4imS0moSyGdXyLgVTIV7',\n",
       "   'name': 'Nat King Cole',\n",
       "   'type': 'artist',\n",
       "   'uri': 'spotify:artist:7v4imS0moSyGdXyLgVTIV7'}],\n",
       " 'available_markets': ['AR', 'AU'],\n",
       " 'disc_number': 1,\n",
       " 'duration_ms': 160666,\n",
       " 'explicit': False,\n",
       " 'external_ids': {'isrc': 'USCA28700088'},\n",
       " 'external_urls': {'spotify': 'https://open.spotify.com/track/3AgqQbQWYLGsemeBHk1U1d'},\n",
       " 'href': 'https://api.spotify.com/v1/tracks/3AgqQbQWYLGsemeBHk1U1d',\n",
       " 'id': '3AgqQbQWYLGsemeBHk1U1d',\n",
       " 'is_local': False,\n",
       " 'name': 'Autumn Leaves - Remastered 1987',\n",
       " 'popularity': 58,\n",
       " 'preview_url': None,\n",
       " 'track_number': 5,\n",
       " 'type': 'track',\n",
       " 'uri': 'spotify:track:3AgqQbQWYLGsemeBHk1U1d'}"
      ]
     },
     "execution_count": 6,
     "metadata": {},
     "output_type": "execute_result"
    }
   ],
   "source": [
    "from lkj import truncate_dict_values\n",
    "tt = r[0]\n",
    "print(f\"{list(tt)=}\")\n",
    "truncate_dict_values(tt)"
   ]
  },
  {
   "cell_type": "code",
   "execution_count": 3,
   "metadata": {},
   "outputs": [
    {
     "data": {
      "text/plain": [
       "{'Alice in Wonderland': 899,\n",
       " 'Autumn Leaves': 899,\n",
       " 'Alphie': 901,\n",
       " 'A Night in Tunisia': 899,\n",
       " 'XXXXXX': 895}"
      ]
     },
     "execution_count": 3,
     "metadata": {},
     "output_type": "execute_result"
    }
   ],
   "source": [
    "from sung import search_tracks, extractor\n",
    "\n",
    "\n",
    "def totals_of_titles(titles):\n",
    "    for title in titles:\n",
    "        yield title, search_tracks(title, extractor('tracks.total'), limit=1)\n",
    "\n",
    "titles = [\n",
    "    'Alice in Wonderland',\n",
    "    'Autumn Leaves',\n",
    "    'Alphie',\n",
    "    'A Night in Tunisia',\n",
    "    'XXXXXX'\n",
    "]\n",
    "\n",
    "\n",
    "dict(totals_of_titles(titles))"
   ]
  },
  {
   "cell_type": "code",
   "execution_count": null,
   "metadata": {},
   "outputs": [
    {
     "data": {
      "text/plain": [
       "{'album': {'album_type': 'compilation',\n",
       "  'artists': [{'external_urls': {'spotify': 'https://open.spotify.com/artist/4iRZAbYvBqnxrbs6K25aJ7'},\n",
       "    'href': 'https://api.spotify.com/v1/artists/4iRZAbYvBqnxrbs6K25aJ7',\n",
       "    'id': '4iRZAbYvBqnxrbs6K25aJ7',\n",
       "    'name': 'The Dave Brubeck Quartet',\n",
       "    'type': 'artist',\n",
       "    'uri': 'spotify:artist:4iRZAbYvBqnxrbs6K25aJ7'},\n",
       "   {'external_urls': {'spotify': 'https://open.spotify.com/artist/68l2i6GeNtwQlhKS59u5bu'},\n",
       "    'href': 'https://api.spotify.com/v1/artists/68l2i6GeNtwQlhKS59u5bu',\n",
       "    'id': '68l2i6GeNtwQlhKS59u5bu',\n",
       "    'name': 'Paul Desmond',\n",
       "    'type': 'artist',\n",
       "    'uri': 'spotify:artist:68l2i6GeNtwQlhKS59u5bu'}],\n",
       "  'available_markets': ['AD', 'AE', 'AR', 'AT'],\n",
       "  'external_urls': {'spotify': 'https://open.spotify.com/album/7avXNC8bWn8FpQZuN1Dpqn'},\n",
       "  'href': 'https://api.spotify.com/v1/albums/7avXNC8bWn8FpQZuN1Dpqn',\n",
       "  'id': '7avXNC8bWn8FpQZuN1Dpqn',\n",
       "  'images': [{'height': 640,\n",
       "    'url': 'https://i.scdn.co/image/ab67616d0000b273e5d7bf46d50f23abfab0946d',\n",
       "    'width': 640},\n",
       "   {'height': 300,\n",
       "    'url': 'https://i.scdn.co/image/ab67616d00001e02e5d7bf46d50f23abfab0946d',\n",
       "    'width': 300},\n",
       "   {'height': 64,\n",
       "    'url': 'https://i.scdn.co/image/ab67616d00004851e5d7bf46d50f23abfab0946d',\n",
       "    'width': 64}],\n",
       "  'name': 'Stardust',\n",
       "  'release_date': '1983-01-01',\n",
       "  'release_date_precision': 'day',\n",
       "  'total_tracks': 17,\n",
       "  'type': 'album',\n",
       "  'uri': 'spotify:album:7avXNC8bWn8FpQZuN1Dpqn'},\n",
       " 'artists': [{'external_urls': {'spotify': 'https://open.spotify.com/artist/4iRZAbYvBqnxrbs6K25aJ7'},\n",
       "   'href': 'https://api.spotify.com/v1/artists/4iRZAbYvBqnxrbs6K25aJ7',\n",
       "   'id': '4iRZAbYvBqnxrbs6K25aJ7',\n",
       "   'name': 'The Dave Brubeck Quartet',\n",
       "   'type': 'artist',\n",
       "   'uri': 'spotify:artist:4iRZAbYvBqnxrbs6K25aJ7'}],\n",
       " 'available_markets': ['AD', 'AE', 'AR', 'AT'],\n",
       " 'disc_number': 1,\n",
       " 'duration_ms': 213533,\n",
       " 'explicit': False,\n",
       " 'external_ids': {'isrc': 'USFI85400234'},\n",
       " 'external_urls': {'spotify': 'https://open.spotify.com/track/60RYqzdFnNDWBbeXy6ArZm'},\n",
       " 'href': 'https://api.spotify.com/v1/tracks/60RYqzdFnNDWBbeXy6ArZm',\n",
       " 'id': '60RYqzdFnNDWBbeXy6ArZm',\n",
       " 'is_local': False,\n",
       " 'name': 'Alice In Wonderland',\n",
       " 'popularity': 18,\n",
       " 'preview_url': None,\n",
       " 'track_number': 13,\n",
       " 'type': 'track',\n",
       " 'uri': 'spotify:track:60RYqzdFnNDWBbeXy6ArZm'}"
      ]
     },
     "metadata": {},
     "output_type": "display_data"
    }
   ],
   "source": [
    "from lkj import truncate_dict_values\n",
    "t = r[5]\n",
    "truncate_dict_values(t, max_list_size=4)"
   ]
  },
  {
   "cell_type": "code",
   "execution_count": null,
   "metadata": {},
   "outputs": [
    {
     "data": {
      "text/plain": [
       "['album',\n",
       " 'artists',\n",
       " 'available_markets',\n",
       " 'disc_number',\n",
       " 'duration_ms',\n",
       " 'explicit',\n",
       " 'external_ids',\n",
       " 'external_urls',\n",
       " 'href',\n",
       " 'id',\n",
       " 'is_local',\n",
       " 'name',\n",
       " 'popularity',\n",
       " 'preview_url',\n",
       " 'track_number',\n",
       " 'type',\n",
       " 'uri']"
      ]
     },
     "metadata": {},
     "output_type": "display_data"
    }
   ],
   "source": [
    "list(t)"
   ]
  },
  {
   "cell_type": "code",
   "execution_count": null,
   "metadata": {},
   "outputs": [
    {
     "data": {
      "text/plain": [
       "18"
      ]
     },
     "metadata": {},
     "output_type": "display_data"
    }
   ],
   "source": [
    "t['popularity']"
   ]
  },
  {
   "cell_type": "code",
   "execution_count": null,
   "metadata": {},
   "outputs": [
    {
     "data": {
      "text/plain": [
       "{'spotify': 'https://open.spotify.com/track/6xAg1vsK3FXT8i8kD7Di4v'}"
      ]
     },
     "metadata": {},
     "output_type": "display_data"
    }
   ],
   "source": [
    "t['external_urls']"
   ]
  },
  {
   "cell_type": "code",
   "execution_count": null,
   "metadata": {},
   "outputs": [
    {
     "data": {
      "text/plain": [
       "{'spotify': 'https://open.spotify.com/track/3CD5lcPCsHt0DEJDF1OnWy'}"
      ]
     },
     "metadata": {},
     "output_type": "display_data"
    }
   ],
   "source": [
    "r[5]['external_urls']"
   ]
  },
  {
   "cell_type": "code",
   "execution_count": null,
   "metadata": {},
   "outputs": [],
   "source": [
    "it = search_songs('Alice in Wonderland (Jazz)')"
   ]
  },
  {
   "cell_type": "code",
   "execution_count": null,
   "metadata": {},
   "outputs": [],
   "source": [
    "w = next(it)"
   ]
  },
  {
   "cell_type": "code",
   "execution_count": null,
   "metadata": {},
   "outputs": [
    {
     "data": {
      "text/plain": [
       "['album',\n",
       " 'artists',\n",
       " 'available_markets',\n",
       " 'disc_number',\n",
       " 'duration_ms',\n",
       " 'explicit',\n",
       " 'external_ids',\n",
       " 'external_urls',\n",
       " 'href',\n",
       " 'id',\n",
       " 'is_local',\n",
       " 'name',\n",
       " 'popularity',\n",
       " 'preview_url',\n",
       " 'track_number',\n",
       " 'type',\n",
       " 'uri']"
      ]
     },
     "metadata": {},
     "output_type": "display_data"
    }
   ],
   "source": [
    "list(w)"
   ]
  },
  {
   "cell_type": "code",
   "execution_count": null,
   "metadata": {},
   "outputs": [
    {
     "data": {
      "text/plain": [
       "{'spotify': 'https://open.spotify.com/track/6xAg1vsK3FXT8i8kD7Di4v'}"
      ]
     },
     "metadata": {},
     "output_type": "display_data"
    }
   ],
   "source": []
  },
  {
   "cell_type": "code",
   "execution_count": null,
   "metadata": {},
   "outputs": [],
   "source": []
  },
  {
   "cell_type": "code",
   "execution_count": null,
   "metadata": {},
   "outputs": [],
   "source": []
  },
  {
   "cell_type": "code",
   "execution_count": null,
   "metadata": {},
   "outputs": [],
   "source": []
  },
  {
   "cell_type": "code",
   "execution_count": null,
   "metadata": {},
   "outputs": [],
   "source": []
  }
 ],
 "metadata": {
  "kernelspec": {
   "display_name": "p10",
   "language": "python",
   "name": "python3"
  },
  "language_info": {
   "codemirror_mode": {
    "name": "ipython",
    "version": 3
   },
   "file_extension": ".py",
   "mimetype": "text/x-python",
   "name": "python",
   "nbconvert_exporter": "python",
   "pygments_lexer": "ipython3",
   "version": "3.10.13"
  }
 },
 "nbformat": 4,
 "nbformat_minor": 2
}
