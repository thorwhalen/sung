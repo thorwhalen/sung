{
 "cells": [
  {
   "cell_type": "markdown",
   "id": "6331d9b2",
   "metadata": {},
   "source": [
    "# Chords and Lyrics Processing Demo\n",
    "\n",
    "This notebook demonstrates the powerful chords and lyrics processing capabilities of the `sung` package, including parsing, filtering, formatting, and rendering to various formats.\n",
    "\n",
    "## Overview\n",
    "\n",
    "The `sung` package provides tools for:\n",
    "- Searching and accessing a large dataset of songs with chords and lyrics\n",
    "- Parsing chord sheets into structured data\n",
    "- Filtering out non-lyrics content \n",
    "- Packing lines for better space usage\n",
    "- Rendering to text and PDF formats with custom styling"
   ]
  },
  {
   "cell_type": "markdown",
   "id": "27aa19a4",
   "metadata": {},
   "source": [
    "## Basic Usage\n",
    "\n",
    "Let's start by importing the necessary functions and searching for a song in the dataset."
   ]
  },
  {
   "cell_type": "code",
   "execution_count": 1,
   "id": "de0a7c17",
   "metadata": {},
   "outputs": [
    {
     "name": "stdout",
     "output_type": "stream",
     "text": [
      "Found 2 songs\n",
      "\n",
      "First song found:\n",
      "Title: Wonderwall\n",
      "Artist: Oasis\n"
     ]
    }
   ],
   "source": [
    "from sung import render_chords_and_lyrics, search_songs\n",
    "\n",
    "# Search for songs in the dataset\n",
    "songs = search_songs(title=\"wonderwall\", artist=\"oasis\")\n",
    "print(f\"Found {len(songs)} songs\")\n",
    "\n",
    "# Display the first few results\n",
    "if len(songs) > 0:\n",
    "    print(\"\\nFirst song found:\")\n",
    "    print(f\"Title: {songs.iloc[0]['song_name']}\")\n",
    "    print(f\"Artist: {songs.iloc[0]['artist_name']}\")\n",
    "else:\n",
    "    print(\"No songs found matching the criteria\")"
   ]
  },
  {
   "cell_type": "code",
   "execution_count": 2,
   "id": "2c059451",
   "metadata": {},
   "outputs": [
    {
     "name": "stdout",
     "output_type": "stream",
     "text": [
      "Raw chord sheet (first 500 characters):\n",
      "==================================================\n",
      "\n",
      "Capo on 2nd fret\n",
      "\t  \t\thide this tab        \n",
      "\n",
      "Intro: Em7 G D4 A7(4) (4x)\n",
      "(Simplified: Em G D A)   \n",
      "        \n",
      "Em7            G            \n",
      "Today is gonna be the day        \n",
      "             D4                    A7(4)        \n",
      "that they gonna throw it back to you,         \n",
      "Em7                  G        \n",
      "by now you should have somehow        \n",
      "D4                       A7(4)       \n",
      "realized what you gotta do.         \n",
      "Em7                   G        D4              A7(4)           \n",
      "I don't be\n",
      "==================================================\n",
      "\n",
      "Formatted text length: 3133 characters\n"
     ]
    }
   ],
   "source": [
    "# Get the raw chord sheet text\n",
    "if len(songs) > 0:\n",
    "    raw_text = songs.iloc[0]['chords&lyrics']\n",
    "    \n",
    "    # Display a preview of the raw text\n",
    "    print(\"Raw chord sheet (first 500 characters):\")\n",
    "    print(\"=\" * 50)\n",
    "    print(raw_text[:500])\n",
    "    print(\"=\" * 50)\n",
    "    \n",
    "    # Render to text (reconstruct the original format)\n",
    "    formatted_text = render_chords_and_lyrics(raw_text, to='text')\n",
    "    print(f\"\\nFormatted text length: {len(formatted_text)} characters\")\n",
    "else:\n",
    "    # Use a sample chord sheet if no songs found\n",
    "    raw_text = \"\"\"G                    D\n",
    "Here's a sample chord sheet\n",
    "Am              C\n",
    "With some lyrics below\n",
    "G           D           Am      C\n",
    "This is how chord sheets work\"\"\"\n",
    "    \n",
    "    print(\"Using sample chord sheet:\")\n",
    "    print(raw_text)"
   ]
  },
  {
   "cell_type": "markdown",
   "id": "179ff711",
   "metadata": {},
   "source": [
    "## Advanced Features\n",
    "\n",
    "Now let's explore the advanced filtering and formatting capabilities.\n",
    "\n",
    "**-->TODO: These are not actually working as expected (yet)**"
   ]
  },
  {
   "cell_type": "code",
   "execution_count": 15,
   "id": "e54e7c42",
   "metadata": {},
   "outputs": [],
   "source": [
    "from sung import remove_non_lyrics\n",
    "\n",
    "# Remove non-lyrics content (section headers, metadata, etc.)\n",
    "only_lyrics = render_chords_and_lyrics(\n",
    "    raw_text, \n",
    "    to='text', \n",
    "    filter_non_lyrics=True\n",
    ")"
   ]
  },
  {
   "cell_type": "code",
   "execution_count": 16,
   "id": "7b82e32c",
   "metadata": {},
   "outputs": [
    {
     "name": "stdout",
     "output_type": "stream",
     "text": [
      "\n",
      "Capo on 2nd fret\n",
      "\t  \t\thide this tab        \n",
      "\n",
      "Intro: Em7 G D4 A7(4) (4x)\n",
      "(Simplified: Em G D A)   \n",
      "        \n",
      "Em7            G            \n",
      "Today is gonna be the day        \n",
      "             D4                    A7(4)        \n",
      "that they gonna throw it back to you,         \n",
      "Em7                  G        \n",
      "by now you should have somehow        \n",
      "D4                       A7(4)       \n",
      "realized what you gotta do.         \n",
      "Em7                   G        D4              A7(4)           \n",
      "I don't be\n"
     ]
    }
   ],
   "source": [
    "print(raw_text[:500])"
   ]
  },
  {
   "cell_type": "code",
   "execution_count": 18,
   "id": "9fdde8e8",
   "metadata": {},
   "outputs": [
    {
     "name": "stdout",
     "output_type": "stream",
     "text": [
      "\n",
      "Capo on 2nd fret\n",
      "\t  \t\thide this tab        \n",
      "\n",
      "Intro: Em7 G D4 A7(4) (4x)\n",
      "(Simplified: Em G D A)   \n",
      "        \n",
      "Em7            G\n",
      "Today is gonna be the day        \n",
      "             D4                    A7(4)\n",
      "that they gonna throw it back to you,         \n",
      "Em7                  G\n",
      "by now you should have somehow        \n",
      "D4                       A7(4)\n",
      "realized what you gotta do.         \n",
      "Em7                   G        D4              A7(4)\n",
      "I don't belive that anybody feels the way I do        \n",
      "               \n"
     ]
    }
   ],
   "source": [
    "print(only_lyrics[:500])"
   ]
  },
  {
   "cell_type": "code",
   "execution_count": 20,
   "id": "76cebfba",
   "metadata": {},
   "outputs": [
    {
     "name": "stdout",
     "output_type": "stream",
     "text": [
      "Packed lyrics:\n",
      "\n",
      "Capo on 2nd fret hide this tab\n",
      "\n",
      "Intro: Em7 G D4 A7(4) (4x) (Simplified: Em G D A)\n",
      "        \n",
      "Em7            G\n",
      "Today is gonna be the day        \n",
      "             D4                    A7(4)\n",
      "that they gonna throw it back to you,         \n",
      "Em7                  G\n",
      "by now you should have somehow        \n",
      "D4                       A7(4)\n",
      "realized what you gotta do.         \n",
      "Em7                   G        D4              A7(4)\n",
      "I don't belive that anybody feels the way I do        \n",
      "                   C9     D4   \n"
     ]
    }
   ],
   "source": [
    "from sung import pack_song_text\n",
    "\n",
    "# Pack lines up to 80 characters\n",
    "packed_text = render_chords_and_lyrics(\n",
    "    raw_text, \n",
    "    to='text', \n",
    "    pack_lines=True, \n",
    "    max_line_length=130\n",
    ")\n",
    "\n",
    "print(\"Packed lyrics:\")\n",
    "print(packed_text[:500])  # Display first 500 characters"
   ]
  },
  {
   "cell_type": "code",
   "execution_count": null,
   "id": "5217e55e",
   "metadata": {},
   "outputs": [],
   "source": []
  }
 ],
 "metadata": {
  "kernelspec": {
   "display_name": "p10",
   "language": "python",
   "name": "python3"
  },
  "language_info": {
   "codemirror_mode": {
    "name": "ipython",
    "version": 3
   },
   "file_extension": ".py",
   "mimetype": "text/x-python",
   "name": "python",
   "nbconvert_exporter": "python",
   "pygments_lexer": "ipython3",
   "version": "3.10.13"
  }
 },
 "nbformat": 4,
 "nbformat_minor": 5
}
